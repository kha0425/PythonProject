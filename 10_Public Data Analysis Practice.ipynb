{
 "cells": [
  {
   "cell_type": "code",
   "execution_count": 1,
   "metadata": {},
   "outputs": [],
   "source": [
    "import json\n",
    "import urllib.request as request\n",
    "import share\n",
    "import requests\n",
    "import pandas as pd"
   ]
  },
  {
   "cell_type": "code",
   "execution_count": 2,
   "metadata": {},
   "outputs": [],
   "source": [
    "data_path = './data'\n",
    "out_path = './output'"
   ]
  },
  {
   "cell_type": "markdown",
   "metadata": {},
   "source": [
    "# 공공데이터 포털 데이터 분석"
   ]
  },
  {
   "cell_type": "markdown",
   "metadata": {},
   "source": [
    "## 1 에어코리아 측정소 정보 알아보기"
   ]
  },
  {
   "cell_type": "code",
   "execution_count": 3,
   "metadata": {},
   "outputs": [],
   "source": [
    "# 공공데이터 포털 사이트 접속 -> 회원가입\n",
    "# 한국환경공단_에어코리아_측정소정보\n",
    "# 대구에 있는 측정소의 측정소 명, 측정소 주소, 위도, 경도, 설치년도를 csv파일로 저장\n",
    "# 파일명 : daegu_air_list.csv"
   ]
  },
  {
   "cell_type": "code",
   "execution_count": 4,
   "metadata": {},
   "outputs": [],
   "source": [
    "service_key = share.data_service_key_dicode\n",
    "url = ' http://apis.data.go.kr/B552584/MsrstnInfoInqireSvc/getMsrstnList'\n",
    "params = {'serviceKey':service_key, 'returnType':'json','numOfRows':100,'pageNo':'1','addr':'대구'}"
   ]
  },
  {
   "cell_type": "code",
   "execution_count": 5,
   "metadata": {},
   "outputs": [
    {
     "name": "stdout",
     "output_type": "stream",
     "text": [
      "b'{\"response\":{\"body\":{\"totalCount\":28,\"items\":[{\"dmX\":\"35.8583333333\",\"item\":\"SO2, CO, O3, NO2, PM10, PM2.5\",\"mangName\":\"\\xeb\\x8f\\x84\\xec\\x8b\\x9c\\xeb\\x8c\\x80\\xea\\xb8\\xb0\",\"year\":\"2022\",\"addr\":\"\\xeb\\x8c\\x80\\xea\\xb5\\xac\\xea\\xb4\\x91\\xec\\x97\\xad\\xec\\x8b\\x9c \\xec\\xa4\\x91\\xea\\xb5\\xac \\xeb\\x82\\xa8\\xec\\x82\\xb0\\xeb\\xa1\\x9c2\\xea\\xb8\\xb8 125 \\xeb\\x8c\\x80\\xea\\xb5\\xac\\xeb\\xaa\\x85\\xeb\\x8d\\x95\\xec\\xb4\\x88\\xeb\\x93\\xb1\\xed\\x95\\x99\\xea\\xb5\\x90 (\\xeb\\x82\\xa8\\xec\\x82\\xb0\\xeb\\x8f\\x99)\",\"stationName\":\"\\xeb\\x82\\xa8\\xec\\x82\\xb01\\xeb\\x8f\\x99\",\"dmY\":\"128.5897222222\"},{\"dmX\":\"35.874296\",\"item\":\"SO2, CO, O3, NO2, PM10, PM2.5\",\"mangName\":\"\\xeb\\x8f\\x84\\xec\\x8b\\x9c\\xeb\\x8c\\x80\\xea\\xb8\\xb0\",\"year\":\"1999\",\"addr\":\"\\xeb\\x8c\\x80\\xea\\xb5\\xac \\xec\\xa4\\x91\\xea\\xb5\\xac \\xec\\x88\\x98\\xec\\xb0\\xbd\\xeb\\x8f\\x99 73 (\\xec\\x88\\x98\\xec\\xb0\\xbd\\xec\\xb4\\x88\\xeb\\x93\\xb1\\xed\\x95\\x99\\xea\\xb5\\x90)(\\xeb\\x8b\\xac\\xec\\x84\\xb1\\xeb\\xa1\\x9c 22\\xea\\xb8\\xb8 30) \\xec\\x88\\x98\\xec\\xb0\\xbd\\xec\\xb4\\x88\\xeb\\x93\\xb1\\xed\\x95\\x99\\xea\\xb5\\x90\",\"stationName\":\"\\xec\\x88\\x98\\xec\\xb0\\xbd\\xeb\\x8f\\x99\",\"dmY\":\"128.584136\"},{\"dmX\":\"35.830472\",\"item\":\"SO2, CO, O3, NO2, PM10, PM2.5\",\"mangName\":\"\\xeb\\x8f\\x84\\xec\\x8b\\x9c\\xeb\\x8c\\x80\\xea\\xb8\\xb0\",\"year\":\"1999\",\"addr\":\"\\xeb\\x8c\\x80\\xea\\xb5\\xac \\xec\\x88\\x98\\xec\\x84\\xb1\\xea\\xb5\\xac \\xec\\xa7\\x80\\xec\\x82\\xb0\\xeb\\x8f\\x99 761-11(\\xed\\x95\\x9c\\xea\\xb5\\xad\\xed\\x99\\x98\\xea\\xb2\\xbd\\xea\\xb3\\xb5\\xeb\\x8b\\xa8) (\\xeb\\xac\\xb4\\xed\\x95\\x99\\xeb\\xa1\\x9c 209) \\xed\\x95\\x9c\\xea\\xb5\\xad\\xed\\x99\\x98\\xea\\xb2\\xbd\\xea\\xb3\\xb5\\xeb\\x8b\\xa8\",\"stationName\":\"\\xec\\xa7\\x80\\xec\\x82\\xb0\\xeb\\x8f\\x99\",\"dmY\":\"128.63157\"},{\"dmX\":\"35.869104\",\"item\":\"SO2, CO, O3, NO2, PM10, PM2.5\",\"mangName\":\"\\xeb\\x8f\\x84\\xec\\x8b\\x9c\\xeb\\x8c\\x80\\xea\\xb8\\xb0\",\"year\":\"2001\",\"addr\":\"\\xeb\\x8c\\x80\\xea\\xb5\\xac \\xeb\\x8f\\x99\\xea\\xb5\\xac \\xec\\x84\\x9c\\xed\\x98\\xb8\\xeb\\x8f\\x99 25-1(\\xec\\x95\\x88\\xec\\x8b\\xac\\xeb\\xa1\\x9c49\\xea\\xb8\\xb8 70) \\xeb\\xb0\\x98\\xec\\x95\\xbc\\xec\\x9b\\x94\\xec\\xb4\\x88\\xeb\\x93\\xb1\\xed\\x95\\x99\\xea\\xb5\\x90 \\xec\\x98\\xa5\\xec\\x83\\x81\",\"stationName\":\"\\xec\\x84\\x9c\\xed\\x98\\xb8\\xeb\\x8f\\x99\",\"dmY\":\"128.711016\"},{\"dmX\":\"35.869556\",\"item\":\"SO2, CO, O3, NO2, PM10, PM2.5\",\"mangName\":\"\\xeb\\x8f\\x84\\xec\\x8b\\x9c\\xeb\\x8c\\x80\\xea\\xb8\\xb0\",\"year\":\"1994\",\"addr\":\"\\xeb\\x8c\\x80\\xea\\xb5\\xac \\xec\\x84\\x9c\\xea\\xb5\\xac \\xec\\x9d\\xb4\\xed\\x98\\x84\\xeb\\x8f\\x99 48-60 (\\xec\\xa4\\x91\\xeb\\xa6\\xac\\xec\\xb4\\x88\\xeb\\x93\\xb1\\xed\\x95\\x99\\xea\\xb5\\x90)(\\xea\\xb5\\xad\\xec\\xb1\\x84\\xeb\\xb3\\xb4\\xec\\x83\\x81\\xeb\\xa1\\x9c 135) \\xec\\xa4\\x91\\xeb\\xa6\\xac\\xec\\xb4\\x88\\xeb\\x93\\xb1\\xed\\x95\\x99\\xea\\xb5\\x90\",\"stationName\":\"\\xec\\x9d\\xb4\\xed\\x98\\x84\\xeb\\x8f\\x99\",\"dmY\":\"128.545323\"},{\"dmX\":\"35.880274\",\"item\":\"SO2, CO, O3, NO2, PM10, PM2.5\",\"mangName\":\"\\xeb\\x8f\\x84\\xeb\\xa1\\x9c\\xeb\\xb3\\x80\\xeb\\x8c\\x80\\xea\\xb8\\xb0\",\"year\":\"1998\",\"addr\":\"\\xeb\\x8c\\x80\\xea\\xb5\\xac \\xec\\x84\\x9c\\xea\\xb5\\xac \\xed\\x8f\\x89\\xeb\\xa6\\xac3\\xeb\\x8f\\x99 730-1 (\\xeb\\x8c\\x80\\xed\\x8f\\x89\\xec\\xa4\\x91\\xed\\x95\\x99\\xea\\xb5\\x90\\xeb\\x82\\xb4) (\\xed\\x86\\xb5\\xed\\x95\\x99\\xeb\\xa1\\x9c 217)\",\"stationName\":\"\\xed\\x8f\\x89\\xeb\\xa6\\xac\\xeb\\x8f\\x99\",\"dmY\":\"128.562491\"},{\"dmX\":\"35.845498\",\"item\":\"SO2, CO, O3, NO2, PM10, PM2.5\",\"mangName\":\"\\xeb\\x8f\\x84\\xec\\x8b\\x9c\\xeb\\x8c\\x80\\xea\\xb8\\xb0\",\"year\":\"2010\",\"addr\":\"\\xeb\\x8c\\x80\\xea\\xb5\\xac \\xeb\\x82\\xa8\\xea\\xb5\\xac \\xec\\x84\\xb1\\xeb\\x8b\\xb9\\xeb\\xa1\\x9c30\\xea\\xb8\\xb855 \\xec\\x84\\xb1\\xeb\\xaa\\x85\\xec\\xb4\\x88\\xeb\\x93\\xb1\\xed\\x95\\x99\\xea\\xb5\\x90\\xeb\\xb3\\x84\\xea\\xb4\\x803\\xec\\xb8\\xb5\\xec\\x98\\xa5\\xec\\x83\\x81 \\xec\\x84\\xb1\\xeb\\xaa\\x85\\xec\\xb4\\x88\\xeb\\x93\\xb1\\xed\\x95\\x99\\xea\\xb5\\x90 \\xeb\\xb3\\x84\\xea\\xb4\\x80 3\\xec\\xb8\\xb5 \\xec\\x98\\xa5\\xec\\x83\\x81\",\"stationName\":\"\\xeb\\x8c\\x80\\xeb\\xaa\\x85\\xeb\\x8f\\x99\",\"dmY\":\"128.571066\"},{\"dmX\":\"35.889757\",\"item\":\"SO2, CO, O3, NO2, PM10, PM2.5\",\"mangName\":\"\\xeb\\x8f\\x84\\xec\\x8b\\x9c\\xeb\\x8c\\x80\\xea\\xb8\\xb0\",\"year\":\"1998\",\"addr\":\"\\xeb\\x8c\\x80\\xea\\xb5\\xac \\xeb\\x8f\\x99\\xea\\xb5\\xac \\xec\\x8b\\xa0\\xec\\x95\\x94\\xeb\\x8f\\x99 72-1 (\\xec\\x8b\\xa0\\xec\\x95\\x945\\xeb\\x8f\\x99\\xec\\x82\\xac\\xeb\\xac\\xb4\\xec\\x86\\x8c)(\\xec\\x95\\x84\\xec\\x96\\x91\\xeb\\xa1\\x9c 37\\xea\\xb8\\xb8 92) \\xec\\xa3\\xbc\\xeb\\xaf\\xbc\\xec\\x84\\xbc\\xed\\x84\\xb0\",\"stationName\":\"\\xec\\x8b\\xa0\\xec\\x95\\x94\\xeb\\x8f\\x99\",\"dmY\":\"128.633064\"},{\"dmX\":\"35.923033\",\"item\":\"SO2, CO, O3, NO2, PM10, PM2.5\",\"mangName\":\"\\xeb\\x8f\\x84\\xec\\x8b\\x9c\\xeb\\x8c\\x80\\xea\\xb8\\xb0\",\"year\":\"2023\",\"addr\":\"\\xeb\\x8c\\x80\\xea\\xb5\\xac \\xeb\\xb6\\x81\\xea\\xb5\\xac \\xed\\x83\\x9c\\xec\\xa0\\x84\\xeb\\x8f\\x99 1076-5 (\\xed\\x83\\x9c\\xec\\x95\\x94\\xec\\xb4\\x88\\xeb\\x93\\xb1\\xed\\x95\\x99\\xea\\xb5\\x90)(\\xec\\xb9\\xa0\\xea\\xb3\\xa1\\xec\\xa4\\x91\\xec\\x95\\x99\\xeb\\x8c\\x80\\xeb\\xa1\\x9c 52\\xea\\xb8\\xb8 56) \\xed\\x83\\x9c\\xec\\x95\\x94\\xec\\xb4\\x88\\xeb\\x93\\xb1\\xed\\x95\\x99\\xea\\xb5\\x90 \\xeb\\x82\\xa8\\xea\\xb4\\x80 4\\xec\\xb8\\xb5 \\xec\\x98\\xa5\\xec\\x83\\x81\",\"stationName\":\"\\xed\\x83\\x9c\\xec\\xa0\\x84\\xeb\\x8f\\x99\",\"dmY\":\"128.550652\"},{\"dmX\":\"35.89324\",\"item\":\"SO2, CO, O3, NO2, PM10, PM2.5\",\"mangName\":\"\\xeb\\x8f\\x84\\xec\\x8b\\x9c\\xeb\\x8c\\x80\\xea\\xb8\\xb0\",\"year\":\"2020\",\"addr\":\"\\xeb\\x8c\\x80\\xea\\xb5\\xac\\xea\\xb4\\x91\\xec\\x97\\xad\\xec\\x8b\\x9c \\xeb\\xb6\\x81\\xea\\xb5\\xac \\xec\\x97\\xb0\\xec\\x95\\x94\\xeb\\xa1\\x9c 40 \\xec\\x8b\\x9c\\xec\\xb2\\xad \\xec\\x82\\xb0\\xea\\xb2\\xa9\\xec\\xb2\\xad\\xec\\x82\\xac 105\\xeb\\x8f\\x99 3\\xec\\xb8\\xb5 \\xec\\x98\\xa5\\xec\\x83\\x81 (\\xec\\x82\\xb0\\xea\\xb2\\xa9\\xeb\\x8f\\x99)\",\"stationName\":\"\\xec\\x82\\xb0\\xea\\xb2\\xa9\\xeb\\x8f\\x99\",\"dmY\":\"128.60201\"},{\"dmX\":\"35.911047\",\"item\":\"SO2, CO, O3, NO2, PM10, PM2.5\",\"mangName\":\"\\xeb\\x8f\\x84\\xeb\\xa1\\x9c\\xeb\\xb3\\x80\\xeb\\x8c\\x80\\xea\\xb8\\xb0\",\"year\":\"2023\",\"addr\":\"\\xeb\\x8c\\x80\\xea\\xb5\\xac\\xea\\xb4\\x91\\xec\\x97\\xad\\xec\\x8b\\x9c \\xeb\\xb6\\x81\\xea\\xb5\\xac \\xec\\x84\\x9c\\xeb\\xb3\\x80\\xeb\\x8f\\x99 124 \\xed\\x98\\xb8\\xea\\xb5\\xad\\xeb\\xa1\\x9c\\xeb\\x8f\\x84\\xeb\\xa1\\x9c\\xeb\\xb3\\x80\",\"stationName\":\"\\xec\\x84\\x9c\\xeb\\xb3\\x80\\xeb\\x8f\\x99\",\"dmY\":\"128.599759\"},{\"dmX\":\"35.839594\",\"item\":\"SO2, CO, O3, NO2, PM10, PM2.5\",\"mangName\":\"\\xeb\\x8f\\x84\\xeb\\xa1\\x9c\\xeb\\xb3\\x80\\xeb\\x8c\\x80\\xea\\xb8\\xb0\",\"year\":\"2023\",\"addr\":\"\\xeb\\x8c\\x80\\xea\\xb5\\xac\\xea\\xb4\\x91\\xec\\x97\\xad\\xec\\x8b\\x9c \\xec\\x88\\x98\\xec\\x84\\xb1\\xea\\xb5\\xac \\xeb\\x8b\\xac\\xea\\xb5\\xac\\xeb\\xb2\\x8c\\xeb\\x8c\\x80\\xeb\\xa1\\x9c \\xec\\xa7\\x80\\xed\\x95\\x982950 (\\xec\\x97\\xb0\\xed\\x98\\xb8\\xeb\\x8f\\x99) \\xeb\\x8b\\xac\\xea\\xb5\\xac\\xeb\\xb2\\x8c\\xeb\\x8c\\x80\\xeb\\xa1\\x9c\\xeb\\xb3\\x80\",\"stationName\":\"\\xec\\x97\\xb0\\xed\\x98\\xb8\\xeb\\x8f\\x99\",\"dmY\":\"128.682225\"},{\"dmX\":\"35.865276\",\"item\":\"SO2, CO, O3, NO2, PM10, PM2.5\",\"mangName\":\"\\xeb\\x8f\\x84\\xec\\x8b\\x9c\\xeb\\x8c\\x80\\xea\\xb8\\xb0\",\"year\":\"1996\",\"addr\":\"\\xeb\\x8c\\x80\\xea\\xb5\\xac \\xec\\x88\\x98\\xec\\x84\\xb1\\xea\\xb5\\xac \\xeb\\xa7\\x8c\\xec\\xb4\\x8c2\\xeb\\x8f\\x99 934 (\\xeb\\x8f\\x99\\xec\\x9b\\x90\\xec\\xb4\\x88\\xeb\\x93\\xb1\\xed\\x95\\x99\\xea\\xb5\\x90)(\\xea\\xb5\\xad\\xec\\xb1\\x84\\xeb\\xb3\\xb4\\xec\\x83\\x81\\xeb\\xa1\\x9c 1000) \\xeb\\x8f\\x99\\xec\\x9b\\x90\\xec\\xb4\\x88\\xeb\\x93\\xb1\\xed\\x95\\x99\\xea\\xb5\\x90\",\"stationName\":\"\\xeb\\xa7\\x8c\\xec\\xb4\\x8c\\xeb\\x8f\\x99\",\"dmY\":\"128.640031\"},{\"dmX\":\"35.837879\",\"item\":\"SO2, CO, O3, NO2, PM10, PM2.5\",\"mangName\":\"\\xeb\\x8f\\x84\\xec\\x8b\\x9c\\xeb\\x8c\\x80\\xea\\xb8\\xb0\",\"year\":\"2002\",\"addr\":\"\\xeb\\x8c\\x80\\xea\\xb5\\xac \\xeb\\x8b\\xac\\xec\\x84\\x9c\\xea\\xb5\\xac \\xec\\x84\\xb1\\xec\\x84\\x9c\\xea\\xb3\\xb5\\xeb\\x8b\\xa8\\xeb\\xa1\\x9c 11\\xea\\xb8\\xb8 32 \\xeb\\x8c\\x80\\xea\\xb5\\xac\\xea\\xb8\\xb0\\xea\\xb3\\x84\\xeb\\xb6\\x80\\xed\\x92\\x88\\xec\\x97\\xb0\\xea\\xb5\\xac\\xec\\x9b\\x90 1\\xeb\\x8f\\x99 \\xec\\x98\\xa5\\xec\\x83\\x81 \\xeb\\x8c\\x80\\xea\\xb5\\xac\\xea\\xb8\\xb0\\xea\\xb3\\x84\\xeb\\xb6\\x80\\xed\\x92\\x88\\xec\\x97\\xb0\\xea\\xb5\\xac\\xec\\x9b\\x90\",\"stationName\":\"\\xed\\x98\\xb8\\xeb\\xa6\\xbc\\xeb\\x8f\\x99\",\"dmY\":\"128.488731\"},{\"dmX\":\"35.695336\",\"item\":\"SO2, CO, O3, NO2, PM10, PM2.5\",\"mangName\":\"\\xeb\\x8f\\x84\\xec\\x8b\\x9c\\xeb\\x8c\\x80\\xea\\xb8\\xb0\",\"year\":\"2003\",\"addr\":\"\\xeb\\x8c\\x80\\xea\\xb5\\xac\\xea\\xb4\\x91\\xec\\x97\\xad\\xec\\x8b\\x9c \\xeb\\x8b\\xac\\xec\\x84\\xb1\\xea\\xb5\\xb0 \\xec\\x9c\\xa0\\xea\\xb0\\x80\\xec\\x9d\\x8d \\xed\\x85\\x8c\\xed\\x81\\xac\\xeb\\x85\\xb8\\xeb\\xb6\\x81\\xeb\\xa1\\x9c6\\xea\\xb8\\xb8 20 \\xeb\\xb9\\x84\\xec\\x8a\\xac\\xea\\xb3\\xb5\\xec\\x9b\\x90\",\"stationName\":\"\\xec\\x9c\\xa0\\xea\\xb0\\x80\\xec\\x9d\\x8d\",\"dmY\":\"128.459293\"},{\"dmX\":\"35.851205\",\"item\":\"SO2, CO, O3, NO2, PM10, PM2.5\",\"mangName\":\"\\xeb\\x8f\\x84\\xeb\\xa1\\x9c\\xeb\\xb3\\x80\\xeb\\x8c\\x80\\xea\\xb8\\xb0\",\"year\":\"2016\",\"addr\":\"\\xeb\\x8c\\x80\\xea\\xb5\\xac \\xeb\\x8b\\xac\\xec\\x84\\x9c\\xea\\xb5\\xac \\xec\\x9d\\xb4\\xea\\xb3\\xa1\\xeb\\x8f\\x99 1258-2\",\"stationName\":\"\\xec\\x9d\\xb4\\xea\\xb3\\xa1\\xeb\\x8f\\x99\",\"dmY\":\"128.51153\"},{\"dmX\":\"35.837626\",\"item\":\"SO2, CO, O3, NO2, PM10, PM2.5\",\"mangName\":\"\\xeb\\x8f\\x84\\xec\\x8b\\x9c\\xeb\\x8c\\x80\\xea\\xb8\\xb0\",\"year\":\"2017\",\"addr\":\"\\xeb\\x8c\\x80\\xea\\xb5\\xac\\xea\\xb4\\x91\\xec\\x97\\xad\\xec\\x8b\\x9c \\xec\\x88\\x98\\xec\\x84\\xb1\\xea\\xb5\\xac \\xeb\\x85\\xb8\\xeb\\xb3\\x80\\xea\\xb3\\xb5\\xec\\x9b\\x90\\xeb\\xa1\\x9c 52 \\xeb\\x85\\xb8\\xeb\\xb3\\x80\\xec\\xb4\\x88\\xeb\\x93\\xb1\\xed\\x95\\x99\\xea\\xb5\\x90 (\\xec\\x8b\\x9c\\xec\\xa7\\x80\\xeb\\x8f\\x99)\",\"stationName\":\"\\xec\\x8b\\x9c\\xec\\xa7\\x80\\xeb\\x8f\\x99\",\"dmY\":\"128.697558\"},{\"dmX\":\"35.816726\",\"item\":\"SO2, CO, O3, NO2, PM10, PM2.5\",\"mangName\":\"\\xeb\\x8f\\x84\\xec\\x8b\\x9c\\xeb\\x8c\\x80\\xea\\xb8\\xb0\",\"year\":\"2017\",\"addr\":\"\\xeb\\x8c\\x80\\xea\\xb5\\xac\\xea\\xb4\\x91\\xec\\x97\\xad\\xec\\x8b\\x9c \\xeb\\x8b\\xac\\xec\\x84\\x9c\\xea\\xb5\\xac \\xec\\x9b\\x94\\xeb\\xb0\\xb0\\xeb\\xa1\\x9c 131 \\xec\\x9b\\x94\\xeb\\xb0\\xb0\\xec\\xb4\\x88\\xeb\\x93\\xb1\\xed\\x95\\x99\\xea\\xb5\\x90 (\\xec\\xa7\\x84\\xec\\xb2\\x9c\\xeb\\x8f\\x99)\",\"stationName\":\"\\xec\\xa7\\x84\\xec\\xb2\\x9c\\xeb\\x8f\\x99\",\"dmY\":\"128.528732\"},{\"dmX\":\"35.864922\",\"item\":\"SO2, CO, O3, NO2, PM10, PM2.5\",\"mangName\":\"\\xeb\\x8f\\x84\\xec\\x8b\\x9c\\xeb\\x8c\\x80\\xea\\xb8\\xb0\",\"year\":\"2018\",\"addr\":\"\\xeb\\x8c\\x80\\xea\\xb5\\xac\\xea\\xb4\\x91\\xec\\x97\\xad\\xec\\x8b\\x9c \\xeb\\x8b\\xac\\xec\\x84\\xb1\\xea\\xb5\\xb0 \\xeb\\x8b\\xa4\\xec\\x82\\xac\\xec\\x9d\\x8d \\xeb\\xa7\\xa4\\xea\\xb3\\xa1\\xeb\\xa1\\x9c12\\xea\\xb8\\xb8 37 \\xeb\\x8b\\xa4\\xec\\x82\\xac\\xec\\x9d\\x8d\\xec\\xa3\\xbc\\xeb\\xaf\\xbc\\xec\\x9e\\x90\\xec\\xb9\\x98\\xec\\x84\\xbc\\xed\\x84\\xb0\",\"stationName\":\"\\xeb\\x8b\\xa4\\xec\\x82\\xac\\xec\\x9d\\x8d\",\"dmY\":\"128.457164\"},{\"dmX\":\"35.83433\",\"item\":\"SO2, CO, O3, NO2, PM10, PM2.5\",\"mangName\":\"\\xeb\\x8f\\x84\\xec\\x8b\\x9c\\xeb\\x8c\\x80\\xea\\xb8\\xb0\",\"year\":\"2019\",\"addr\":\"\\xeb\\x8c\\x80\\xea\\xb5\\xac\\xea\\xb4\\x91\\xec\\x97\\xad\\xec\\x8b\\x9c \\xeb\\x8b\\xac\\xec\\x84\\x9c\\xea\\xb5\\xac \\xea\\xb5\\xac\\xeb\\xa7\\x88\\xeb\\xa1\\x9c26\\xea\\xb8\\xb8 62 \\xeb\\xb3\\xb8\\xeb\\x8f\\x99\\xed\\x96\\x89\\xec\\xa0\\x95\\xeb\\xb3\\xb5\\xec\\xa7\\x80\\xec\\x84\\xbc\\xed\\x84\\xb0 (\\xeb\\xb3\\xb8\\xeb\\x8f\\x99)\",\"stationName\":\"\\xeb\\xb3\\xb8\\xeb\\x8f\\x99\",\"dmY\":\"128.541083\"},{\"dmX\":\"35.859\",\"item\":\"SO2, CO, O3, NO2, PM10, PM2.5\",\"mangName\":\"\\xeb\\x8f\\x84\\xec\\x8b\\x9c\\xeb\\x8c\\x80\\xea\\xb8\\xb0\",\"year\":\"2020\",\"addr\":\"\\xeb\\x8c\\x80\\xea\\xb5\\xac\\xea\\xb4\\x91\\xec\\x97\\xad\\xec\\x8b\\x9c \\xec\\x84\\x9c\\xea\\xb5\\xac \\xec\\x84\\x9c\\xeb\\x8c\\x80\\xea\\xb5\\xac\\xeb\\xa1\\x9c3\\xea\\xb8\\xb8 46 \\xeb\\x82\\xb4\\xeb\\x8b\\xb94\\xeb\\x8f\\x99 \\xed\\x96\\x89\\xec\\xa0\\x95\\xeb\\xb3\\xb5\\xec\\xa7\\x80\\xec\\x84\\xbc\\xed\\x84\\xb0 3\\xec\\xb8\\xb5 \\xec\\x98\\xa5\\xec\\x83\\x81 (\\xeb\\x82\\xb4\\xeb\\x8b\\xb9\\xeb\\x8f\\x99)\",\"stationName\":\"\\xeb\\x82\\xb4\\xeb\\x8b\\xb9\\xeb\\x8f\\x99\",\"dmY\":\"128.55183\"},{\"dmX\":\"35.88761\",\"item\":\"SO2, CO, O3, NO2, PM10, PM2.5\",\"mangName\":\"\\xeb\\x8f\\x84\\xec\\x8b\\x9c\\xeb\\x8c\\x80\\xea\\xb8\\xb0\",\"year\":\"2020\",\"addr\":\"\\xeb\\x8c\\x80\\xea\\xb5\\xac\\xea\\xb4\\x91\\xec\\x97\\xad\\xec\\x8b\\x9c \\xeb\\xb6\\x81\\xea\\xb5\\xac \\xec\\x98\\xa5\\xec\\x82\\xb0\\xeb\\xa1\\x9c17\\xea\\xb8\\xb8 21 \\xeb\\x8c\\x80\\xea\\xb5\\xac\\xec\\x9d\\xbc\\xec\\xa4\\x91\\xed\\x95\\x99\\xea\\xb5\\x90 (\\xec\\xb9\\xa8\\xec\\x82\\xb0\\xeb\\x8f\\x99)\",\"stationName\":\"\\xec\\xb9\\xa8\\xec\\x82\\xb0\\xeb\\x8f\\x99\",\"dmY\":\"128.58434\"},{\"dmX\":\"35.79736\",\"item\":\"SO2, CO, O3, NO2, PM10, PM2.5\",\"mangName\":\"\\xeb\\x8f\\x84\\xec\\x8b\\x9c\\xeb\\x8c\\x80\\xea\\xb8\\xb0\",\"year\":\"2020\",\"addr\":\"\\xeb\\x8c\\x80\\xea\\xb5\\xac\\xea\\xb4\\x91\\xec\\x97\\xad\\xec\\x8b\\x9c \\xeb\\x8b\\xac\\xec\\x84\\xb1\\xea\\xb5\\xb0 \\xed\\x99\\x94\\xec\\x9b\\x90\\xec\\x9d\\x8d \\xec\\x9d\\xb8\\xed\\x9d\\xa51\\xea\\xb8\\xb8 12 \\xed\\x99\\x94\\xec\\x9b\\x90\\xeb\\xaa\\x85\\xea\\xb3\\xa1\\xec\\xb2\\xb4\\xec\\x9c\\xa1\\xea\\xb3\\xb5\\xec\\x9b\\x90\",\"stationName\":\"\\xed\\x99\\x94\\xec\\x9b\\x90\\xec\\x9d\\x8d\",\"dmY\":\"128.50485\"},{\"dmX\":\"35.832255\",\"item\":\"SO2, CO, O3, NO2, PM10, PM2.5\",\"mangName\":\"\\xeb\\x8f\\x84\\xeb\\xa1\\x9c\\xeb\\xb3\\x80\\xeb\\x8c\\x80\\xea\\xb8\\xb0\",\"year\":\"2022\",\"addr\":\"\\xeb\\x8c\\x80\\xea\\xb5\\xac\\xea\\xb4\\x91\\xec\\x97\\xad\\xec\\x8b\\x9c \\xeb\\x82\\xa8\\xea\\xb5\\xac \\xec\\x95\\x9e\\xec\\x82\\xb0\\xec\\x88\\x9c\\xed\\x99\\x98\\xeb\\xa1\\x9c 540 \\xec\\xb6\\xa9\\xed\\x98\\xbc\\xed\\x83\\x91 \\xec\\xa3\\xbc\\xec\\xb0\\xa8\\xec\\x9e\\xa5 \\xec\\x95\\x9e (\\xeb\\x8c\\x80\\xeb\\xaa\\x85\\xeb\\x8f\\x99)\",\"stationName\":\"\\xec\\xb6\\xa9\\xed\\x98\\xbc\\xed\\x83\\x91\",\"dmY\":\"128.583743\"},{\"dmX\":\"36.234746\",\"item\":\"SO2, CO, O3, NO2, PM10, PM2.5\",\"mangName\":\"\\xeb\\x8f\\x84\\xec\\x8b\\x9c\\xeb\\x8c\\x80\\xea\\xb8\\xb0\",\"year\":\"2019\",\"addr\":\"\\xeb\\x8c\\x80\\xea\\xb5\\xac\\xea\\xb4\\x91\\xec\\x97\\xad\\xec\\x8b\\x9c \\xea\\xb5\\xb0\\xec\\x9c\\x84\\xea\\xb5\\xb0 \\xea\\xb5\\xb0\\xec\\x9c\\x84\\xec\\x9d\\x8d \\xea\\xb5\\xb0\\xec\\xb2\\xad\\xeb\\xa1\\x9c 158 \\xea\\xb5\\xb0\\xec\\x9c\\x84\\xec\\xa2\\x85\\xed\\x95\\xa9\\xed\\x85\\x8c\\xeb\\x8b\\x88\\xec\\x8a\\xa4\\xec\\x9e\\xa5 \\xec\\x98\\xa5\\xec\\x83\\x81\",\"stationName\":\"\\xea\\xb5\\xb0\\xec\\x9c\\x84\\xec\\x9d\\x8d\",\"dmY\":\"128.57628\"},{\"dmX\":\"35.157731\",\"item\":\"SO2, CO, O3, NO2, PM10, PM2.5\",\"mangName\":\"\\xeb\\x8f\\x84\\xeb\\xa1\\x9c\\xeb\\xb3\\x80\\xeb\\x8c\\x80\\xea\\xb8\\xb0\",\"year\":\"2023\",\"addr\":\"\\xeb\\xb6\\x80\\xec\\x82\\xb0\\xea\\xb4\\x91\\xec\\x97\\xad\\xec\\x8b\\x9c \\xed\\x95\\xb4\\xec\\x9a\\xb4\\xeb\\x8c\\x80\\xea\\xb5\\xac \\xed\\x95\\xb4\\xec\\x9a\\xb4\\xeb\\x8c\\x80\\xed\\x95\\xb4\\xeb\\xb3\\x80\\xeb\\xa1\\x9c 84 (\\xec\\x9a\\xb0\\xeb\\x8f\\x99) \\xec\\x88\\x98\\xec\\x98\\x81\\xec\\x9a\\x94\\xed\\x8a\\xb8\\xea\\xb2\\xbd\\xea\\xb8\\xb0\\xec\\x9e\\xa5\\xec\\x98\\x86 \\xeb\\x8f\\x84\\xeb\\xa1\\x9c\\xeb\\xb3\\x80\",\"stationName\":\"\\xec\\x9a\\xb0\\xeb\\x8f\\x99\",\"dmY\":\"129.143794\"},{\"dmX\":\"35.1708927\",\"item\":\"SO2, CO, O3, NO2, PM10, PM2.5\",\"mangName\":\"\\xeb\\x8f\\x84\\xec\\x8b\\x9c\\xeb\\x8c\\x80\\xea\\xb8\\xb0\",\"year\":\"2005\",\"addr\":\"\\xeb\\xb6\\x80\\xec\\x82\\xb0 \\xed\\x95\\xb4\\xec\\x9a\\xb4\\xeb\\x8c\\x80\\xea\\xb5\\xac \\xec\\x96\\x91\\xec\\x9a\\xb4\\xeb\\xa1\\x9c 91 \\xec\\xa2\\x8c1\\xeb\\x8f\\x99\\xec\\xa3\\xbc\\xeb\\xaf\\xbc\\xec\\x84\\xbc\\xed\\x84\\xb0 \\xec\\x98\\xa5\\xec\\x83\\x81\",\"stationName\":\"\\xec\\xa2\\x8c\\xeb\\x8f\\x99\",\"dmY\":\"129.1741659\"},{\"dmX\":\"35.182668\",\"item\":\"SO2, CO, O3, NO2, PM10, PM2.5\",\"mangName\":\"\\xeb\\x8f\\x84\\xec\\x8b\\x9c\\xeb\\x8c\\x80\\xea\\xb8\\xb0\",\"year\":\"2019\",\"addr\":\"\\xeb\\xb6\\x80\\xec\\x82\\xb0\\xea\\xb4\\x91\\xec\\x97\\xad\\xec\\x8b\\x9c \\xed\\x95\\xb4\\xec\\x9a\\xb4\\xeb\\x8c\\x80\\xea\\xb5\\xac \\xec\\x84\\xbc\\xed\\x85\\x80\\xeb\\x8f\\x99\\xeb\\xa1\\x9c 191 \\xeb\\x8f\\x99\\xeb\\xb6\\x80\\xed\\x95\\x98\\xec\\x88\\x98\\xec\\xb2\\x98\\xeb\\xa6\\xac\\xec\\x9e\\xa5 (\\xec\\x9e\\xac\\xec\\x86\\xa1\\xeb\\x8f\\x99)\",\"stationName\":\"\\xec\\x9e\\xac\\xec\\x86\\xa1\\xeb\\x8f\\x99\",\"dmY\":\"129.118136\"}],\"pageNo\":1,\"numOfRows\":100},\"header\":{\"resultMsg\":\"NORMAL_CODE\",\"resultCode\":\"00\"}}}'\n"
     ]
    }
   ],
   "source": [
    "response = requests.get(url, params = params)\n",
    "print(response.content)"
   ]
  },
  {
   "cell_type": "code",
   "execution_count": 6,
   "metadata": {},
   "outputs": [
    {
     "name": "stdout",
     "output_type": "stream",
     "text": [
      "{\"response\":{\"body\":{\"totalCount\":28,\"items\":[{\"dmX\":\"35.8583333333\",\"item\":\"SO2, CO, O3, NO2, PM10, PM2.5\",\"mangName\":\"도시대기\",\"year\":\"2022\",\"addr\":\"대구광역시 중구 남산로2길 125 대구명덕초등학교 (남산동)\",\"stationName\":\"남산1동\",\"dmY\":\"128.5897222222\"},{\"dmX\":\"35.874296\",\"item\":\"SO2, CO, O3, NO2, PM10, PM2.5\",\"mangName\":\"도시대기\",\"year\":\"1999\",\"addr\":\"대구 중구 수창동 73 (수창초등학교)(달성로 22길 30) 수창초등학교\",\"stationName\":\"수창동\",\"dmY\":\"128.584136\"},{\"dmX\":\"35.830472\",\"item\":\"SO2, CO, O3, NO2, PM10, PM2.5\",\"mangName\":\"도시대기\",\"year\":\"1999\",\"addr\":\"대구 수성구 지산동 761-11(한국환경공단) (무학로 209) 한국환경공단\",\"stationName\":\"지산동\",\"dmY\":\"128.63157\"},{\"dmX\":\"35.869104\",\"item\":\"SO2, CO, O3, NO2, PM10, PM2.5\",\"mangName\":\"도시대기\",\"year\":\"2001\",\"addr\":\"대구 동구 서호동 25-1(안심로49길 70) 반야월초등학교 옥상\",\"stationName\":\"서호동\",\"dmY\":\"128.711016\"},{\"dmX\":\"35.869556\",\"item\":\"SO2, CO, O3, NO2, PM10, PM2.5\",\"mangName\":\"도시대기\",\"year\":\"1994\",\"addr\":\"대구 서구 이현동 48-60 (중리초등학교)(국채보상로 135) 중리초등학교\",\"stationName\":\"이현동\",\"dmY\":\"128.545323\"},{\"dmX\":\"35.880274\",\"item\":\"SO2, CO, O3, NO2, PM10, PM2.5\",\"mangName\":\"도로변대기\",\"year\":\"1998\",\"addr\":\"대구 서구 평리3동 730-1 (대평중학교내) (통학로 217)\",\"stationName\":\"평리동\",\"dmY\":\"128.562491\"},{\"dmX\":\"35.845498\",\"item\":\"SO2, CO, O3, NO2, PM10, PM2.5\",\"mangName\":\"도시대기\",\"year\":\"2010\",\"addr\":\"대구 남구 성당로30길55 성명초등학교별관3층옥상 성명초등학교 별관 3층 옥상\",\"stationName\":\"대명동\",\"dmY\":\"128.571066\"},{\"dmX\":\"35.889757\",\"item\":\"SO2, CO, O3, NO2, PM10, PM2.5\",\"mangName\":\"도시대기\",\"year\":\"1998\",\"addr\":\"대구 동구 신암동 72-1 (신암5동사무소)(아양로 37길 92) 주민센터\",\"stationName\":\"신암동\",\"dmY\":\"128.633064\"},{\"dmX\":\"35.923033\",\"item\":\"SO2, CO, O3, NO2, PM10, PM2.5\",\"mangName\":\"도시대기\",\"year\":\"2023\",\"addr\":\"대구 북구 태전동 1076-5 (태암초등학교)(칠곡중앙대로 52길 56) 태암초등학교 남관 4층 옥상\",\"stationName\":\"태전동\",\"dmY\":\"128.550652\"},{\"dmX\":\"35.89324\",\"item\":\"SO2, CO, O3, NO2, PM10, PM2.5\",\"mangName\":\"도시대기\",\"year\":\"2020\",\"addr\":\"대구광역시 북구 연암로 40 시청 산격청사 105동 3층 옥상 (산격동)\",\"stationName\":\"산격동\",\"dmY\":\"128.60201\"},{\"dmX\":\"35.911047\",\"item\":\"SO2, CO, O3, NO2, PM10, PM2.5\",\"mangName\":\"도로변대기\",\"year\":\"2023\",\"addr\":\"대구광역시 북구 서변동 124 호국로도로변\",\"stationName\":\"서변동\",\"dmY\":\"128.599759\"},{\"dmX\":\"35.839594\",\"item\":\"SO2, CO, O3, NO2, PM10, PM2.5\",\"mangName\":\"도로변대기\",\"year\":\"2023\",\"addr\":\"대구광역시 수성구 달구벌대로 지하2950 (연호동) 달구벌대로변\",\"stationName\":\"연호동\",\"dmY\":\"128.682225\"},{\"dmX\":\"35.865276\",\"item\":\"SO2, CO, O3, NO2, PM10, PM2.5\",\"mangName\":\"도시대기\",\"year\":\"1996\",\"addr\":\"대구 수성구 만촌2동 934 (동원초등학교)(국채보상로 1000) 동원초등학교\",\"stationName\":\"만촌동\",\"dmY\":\"128.640031\"},{\"dmX\":\"35.837879\",\"item\":\"SO2, CO, O3, NO2, PM10, PM2.5\",\"mangName\":\"도시대기\",\"year\":\"2002\",\"addr\":\"대구 달서구 성서공단로 11길 32 대구기계부품연구원 1동 옥상 대구기계부품연구원\",\"stationName\":\"호림동\",\"dmY\":\"128.488731\"},{\"dmX\":\"35.695336\",\"item\":\"SO2, CO, O3, NO2, PM10, PM2.5\",\"mangName\":\"도시대기\",\"year\":\"2003\",\"addr\":\"대구광역시 달성군 유가읍 테크노북로6길 20 비슬공원\",\"stationName\":\"유가읍\",\"dmY\":\"128.459293\"},{\"dmX\":\"35.851205\",\"item\":\"SO2, CO, O3, NO2, PM10, PM2.5\",\"mangName\":\"도로변대기\",\"year\":\"2016\",\"addr\":\"대구 달서구 이곡동 1258-2\",\"stationName\":\"이곡동\",\"dmY\":\"128.51153\"},{\"dmX\":\"35.837626\",\"item\":\"SO2, CO, O3, NO2, PM10, PM2.5\",\"mangName\":\"도시대기\",\"year\":\"2017\",\"addr\":\"대구광역시 수성구 노변공원로 52 노변초등학교 (시지동)\",\"stationName\":\"시지동\",\"dmY\":\"128.697558\"},{\"dmX\":\"35.816726\",\"item\":\"SO2, CO, O3, NO2, PM10, PM2.5\",\"mangName\":\"도시대기\",\"year\":\"2017\",\"addr\":\"대구광역시 달서구 월배로 131 월배초등학교 (진천동)\",\"stationName\":\"진천동\",\"dmY\":\"128.528732\"},{\"dmX\":\"35.864922\",\"item\":\"SO2, CO, O3, NO2, PM10, PM2.5\",\"mangName\":\"도시대기\",\"year\":\"2018\",\"addr\":\"대구광역시 달성군 다사읍 매곡로12길 37 다사읍주민자치센터\",\"stationName\":\"다사읍\",\"dmY\":\"128.457164\"},{\"dmX\":\"35.83433\",\"item\":\"SO2, CO, O3, NO2, PM10, PM2.5\",\"mangName\":\"도시대기\",\"year\":\"2019\",\"addr\":\"대구광역시 달서구 구마로26길 62 본동행정복지센터 (본동)\",\"stationName\":\"본동\",\"dmY\":\"128.541083\"},{\"dmX\":\"35.859\",\"item\":\"SO2, CO, O3, NO2, PM10, PM2.5\",\"mangName\":\"도시대기\",\"year\":\"2020\",\"addr\":\"대구광역시 서구 서대구로3길 46 내당4동 행정복지센터 3층 옥상 (내당동)\",\"stationName\":\"내당동\",\"dmY\":\"128.55183\"},{\"dmX\":\"35.88761\",\"item\":\"SO2, CO, O3, NO2, PM10, PM2.5\",\"mangName\":\"도시대기\",\"year\":\"2020\",\"addr\":\"대구광역시 북구 옥산로17길 21 대구일중학교 (침산동)\",\"stationName\":\"침산동\",\"dmY\":\"128.58434\"},{\"dmX\":\"35.79736\",\"item\":\"SO2, CO, O3, NO2, PM10, PM2.5\",\"mangName\":\"도시대기\",\"year\":\"2020\",\"addr\":\"대구광역시 달성군 화원읍 인흥1길 12 화원명곡체육공원\",\"stationName\":\"화원읍\",\"dmY\":\"128.50485\"},{\"dmX\":\"35.832255\",\"item\":\"SO2, CO, O3, NO2, PM10, PM2.5\",\"mangName\":\"도로변대기\",\"year\":\"2022\",\"addr\":\"대구광역시 남구 앞산순환로 540 충혼탑 주차장 앞 (대명동)\",\"stationName\":\"충혼탑\",\"dmY\":\"128.583743\"},{\"dmX\":\"36.234746\",\"item\":\"SO2, CO, O3, NO2, PM10, PM2.5\",\"mangName\":\"도시대기\",\"year\":\"2019\",\"addr\":\"대구광역시 군위군 군위읍 군청로 158 군위종합테니스장 옥상\",\"stationName\":\"군위읍\",\"dmY\":\"128.57628\"},{\"dmX\":\"35.157731\",\"item\":\"SO2, CO, O3, NO2, PM10, PM2.5\",\"mangName\":\"도로변대기\",\"year\":\"2023\",\"addr\":\"부산광역시 해운대구 해운대해변로 84 (우동) 수영요트경기장옆 도로변\",\"stationName\":\"우동\",\"dmY\":\"129.143794\"},{\"dmX\":\"35.1708927\",\"item\":\"SO2, CO, O3, NO2, PM10, PM2.5\",\"mangName\":\"도시대기\",\"year\":\"2005\",\"addr\":\"부산 해운대구 양운로 91 좌1동주민센터 옥상\",\"stationName\":\"좌동\",\"dmY\":\"129.1741659\"},{\"dmX\":\"35.182668\",\"item\":\"SO2, CO, O3, NO2, PM10, PM2.5\",\"mangName\":\"도시대기\",\"year\":\"2019\",\"addr\":\"부산광역시 해운대구 센텀동로 191 동부하수처리장 (재송동)\",\"stationName\":\"재송동\",\"dmY\":\"129.118136\"}],\"pageNo\":1,\"numOfRows\":100},\"header\":{\"resultMsg\":\"NORMAL_CODE\",\"resultCode\":\"00\"}}}\n"
     ]
    }
   ],
   "source": [
    "print(response.text)"
   ]
  },
  {
   "cell_type": "code",
   "execution_count": 7,
   "metadata": {},
   "outputs": [
    {
     "data": {
      "text/plain": [
       "{'response': {'body': {'totalCount': 28,\n",
       "   'items': [{'dmX': '35.8583333333',\n",
       "     'item': 'SO2, CO, O3, NO2, PM10, PM2.5',\n",
       "     'mangName': '도시대기',\n",
       "     'year': '2022',\n",
       "     'addr': '대구광역시 중구 남산로2길 125 대구명덕초등학교 (남산동)',\n",
       "     'stationName': '남산1동',\n",
       "     'dmY': '128.5897222222'},\n",
       "    {'dmX': '35.874296',\n",
       "     'item': 'SO2, CO, O3, NO2, PM10, PM2.5',\n",
       "     'mangName': '도시대기',\n",
       "     'year': '1999',\n",
       "     'addr': '대구 중구 수창동 73 (수창초등학교)(달성로 22길 30) 수창초등학교',\n",
       "     'stationName': '수창동',\n",
       "     'dmY': '128.584136'},\n",
       "    {'dmX': '35.830472',\n",
       "     'item': 'SO2, CO, O3, NO2, PM10, PM2.5',\n",
       "     'mangName': '도시대기',\n",
       "     'year': '1999',\n",
       "     'addr': '대구 수성구 지산동 761-11(한국환경공단) (무학로 209) 한국환경공단',\n",
       "     'stationName': '지산동',\n",
       "     'dmY': '128.63157'},\n",
       "    {'dmX': '35.869104',\n",
       "     'item': 'SO2, CO, O3, NO2, PM10, PM2.5',\n",
       "     'mangName': '도시대기',\n",
       "     'year': '2001',\n",
       "     'addr': '대구 동구 서호동 25-1(안심로49길 70) 반야월초등학교 옥상',\n",
       "     'stationName': '서호동',\n",
       "     'dmY': '128.711016'},\n",
       "    {'dmX': '35.869556',\n",
       "     'item': 'SO2, CO, O3, NO2, PM10, PM2.5',\n",
       "     'mangName': '도시대기',\n",
       "     'year': '1994',\n",
       "     'addr': '대구 서구 이현동 48-60 (중리초등학교)(국채보상로 135) 중리초등학교',\n",
       "     'stationName': '이현동',\n",
       "     'dmY': '128.545323'},\n",
       "    {'dmX': '35.880274',\n",
       "     'item': 'SO2, CO, O3, NO2, PM10, PM2.5',\n",
       "     'mangName': '도로변대기',\n",
       "     'year': '1998',\n",
       "     'addr': '대구 서구 평리3동 730-1 (대평중학교내) (통학로 217)',\n",
       "     'stationName': '평리동',\n",
       "     'dmY': '128.562491'},\n",
       "    {'dmX': '35.845498',\n",
       "     'item': 'SO2, CO, O3, NO2, PM10, PM2.5',\n",
       "     'mangName': '도시대기',\n",
       "     'year': '2010',\n",
       "     'addr': '대구 남구 성당로30길55 성명초등학교별관3층옥상 성명초등학교 별관 3층 옥상',\n",
       "     'stationName': '대명동',\n",
       "     'dmY': '128.571066'},\n",
       "    {'dmX': '35.889757',\n",
       "     'item': 'SO2, CO, O3, NO2, PM10, PM2.5',\n",
       "     'mangName': '도시대기',\n",
       "     'year': '1998',\n",
       "     'addr': '대구 동구 신암동 72-1 (신암5동사무소)(아양로 37길 92) 주민센터',\n",
       "     'stationName': '신암동',\n",
       "     'dmY': '128.633064'},\n",
       "    {'dmX': '35.923033',\n",
       "     'item': 'SO2, CO, O3, NO2, PM10, PM2.5',\n",
       "     'mangName': '도시대기',\n",
       "     'year': '2023',\n",
       "     'addr': '대구 북구 태전동 1076-5 (태암초등학교)(칠곡중앙대로 52길 56) 태암초등학교 남관 4층 옥상',\n",
       "     'stationName': '태전동',\n",
       "     'dmY': '128.550652'},\n",
       "    {'dmX': '35.89324',\n",
       "     'item': 'SO2, CO, O3, NO2, PM10, PM2.5',\n",
       "     'mangName': '도시대기',\n",
       "     'year': '2020',\n",
       "     'addr': '대구광역시 북구 연암로 40 시청 산격청사 105동 3층 옥상 (산격동)',\n",
       "     'stationName': '산격동',\n",
       "     'dmY': '128.60201'},\n",
       "    {'dmX': '35.911047',\n",
       "     'item': 'SO2, CO, O3, NO2, PM10, PM2.5',\n",
       "     'mangName': '도로변대기',\n",
       "     'year': '2023',\n",
       "     'addr': '대구광역시 북구 서변동 124 호국로도로변',\n",
       "     'stationName': '서변동',\n",
       "     'dmY': '128.599759'},\n",
       "    {'dmX': '35.839594',\n",
       "     'item': 'SO2, CO, O3, NO2, PM10, PM2.5',\n",
       "     'mangName': '도로변대기',\n",
       "     'year': '2023',\n",
       "     'addr': '대구광역시 수성구 달구벌대로 지하2950 (연호동) 달구벌대로변',\n",
       "     'stationName': '연호동',\n",
       "     'dmY': '128.682225'},\n",
       "    {'dmX': '35.865276',\n",
       "     'item': 'SO2, CO, O3, NO2, PM10, PM2.5',\n",
       "     'mangName': '도시대기',\n",
       "     'year': '1996',\n",
       "     'addr': '대구 수성구 만촌2동 934 (동원초등학교)(국채보상로 1000) 동원초등학교',\n",
       "     'stationName': '만촌동',\n",
       "     'dmY': '128.640031'},\n",
       "    {'dmX': '35.837879',\n",
       "     'item': 'SO2, CO, O3, NO2, PM10, PM2.5',\n",
       "     'mangName': '도시대기',\n",
       "     'year': '2002',\n",
       "     'addr': '대구 달서구 성서공단로 11길 32 대구기계부품연구원 1동 옥상 대구기계부품연구원',\n",
       "     'stationName': '호림동',\n",
       "     'dmY': '128.488731'},\n",
       "    {'dmX': '35.695336',\n",
       "     'item': 'SO2, CO, O3, NO2, PM10, PM2.5',\n",
       "     'mangName': '도시대기',\n",
       "     'year': '2003',\n",
       "     'addr': '대구광역시 달성군 유가읍 테크노북로6길 20 비슬공원',\n",
       "     'stationName': '유가읍',\n",
       "     'dmY': '128.459293'},\n",
       "    {'dmX': '35.851205',\n",
       "     'item': 'SO2, CO, O3, NO2, PM10, PM2.5',\n",
       "     'mangName': '도로변대기',\n",
       "     'year': '2016',\n",
       "     'addr': '대구 달서구 이곡동 1258-2',\n",
       "     'stationName': '이곡동',\n",
       "     'dmY': '128.51153'},\n",
       "    {'dmX': '35.837626',\n",
       "     'item': 'SO2, CO, O3, NO2, PM10, PM2.5',\n",
       "     'mangName': '도시대기',\n",
       "     'year': '2017',\n",
       "     'addr': '대구광역시 수성구 노변공원로 52 노변초등학교 (시지동)',\n",
       "     'stationName': '시지동',\n",
       "     'dmY': '128.697558'},\n",
       "    {'dmX': '35.816726',\n",
       "     'item': 'SO2, CO, O3, NO2, PM10, PM2.5',\n",
       "     'mangName': '도시대기',\n",
       "     'year': '2017',\n",
       "     'addr': '대구광역시 달서구 월배로 131 월배초등학교 (진천동)',\n",
       "     'stationName': '진천동',\n",
       "     'dmY': '128.528732'},\n",
       "    {'dmX': '35.864922',\n",
       "     'item': 'SO2, CO, O3, NO2, PM10, PM2.5',\n",
       "     'mangName': '도시대기',\n",
       "     'year': '2018',\n",
       "     'addr': '대구광역시 달성군 다사읍 매곡로12길 37 다사읍주민자치센터',\n",
       "     'stationName': '다사읍',\n",
       "     'dmY': '128.457164'},\n",
       "    {'dmX': '35.83433',\n",
       "     'item': 'SO2, CO, O3, NO2, PM10, PM2.5',\n",
       "     'mangName': '도시대기',\n",
       "     'year': '2019',\n",
       "     'addr': '대구광역시 달서구 구마로26길 62 본동행정복지센터 (본동)',\n",
       "     'stationName': '본동',\n",
       "     'dmY': '128.541083'},\n",
       "    {'dmX': '35.859',\n",
       "     'item': 'SO2, CO, O3, NO2, PM10, PM2.5',\n",
       "     'mangName': '도시대기',\n",
       "     'year': '2020',\n",
       "     'addr': '대구광역시 서구 서대구로3길 46 내당4동 행정복지센터 3층 옥상 (내당동)',\n",
       "     'stationName': '내당동',\n",
       "     'dmY': '128.55183'},\n",
       "    {'dmX': '35.88761',\n",
       "     'item': 'SO2, CO, O3, NO2, PM10, PM2.5',\n",
       "     'mangName': '도시대기',\n",
       "     'year': '2020',\n",
       "     'addr': '대구광역시 북구 옥산로17길 21 대구일중학교 (침산동)',\n",
       "     'stationName': '침산동',\n",
       "     'dmY': '128.58434'},\n",
       "    {'dmX': '35.79736',\n",
       "     'item': 'SO2, CO, O3, NO2, PM10, PM2.5',\n",
       "     'mangName': '도시대기',\n",
       "     'year': '2020',\n",
       "     'addr': '대구광역시 달성군 화원읍 인흥1길 12 화원명곡체육공원',\n",
       "     'stationName': '화원읍',\n",
       "     'dmY': '128.50485'},\n",
       "    {'dmX': '35.832255',\n",
       "     'item': 'SO2, CO, O3, NO2, PM10, PM2.5',\n",
       "     'mangName': '도로변대기',\n",
       "     'year': '2022',\n",
       "     'addr': '대구광역시 남구 앞산순환로 540 충혼탑 주차장 앞 (대명동)',\n",
       "     'stationName': '충혼탑',\n",
       "     'dmY': '128.583743'},\n",
       "    {'dmX': '36.234746',\n",
       "     'item': 'SO2, CO, O3, NO2, PM10, PM2.5',\n",
       "     'mangName': '도시대기',\n",
       "     'year': '2019',\n",
       "     'addr': '대구광역시 군위군 군위읍 군청로 158 군위종합테니스장 옥상',\n",
       "     'stationName': '군위읍',\n",
       "     'dmY': '128.57628'},\n",
       "    {'dmX': '35.157731',\n",
       "     'item': 'SO2, CO, O3, NO2, PM10, PM2.5',\n",
       "     'mangName': '도로변대기',\n",
       "     'year': '2023',\n",
       "     'addr': '부산광역시 해운대구 해운대해변로 84 (우동) 수영요트경기장옆 도로변',\n",
       "     'stationName': '우동',\n",
       "     'dmY': '129.143794'},\n",
       "    {'dmX': '35.1708927',\n",
       "     'item': 'SO2, CO, O3, NO2, PM10, PM2.5',\n",
       "     'mangName': '도시대기',\n",
       "     'year': '2005',\n",
       "     'addr': '부산 해운대구 양운로 91 좌1동주민센터 옥상',\n",
       "     'stationName': '좌동',\n",
       "     'dmY': '129.1741659'},\n",
       "    {'dmX': '35.182668',\n",
       "     'item': 'SO2, CO, O3, NO2, PM10, PM2.5',\n",
       "     'mangName': '도시대기',\n",
       "     'year': '2019',\n",
       "     'addr': '부산광역시 해운대구 센텀동로 191 동부하수처리장 (재송동)',\n",
       "     'stationName': '재송동',\n",
       "     'dmY': '129.118136'}],\n",
       "   'pageNo': 1,\n",
       "   'numOfRows': 100},\n",
       "  'header': {'resultMsg': 'NORMAL_CODE', 'resultCode': '00'}}}"
      ]
     },
     "execution_count": 7,
     "metadata": {},
     "output_type": "execute_result"
    }
   ],
   "source": [
    "json_data = response.text\n",
    "dict_data = json.loads(json_data)\n",
    "dict_data"
   ]
  },
  {
   "cell_type": "code",
   "execution_count": 8,
   "metadata": {},
   "outputs": [
    {
     "data": {
      "text/plain": [
       "'대구'"
      ]
     },
     "execution_count": 8,
     "metadata": {},
     "output_type": "execute_result"
    }
   ],
   "source": [
    "dict_data['response']['body']['items'][0]['addr'][:2]"
   ]
  },
  {
   "cell_type": "code",
   "execution_count": 9,
   "metadata": {},
   "outputs": [
    {
     "data": {
      "text/plain": [
       "28"
      ]
     },
     "execution_count": 9,
     "metadata": {},
     "output_type": "execute_result"
    }
   ],
   "source": [
    "# 데이터 저장\n",
    "item_list = [] # 목록을 저장할 리스트\n",
    "# stationCode : 측정소 코드\n",
    "# stationName : 측정소 명\n",
    "# addr : 측정소 주소\n",
    "# year : 설치년도\n",
    "# dmX : WGS84기반 X좌표, 위도 \n",
    "# dmY : WGS84기반 Y좌표, 경도\n",
    "name_list = ['측정소 명','측정소 주소','위도','경도','설치년도']\n",
    "for data in dict_data['response']['body']['items']:\n",
    "    if data['addr'][:2] == \"대구\":\n",
    "        item = {}\n",
    "        item[name_list[0]]=data['stationName']\n",
    "        item[name_list[1]]=data['addr']\n",
    "        item[name_list[2]]=data['dmX']\n",
    "        item[name_list[3]]=data['dmY']\n",
    "        item[name_list[4]]=data['year']\n",
    "        # print(item)\n",
    "    item_list.append(item)\n",
    "len(item_list)\n",
    "\n"
   ]
  },
  {
   "cell_type": "code",
   "execution_count": 10,
   "metadata": {},
   "outputs": [
    {
     "name": "stdout",
     "output_type": "stream",
     "text": [
      "28\n"
     ]
    },
    {
     "data": {
      "text/plain": [
       "[{'측정소 명': '남산1동',\n",
       "  '측정소 주소': '대구광역시 중구 남산로2길 125 대구명덕초등학교 (남산동)',\n",
       "  '위도': '35.8583333333',\n",
       "  '경도': '128.5897222222',\n",
       "  '설치년도': '2022'},\n",
       " {'측정소 명': '수창동',\n",
       "  '측정소 주소': '대구 중구 수창동 73 (수창초등학교)(달성로 22길 30) 수창초등학교',\n",
       "  '위도': '35.874296',\n",
       "  '경도': '128.584136',\n",
       "  '설치년도': '1999'},\n",
       " {'측정소 명': '지산동',\n",
       "  '측정소 주소': '대구 수성구 지산동 761-11(한국환경공단) (무학로 209) 한국환경공단',\n",
       "  '위도': '35.830472',\n",
       "  '경도': '128.63157',\n",
       "  '설치년도': '1999'}]"
      ]
     },
     "execution_count": 10,
     "metadata": {},
     "output_type": "execute_result"
    }
   ],
   "source": [
    "print(len(item_list))\n",
    "item_list[:3]"
   ]
  },
  {
   "cell_type": "code",
   "execution_count": 11,
   "metadata": {},
   "outputs": [
    {
     "data": {
      "text/html": [
       "<div>\n",
       "<style scoped>\n",
       "    .dataframe tbody tr th:only-of-type {\n",
       "        vertical-align: middle;\n",
       "    }\n",
       "\n",
       "    .dataframe tbody tr th {\n",
       "        vertical-align: top;\n",
       "    }\n",
       "\n",
       "    .dataframe thead th {\n",
       "        text-align: right;\n",
       "    }\n",
       "</style>\n",
       "<table border=\"1\" class=\"dataframe\">\n",
       "  <thead>\n",
       "    <tr style=\"text-align: right;\">\n",
       "      <th></th>\n",
       "      <th>측정소 명</th>\n",
       "      <th>측정소 주소</th>\n",
       "      <th>위도</th>\n",
       "      <th>경도</th>\n",
       "      <th>설치년도</th>\n",
       "    </tr>\n",
       "  </thead>\n",
       "  <tbody>\n",
       "    <tr>\n",
       "      <th>0</th>\n",
       "      <td>남산1동</td>\n",
       "      <td>대구광역시 중구 남산로2길 125 대구명덕초등학교 (남산동)</td>\n",
       "      <td>35.8583333333</td>\n",
       "      <td>128.5897222222</td>\n",
       "      <td>2022</td>\n",
       "    </tr>\n",
       "    <tr>\n",
       "      <th>1</th>\n",
       "      <td>수창동</td>\n",
       "      <td>대구 중구 수창동 73 (수창초등학교)(달성로 22길 30) 수창초등학교</td>\n",
       "      <td>35.874296</td>\n",
       "      <td>128.584136</td>\n",
       "      <td>1999</td>\n",
       "    </tr>\n",
       "    <tr>\n",
       "      <th>2</th>\n",
       "      <td>지산동</td>\n",
       "      <td>대구 수성구 지산동 761-11(한국환경공단) (무학로 209) 한국환경공단</td>\n",
       "      <td>35.830472</td>\n",
       "      <td>128.63157</td>\n",
       "      <td>1999</td>\n",
       "    </tr>\n",
       "    <tr>\n",
       "      <th>3</th>\n",
       "      <td>서호동</td>\n",
       "      <td>대구 동구 서호동 25-1(안심로49길 70) 반야월초등학교 옥상</td>\n",
       "      <td>35.869104</td>\n",
       "      <td>128.711016</td>\n",
       "      <td>2001</td>\n",
       "    </tr>\n",
       "    <tr>\n",
       "      <th>4</th>\n",
       "      <td>이현동</td>\n",
       "      <td>대구 서구 이현동 48-60 (중리초등학교)(국채보상로 135) 중리초등학교</td>\n",
       "      <td>35.869556</td>\n",
       "      <td>128.545323</td>\n",
       "      <td>1994</td>\n",
       "    </tr>\n",
       "  </tbody>\n",
       "</table>\n",
       "</div>"
      ],
      "text/plain": [
       "  측정소 명                                      측정소 주소             위도  \\\n",
       "0  남산1동           대구광역시 중구 남산로2길 125 대구명덕초등학교 (남산동)  35.8583333333   \n",
       "1   수창동    대구 중구 수창동 73 (수창초등학교)(달성로 22길 30) 수창초등학교      35.874296   \n",
       "2   지산동  대구 수성구 지산동 761-11(한국환경공단) (무학로 209) 한국환경공단      35.830472   \n",
       "3   서호동        대구 동구 서호동 25-1(안심로49길 70) 반야월초등학교 옥상      35.869104   \n",
       "4   이현동  대구 서구 이현동 48-60 (중리초등학교)(국채보상로 135) 중리초등학교      35.869556   \n",
       "\n",
       "               경도  설치년도  \n",
       "0  128.5897222222  2022  \n",
       "1      128.584136  1999  \n",
       "2       128.63157  1999  \n",
       "3      128.711016  2001  \n",
       "4      128.545323  1994  "
      ]
     },
     "execution_count": 11,
     "metadata": {},
     "output_type": "execute_result"
    }
   ],
   "source": [
    "df = pd.DataFrame(data = item_list)\n",
    "df.head()"
   ]
  },
  {
   "cell_type": "code",
   "execution_count": 12,
   "metadata": {},
   "outputs": [],
   "source": [
    "df.to_csv(out_path+'/daegu_air_list.csv',index=False)"
   ]
  },
  {
   "cell_type": "code",
   "execution_count": 13,
   "metadata": {},
   "outputs": [
    {
     "data": {
      "text/html": [
       "<div>\n",
       "<style scoped>\n",
       "    .dataframe tbody tr th:only-of-type {\n",
       "        vertical-align: middle;\n",
       "    }\n",
       "\n",
       "    .dataframe tbody tr th {\n",
       "        vertical-align: top;\n",
       "    }\n",
       "\n",
       "    .dataframe thead th {\n",
       "        text-align: right;\n",
       "    }\n",
       "</style>\n",
       "<table border=\"1\" class=\"dataframe\">\n",
       "  <thead>\n",
       "    <tr style=\"text-align: right;\">\n",
       "      <th></th>\n",
       "      <th>측정소 명</th>\n",
       "      <th>측정소 주소</th>\n",
       "      <th>위도</th>\n",
       "      <th>경도</th>\n",
       "      <th>설치년도</th>\n",
       "    </tr>\n",
       "  </thead>\n",
       "  <tbody>\n",
       "    <tr>\n",
       "      <th>0</th>\n",
       "      <td>남산1동</td>\n",
       "      <td>대구광역시 중구 남산로2길 125 대구명덕초등학교 (남산동)</td>\n",
       "      <td>35.858333</td>\n",
       "      <td>128.589722</td>\n",
       "      <td>2022</td>\n",
       "    </tr>\n",
       "    <tr>\n",
       "      <th>1</th>\n",
       "      <td>수창동</td>\n",
       "      <td>대구 중구 수창동 73 (수창초등학교)(달성로 22길 30) 수창초등학교</td>\n",
       "      <td>35.874296</td>\n",
       "      <td>128.584136</td>\n",
       "      <td>1999</td>\n",
       "    </tr>\n",
       "    <tr>\n",
       "      <th>2</th>\n",
       "      <td>지산동</td>\n",
       "      <td>대구 수성구 지산동 761-11(한국환경공단) (무학로 209) 한국환경공단</td>\n",
       "      <td>35.830472</td>\n",
       "      <td>128.631570</td>\n",
       "      <td>1999</td>\n",
       "    </tr>\n",
       "    <tr>\n",
       "      <th>3</th>\n",
       "      <td>서호동</td>\n",
       "      <td>대구 동구 서호동 25-1(안심로49길 70) 반야월초등학교 옥상</td>\n",
       "      <td>35.869104</td>\n",
       "      <td>128.711016</td>\n",
       "      <td>2001</td>\n",
       "    </tr>\n",
       "    <tr>\n",
       "      <th>4</th>\n",
       "      <td>이현동</td>\n",
       "      <td>대구 서구 이현동 48-60 (중리초등학교)(국채보상로 135) 중리초등학교</td>\n",
       "      <td>35.869556</td>\n",
       "      <td>128.545323</td>\n",
       "      <td>1994</td>\n",
       "    </tr>\n",
       "  </tbody>\n",
       "</table>\n",
       "</div>"
      ],
      "text/plain": [
       "  측정소 명                                      측정소 주소         위도          경도  \\\n",
       "0  남산1동           대구광역시 중구 남산로2길 125 대구명덕초등학교 (남산동)  35.858333  128.589722   \n",
       "1   수창동    대구 중구 수창동 73 (수창초등학교)(달성로 22길 30) 수창초등학교  35.874296  128.584136   \n",
       "2   지산동  대구 수성구 지산동 761-11(한국환경공단) (무학로 209) 한국환경공단  35.830472  128.631570   \n",
       "3   서호동        대구 동구 서호동 25-1(안심로49길 70) 반야월초등학교 옥상  35.869104  128.711016   \n",
       "4   이현동  대구 서구 이현동 48-60 (중리초등학교)(국채보상로 135) 중리초등학교  35.869556  128.545323   \n",
       "\n",
       "   설치년도  \n",
       "0  2022  \n",
       "1  1999  \n",
       "2  1999  \n",
       "3  2001  \n",
       "4  1994  "
      ]
     },
     "execution_count": 13,
     "metadata": {},
     "output_type": "execute_result"
    }
   ],
   "source": [
    "df2 = pd.read_csv(out_path+'/daegu_air_list.csv')\n",
    "df2.head()"
   ]
  },
  {
   "cell_type": "markdown",
   "metadata": {},
   "source": [
    "## 2 소상공인 데이터 분석"
   ]
  },
  {
   "cell_type": "code",
   "execution_count": 14,
   "metadata": {},
   "outputs": [
    {
     "data": {
      "text/plain": [
       "Index(['상가업소번호', '상호명', '지점명', '상권업종대분류코드', '상권업종대분류명', '상권업종중분류코드',\n",
       "       '상권업종중분류명', '상권업종소분류코드', '상권업종소분류명', '표준산업분류코드', '표준산업분류명', '시도코드',\n",
       "       '시도명', '시군구코드', '시군구명', '행정동코드', '행정동명', '법정동코드', '법정동명', '지번코드',\n",
       "       '대지구분코드', '대지구분명', '지번본번지', '지번부번지', '지번주소', '도로명코드', '도로명', '건물본번지',\n",
       "       '건물부번지', '건물관리번호', '건물명', '도로명주소', '구우편번호', '신우편번호', '동정보', '층정보',\n",
       "       '호정보', '경도', '위도'],\n",
       "      dtype='object')"
      ]
     },
     "execution_count": 14,
     "metadata": {},
     "output_type": "execute_result"
    }
   ],
   "source": [
    "Gyeongbuk_df = pd.read_csv(data_path+'/Gyeongbuk_202406.csv',low_memory=False)\n",
    "Gyeongbuk_df.columns"
   ]
  },
  {
   "cell_type": "code",
   "execution_count": 15,
   "metadata": {},
   "outputs": [
    {
     "name": "stdout",
     "output_type": "stream",
     "text": [
      "<class 'pandas.core.frame.DataFrame'>\n",
      "RangeIndex: 130102 entries, 0 to 130101\n",
      "Data columns (total 39 columns):\n",
      " #   Column     Non-Null Count   Dtype  \n",
      "---  ------     --------------   -----  \n",
      " 0   상가업소번호     130102 non-null  object \n",
      " 1   상호명        130102 non-null  object \n",
      " 2   지점명        1553 non-null    object \n",
      " 3   상권업종대분류코드  130102 non-null  object \n",
      " 4   상권업종대분류명   130102 non-null  object \n",
      " 5   상권업종중분류코드  130102 non-null  object \n",
      " 6   상권업종중분류명   130102 non-null  object \n",
      " 7   상권업종소분류코드  130102 non-null  object \n",
      " 8   상권업종소분류명   130102 non-null  object \n",
      " 9   표준산업분류코드   130045 non-null  object \n",
      " 10  표준산업분류명    130045 non-null  object \n",
      " 11  시도코드       130102 non-null  int64  \n",
      " 12  시도명        130102 non-null  object \n",
      " 13  시군구코드      130102 non-null  int64  \n",
      " 14  시군구명       130102 non-null  object \n",
      " 15  행정동코드      130102 non-null  int64  \n",
      " 16  행정동명       130102 non-null  object \n",
      " 17  법정동코드      130102 non-null  int64  \n",
      " 18  법정동명       130102 non-null  object \n",
      " 19  지번코드       130102 non-null  int64  \n",
      " 20  대지구분코드     130102 non-null  int64  \n",
      " 21  대지구분명      130102 non-null  object \n",
      " 22  지번본번지      130092 non-null  float64\n",
      " 23  지번부번지      104436 non-null  float64\n",
      " 24  지번주소       130102 non-null  object \n",
      " 25  도로명코드      130100 non-null  float64\n",
      " 26  도로명        130102 non-null  object \n",
      " 27  건물본번지      130100 non-null  float64\n",
      " 28  건물부번지      36290 non-null   float64\n",
      " 29  건물관리번호     130100 non-null  object \n",
      " 30  건물명        21131 non-null   object \n",
      " 31  도로명주소      130102 non-null  object \n",
      " 32  구우편번호      130102 non-null  int64  \n",
      " 33  신우편번호      130102 non-null  int64  \n",
      " 34  동정보        0 non-null       float64\n",
      " 35  층정보        38643 non-null   object \n",
      " 36  호정보        0 non-null       float64\n",
      " 37  경도         130102 non-null  float64\n",
      " 38  위도         130102 non-null  float64\n",
      "dtypes: float64(9), int64(8), object(22)\n",
      "memory usage: 38.7+ MB\n"
     ]
    }
   ],
   "source": [
    "Gyeongbuk_df.info()"
   ]
  },
  {
   "cell_type": "code",
   "execution_count": 16,
   "metadata": {},
   "outputs": [
    {
     "data": {
      "text/html": [
       "<div>\n",
       "<style scoped>\n",
       "    .dataframe tbody tr th:only-of-type {\n",
       "        vertical-align: middle;\n",
       "    }\n",
       "\n",
       "    .dataframe tbody tr th {\n",
       "        vertical-align: top;\n",
       "    }\n",
       "\n",
       "    .dataframe thead th {\n",
       "        text-align: right;\n",
       "    }\n",
       "</style>\n",
       "<table border=\"1\" class=\"dataframe\">\n",
       "  <thead>\n",
       "    <tr style=\"text-align: right;\">\n",
       "      <th></th>\n",
       "      <th>상가업소번호</th>\n",
       "      <th>상호명</th>\n",
       "      <th>시군구명</th>\n",
       "      <th>상권업종대분류명</th>\n",
       "    </tr>\n",
       "  </thead>\n",
       "  <tbody>\n",
       "    <tr>\n",
       "      <th>0</th>\n",
       "      <td>MA0101202210A0005373</td>\n",
       "      <td>뷰티하우스아이엘</td>\n",
       "      <td>포항시 북구</td>\n",
       "      <td>수리·개인</td>\n",
       "    </tr>\n",
       "    <tr>\n",
       "      <th>7</th>\n",
       "      <td>MA010120220805431394</td>\n",
       "      <td>룩슬리아</td>\n",
       "      <td>칠곡군</td>\n",
       "      <td>음식</td>\n",
       "    </tr>\n",
       "    <tr>\n",
       "      <th>4</th>\n",
       "      <td>MA0101202210A0093330</td>\n",
       "      <td>두리방</td>\n",
       "      <td>영덕군</td>\n",
       "      <td>음식</td>\n",
       "    </tr>\n",
       "    <tr>\n",
       "      <th>3</th>\n",
       "      <td>MA0101202210A0074731</td>\n",
       "      <td>유리네벌교꼬막판매</td>\n",
       "      <td>안동시</td>\n",
       "      <td>소매</td>\n",
       "    </tr>\n",
       "    <tr>\n",
       "      <th>6</th>\n",
       "      <td>MA010120220805431246</td>\n",
       "      <td>바이영</td>\n",
       "      <td>안동시</td>\n",
       "      <td>시설관리·임대</td>\n",
       "    </tr>\n",
       "    <tr>\n",
       "      <th>9</th>\n",
       "      <td>MA010120220805431708</td>\n",
       "      <td>솔밭민박</td>\n",
       "      <td>상주시</td>\n",
       "      <td>숙박</td>\n",
       "    </tr>\n",
       "    <tr>\n",
       "      <th>5</th>\n",
       "      <td>MA010120220805430931</td>\n",
       "      <td>나눔복지용구</td>\n",
       "      <td>김천시</td>\n",
       "      <td>소매</td>\n",
       "    </tr>\n",
       "    <tr>\n",
       "      <th>2</th>\n",
       "      <td>MA0101202210A0101448</td>\n",
       "      <td>수니한우소머리국밥</td>\n",
       "      <td>구미시</td>\n",
       "      <td>음식</td>\n",
       "    </tr>\n",
       "    <tr>\n",
       "      <th>1</th>\n",
       "      <td>MA0101202210A0092820</td>\n",
       "      <td>호식이두마리치킨하양동서점</td>\n",
       "      <td>경산시</td>\n",
       "      <td>음식</td>\n",
       "    </tr>\n",
       "    <tr>\n",
       "      <th>8</th>\n",
       "      <td>MA010120220805431546</td>\n",
       "      <td>남산골</td>\n",
       "      <td>경산시</td>\n",
       "      <td>음식</td>\n",
       "    </tr>\n",
       "  </tbody>\n",
       "</table>\n",
       "</div>"
      ],
      "text/plain": [
       "                 상가업소번호            상호명    시군구명 상권업종대분류명\n",
       "0  MA0101202210A0005373       뷰티하우스아이엘  포항시 북구    수리·개인\n",
       "7  MA010120220805431394           룩슬리아     칠곡군       음식\n",
       "4  MA0101202210A0093330            두리방     영덕군       음식\n",
       "3  MA0101202210A0074731      유리네벌교꼬막판매     안동시       소매\n",
       "6  MA010120220805431246            바이영     안동시  시설관리·임대\n",
       "9  MA010120220805431708           솔밭민박     상주시       숙박\n",
       "5  MA010120220805430931         나눔복지용구     김천시       소매\n",
       "2  MA0101202210A0101448      수니한우소머리국밥     구미시       음식\n",
       "1  MA0101202210A0092820  호식이두마리치킨하양동서점     경산시       음식\n",
       "8  MA010120220805431546            남산골     경산시       음식"
      ]
     },
     "execution_count": 16,
     "metadata": {},
     "output_type": "execute_result"
    }
   ],
   "source": [
    "df_1 = Gyeongbuk_df[['상가업소번호','상호명','시군구명','상권업종대분류명']]\n",
    "df_1.head(10).sort_values('시군구명',ascending=False)"
   ]
  },
  {
   "cell_type": "markdown",
   "metadata": {},
   "source": [
    "### 시군구별 상점수 내림차순으로 정렬 후 파일에 저장\n",
    "- (파일명 : GB_store_01.csv)"
   ]
  },
  {
   "cell_type": "code",
   "execution_count": 17,
   "metadata": {},
   "outputs": [],
   "source": [
    "df_2 = df_1[['시군구명']].value_counts()"
   ]
  },
  {
   "cell_type": "code",
   "execution_count": 18,
   "metadata": {},
   "outputs": [
    {
     "data": {
      "text/plain": [
       "시군구명  \n",
       "구미시       18560\n",
       "경주시       15858\n",
       "포항시 북구    13300\n",
       "포항시 남구    12018\n",
       "경산시       11898\n",
       "안동시        8536\n",
       "김천시        6024\n",
       "영주시        5848\n",
       "칠곡군        5547\n",
       "영천시        4535\n",
       "상주시        4398\n",
       "문경시        3947\n",
       "울진군        2869\n",
       "영덕군        2563\n",
       "청도군        2332\n",
       "예천군        2153\n",
       "의성군        2083\n",
       "성주군        2059\n",
       "봉화군        1381\n",
       "청송군        1360\n",
       "고령군        1359\n",
       "울릉군         818\n",
       "영양군         656\n",
       "Name: count, dtype: int64"
      ]
     },
     "execution_count": 18,
     "metadata": {},
     "output_type": "execute_result"
    }
   ],
   "source": [
    "df_2"
   ]
  },
  {
   "cell_type": "code",
   "execution_count": 19,
   "metadata": {},
   "outputs": [],
   "source": [
    "df_2.to_csv(out_path+'/Gb_store_01.csv')"
   ]
  },
  {
   "cell_type": "markdown",
   "metadata": {},
   "source": [
    "### 상점수가 적은 시군구 5개를 파일에 저장\n",
    "- 파일명 : GB_store_02.csv"
   ]
  },
  {
   "cell_type": "code",
   "execution_count": 20,
   "metadata": {},
   "outputs": [],
   "source": [
    "df_3 = df_1['시군구명'].value_counts(ascending=True)\n",
    "df_4 = df_3.head()"
   ]
  },
  {
   "cell_type": "code",
   "execution_count": 21,
   "metadata": {},
   "outputs": [],
   "source": [
    "df_4.to_csv('./output/Gb_store_02.csv')"
   ]
  },
  {
   "cell_type": "markdown",
   "metadata": {},
   "source": [
    "### 업종대분류를 이용해서 상점수가 적은 업종 3개 파일에 저장\n",
    "- 파일명 : GB_store_03.csv"
   ]
  },
  {
   "cell_type": "code",
   "execution_count": 22,
   "metadata": {},
   "outputs": [
    {
     "data": {
      "text/plain": [
       "상권업종대분류명\n",
       "보건의료        815\n",
       "부동산        3682\n",
       "시설관리·임대    4481\n",
       "Name: count, dtype: int64"
      ]
     },
     "execution_count": 22,
     "metadata": {},
     "output_type": "execute_result"
    }
   ],
   "source": [
    "df_5 = df_1['상권업종대분류명'].value_counts(ascending=True)\n",
    "df_6 = df_5.head(3)\n",
    "df_6"
   ]
  },
  {
   "cell_type": "code",
   "execution_count": 23,
   "metadata": {},
   "outputs": [],
   "source": [
    "df_6.to_csv(out_path+'/Gb_store_03.csv')"
   ]
  }
 ],
 "metadata": {
  "kernelspec": {
   "display_name": "base",
   "language": "python",
   "name": "python3"
  },
  "language_info": {
   "codemirror_mode": {
    "name": "ipython",
    "version": 3
   },
   "file_extension": ".py",
   "mimetype": "text/x-python",
   "name": "python",
   "nbconvert_exporter": "python",
   "pygments_lexer": "ipython3",
   "version": "3.12.4"
  }
 },
 "nbformat": 4,
 "nbformat_minor": 2
}
