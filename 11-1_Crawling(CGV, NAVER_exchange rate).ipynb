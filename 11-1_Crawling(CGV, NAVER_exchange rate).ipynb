{
 "cells": [
  {
   "cell_type": "code",
   "execution_count": 1,
   "metadata": {},
   "outputs": [],
   "source": [
    "import requests\n",
    "from bs4 import BeautifulSoup as bs"
   ]
  },
  {
   "cell_type": "markdown",
   "metadata": {},
   "source": [
    "# BeautifulSoup 활용 "
   ]
  },
  {
   "cell_type": "markdown",
   "metadata": {},
   "source": [
    "## 1 CGV 차트 가져오기"
   ]
  },
  {
   "cell_type": "code",
   "execution_count": 15,
   "metadata": {},
   "outputs": [],
   "source": [
    "url = 'http://www.cgv.co.kr/movies/'\n",
    "response = requests.get(url)\n",
    "soup = bs(response.text,'html.parser')"
   ]
  },
  {
   "cell_type": "code",
   "execution_count": 16,
   "metadata": {},
   "outputs": [
    {
     "data": {
      "text/plain": [
       "[<strong class=\"title\">아마존 활명수</strong>,\n",
       " <strong class=\"title\">베놈: 라스트 댄스</strong>,\n",
       " <strong class=\"title\">롱레그스</strong>,\n",
       " <strong class=\"title\">날씨의 아이</strong>,\n",
       " <strong class=\"title\">리틀 엠마</strong>,\n",
       " <strong class=\"title\">보통의 가족</strong>,\n",
       " <strong class=\"title\">쏜애플 불구경 2024 라이브 콘서트 필름</strong>,\n",
       " <strong class=\"title\">최소한의 선의</strong>,\n",
       " <strong class=\"title\">대도시의 사랑법</strong>,\n",
       " <strong class=\"title\">임영웅ㅣ아임 히어로 더 스타디움</strong>]"
      ]
     },
     "execution_count": 16,
     "metadata": {},
     "output_type": "execute_result"
    }
   ],
   "source": [
    "tags = soup.select('strong.title')\n",
    "tags[:10]"
   ]
  },
  {
   "cell_type": "code",
   "execution_count": 18,
   "metadata": {},
   "outputs": [
    {
     "data": {
      "text/plain": [
       "[<strong class=\"title\">아마존 활명수</strong>,\n",
       " <strong class=\"title\">베놈: 라스트 댄스</strong>,\n",
       " <strong class=\"title\">롱레그스</strong>,\n",
       " <strong class=\"title\">날씨의 아이</strong>,\n",
       " <strong class=\"title\">리틀 엠마</strong>,\n",
       " <strong class=\"title\">보통의 가족</strong>,\n",
       " <strong class=\"title\">쏜애플 불구경 2024 라이브 콘서트 필름</strong>,\n",
       " <strong class=\"title\">최소한의 선의</strong>,\n",
       " <strong class=\"title\">대도시의 사랑법</strong>,\n",
       " <strong class=\"title\">임영웅ㅣ아임 히어로 더 스타디움</strong>]"
      ]
     },
     "execution_count": 18,
     "metadata": {},
     "output_type": "execute_result"
    }
   ],
   "source": [
    "tags2 = soup.find_all(name = 'strong', attrs = {'class':'title'})\n",
    "tags2[:10]"
   ]
  },
  {
   "cell_type": "code",
   "execution_count": 14,
   "metadata": {},
   "outputs": [
    {
     "name": "stdout",
     "output_type": "stream",
     "text": [
      "1위 : 아마존 활명수\n",
      "2위 : 베놈: 라스트 댄스\n",
      "3위 : 롱레그스\n",
      "4위 : 날씨의 아이\n",
      "5위 : 리틀 엠마\n",
      "6위 : 보통의 가족\n",
      "7위 : 쏜애플 불구경 2024 라이브 콘서트 필름\n",
      "8위 : 최소한의 선의\n",
      "9위 : 대도시의 사랑법\n",
      "10위 : 임영웅ㅣ아임 히어로 더 스타디움\n",
      "11위 : 오후 네시\n",
      "12위 : 너의 색\n",
      "13위 : 명탐정 코난-100만 달러의 펜타그램\n",
      "14위 : 공작새\n",
      "15위 : 하이라이트: 라이츠 고 온, 어게인 인 시네마\n",
      "16위 : 극장판 하이큐!! 쓰레기장의 결전\n",
      "17위 : 노트북\n",
      "18위 : 하와이 연가\n",
      "19위 : 베테랑2\n"
     ]
    }
   ],
   "source": [
    "for idx, tag in enumerate(tags,start=1):\n",
    "    print(f'{idx}위 : {tag.text}')"
   ]
  },
  {
   "cell_type": "markdown",
   "metadata": {},
   "source": [
    "## 2 네이버 환율 가져오기"
   ]
  },
  {
   "cell_type": "code",
   "execution_count": 6,
   "metadata": {},
   "outputs": [],
   "source": [
    "url = 'https://finance.naver.com/marketindex/exchangeList.naver'\n",
    "response = requests.get(url)\n",
    "soup = bs(response.text,'html.parser')"
   ]
  },
  {
   "cell_type": "code",
   "execution_count": 7,
   "metadata": {},
   "outputs": [],
   "source": [
    "# 국가\n",
    "# 미국 body > div > table > tbody > tr:nth-child(1) > td.tit > a\n",
    "# 유렵 body > div > table > tbody > tr:nth-child(2) > td.tit > a\n",
    "# 일본 body > div > table > tbody > tr:nth-child(3) > td.tit > a\n",
    "rows = soup.select('body > div > table > tbody > tr') # 가로(행)\n",
    "# rows"
   ]
  },
  {
   "cell_type": "code",
   "execution_count": 8,
   "metadata": {},
   "outputs": [],
   "source": [
    "for row in rows:\n",
    "    title = row.select_one('a').text.strip()\n",
    "    # print(title)\n",
    "    sale = row.select_one('td.sale').text\n",
    "    # print(sale)"
   ]
  },
  {
   "cell_type": "code",
   "execution_count": 11,
   "metadata": {},
   "outputs": [],
   "source": [
    "# print('나라 이름 / 환율')\n",
    "# print('=' * 25)\n",
    "for row in rows:\n",
    "    title = row.select_one('a').text.strip()\n",
    "    sale = row.select_one('td.sale').text\n",
    "    # print(f'{title} / {sale}')\n",
    "    # print('-' * 25)"
   ]
  },
  {
   "cell_type": "markdown",
   "metadata": {},
   "source": [
    "## 2 크롤링을 이용한 환율 계산기(함수로 구현)"
   ]
  },
  {
   "cell_type": "markdown",
   "metadata": {},
   "source": [
    "### 다른 나라의 통화를 원으로 계산"
   ]
  },
  {
   "cell_type": "code",
   "execution_count": 11,
   "metadata": {},
   "outputs": [],
   "source": [
    "def get_exchange_rate(menu):\n",
    "    url = 'https://finance.naver.com/marketindex/exchangeList.naver'\n",
    "    response = requests.get(url)\n",
    "    soup = bs(response.text,'html.parser')\n",
    "    exchange_rates = soup.select('body > div > table > tbody > tr > td.sale') # 모든 환율\n",
    "    exchange_rate = exchange_rates[menu-1].text.replace(',','')\n",
    "    exchange_rate = float(exchange_rate)\n",
    "    return exchange_rate"
   ]
  },
  {
   "cell_type": "code",
   "execution_count": 12,
   "metadata": {},
   "outputs": [
    {
     "name": "stdout",
     "output_type": "stream",
     "text": [
      "100 달러은(는) 원으로 환전하면 138570.0원입니다.\n"
     ]
    }
   ],
   "source": [
    "menu = int(input('''원하시는 국가를 선택해주세요!\n",
    "                 ============\n",
    "                 1. 미국\n",
    "                 2. 유럽\n",
    "                 3. 일본\n",
    "                 4. 중국\n",
    "                 =============\n",
    "                 '''))\n",
    "unit = ['달러','유로','엔','위안']\n",
    "money = int(input(f'환율 계산할 금액을 입력해주세요. (단위 : {unit[menu-1]}) : '))\n",
    "\n",
    "if menu == 3: # 일본을 선택했다면? 네이버에서는 100엔 기준 금액 제공\n",
    "    result_money = get_exchange_rate(menu) * (money // 100)\n",
    "else:\n",
    "    result_money = get_exchange_rate(menu) * money\n",
    "\n",
    "print(f'{money} {unit[menu-1]}은(는) 원으로 환전하면 {result_money:.1f}원입니다.')"
   ]
  },
  {
   "cell_type": "code",
   "execution_count": 13,
   "metadata": {},
   "outputs": [
    {
     "name": "stdout",
     "output_type": "stream",
     "text": [
      "500000 원을 엔로 환전하면 5.5엔입니다.\n"
     ]
    }
   ],
   "source": [
    "# 원을 다른 나라 통화로 계산\n",
    "menu = int(input('''원하시는 국가를 선택해주세요!\n",
    "                 ============\n",
    "                 1. 미국\n",
    "                 2. 유럽\n",
    "                 3. 일본\n",
    "                 4. 중국\n",
    "                 =============\n",
    "                 '''))\n",
    "money = int(input(f'환전할 금액을 입력해주세요. (단위 : 원) : '))\n",
    "unit = ['달러','유로','엔','위안']\n",
    "if menu == 3: # 일본을 선택했다면? 네이버에서는 100엔 기준 금액 제공\n",
    "    result_money = (money // 100) / get_exchange_rate(menu)\n",
    "else:\n",
    "    result_money = money / get_exchange_rate(menu) \n",
    "\n",
    "print(f'{money} 원을 {unit[menu-1]}로 환전하면 {result_money:.1f}{unit[menu-1]}입니다.')"
   ]
  }
 ],
 "metadata": {
  "kernelspec": {
   "display_name": "base",
   "language": "python",
   "name": "python3"
  },
  "language_info": {
   "codemirror_mode": {
    "name": "ipython",
    "version": 3
   },
   "file_extension": ".py",
   "mimetype": "text/x-python",
   "name": "python",
   "nbconvert_exporter": "python",
   "pygments_lexer": "ipython3",
   "version": "3.12.4"
  }
 },
 "nbformat": 4,
 "nbformat_minor": 2
}
