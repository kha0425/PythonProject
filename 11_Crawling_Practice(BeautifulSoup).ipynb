{
 "cells": [
  {
   "cell_type": "code",
   "execution_count": 80,
   "metadata": {},
   "outputs": [],
   "source": [
    "#!pip install requests"
   ]
  },
  {
   "cell_type": "code",
   "execution_count": 24,
   "metadata": {},
   "outputs": [],
   "source": [
    "import requests\n",
    "import json\n",
    "import datetime\n",
    "import urllib.request as request\n",
    "from bs4 import BeautifulSoup as bs"
   ]
  },
  {
   "cell_type": "code",
   "execution_count": 25,
   "metadata": {},
   "outputs": [],
   "source": [
    "data_path = './data'\n",
    "out_path = './output'"
   ]
  },
  {
   "cell_type": "markdown",
   "metadata": {},
   "source": [
    "# 웹 크롤링(BeautifulSoup)"
   ]
  },
  {
   "cell_type": "markdown",
   "metadata": {},
   "source": [
    "## 1 requests 라이브러리"
   ]
  },
  {
   "cell_type": "code",
   "execution_count": 26,
   "metadata": {},
   "outputs": [
    {
     "data": {
      "text/plain": [
       "<Response [200]>"
      ]
     },
     "execution_count": 26,
     "metadata": {},
     "output_type": "execute_result"
    }
   ],
   "source": [
    "url = 'https://www.python.org/'\n",
    "response = requests.get(url)\n",
    "response # 정상적인 통신이 이루어짐"
   ]
  },
  {
   "cell_type": "code",
   "execution_count": 27,
   "metadata": {},
   "outputs": [],
   "source": [
    "# print(response.text)"
   ]
  },
  {
   "cell_type": "code",
   "execution_count": 28,
   "metadata": {},
   "outputs": [
    {
     "data": {
      "text/plain": [
       "<Response [404]>"
      ]
     },
     "execution_count": 28,
     "metadata": {},
     "output_type": "execute_result"
    }
   ],
   "source": [
    "# 페이지가 없는 경우에도 에러가 발생하지 않고\n",
    "# <Response [404]>를 리턴\n",
    "url = 'https://www.python.org/1'\n",
    "response = requests.get(url)\n",
    "response # 해당 페이지를 찾을 수 없음"
   ]
  },
  {
   "cell_type": "code",
   "execution_count": 29,
   "metadata": {},
   "outputs": [],
   "source": [
    "# 헤더 정보를 확인\n",
    "url = 'https://planet-trade.kr/header_info.php'\n",
    "\n",
    "# 1. requests를 이용해서 접속을 하면, 브라우저의 정보가\n",
    "# requests의 모듈 정보로 나옴\n",
    "# 서버에서 해당 정보를 보고 크롤링을 판단할 수 있다."
   ]
  },
  {
   "cell_type": "code",
   "execution_count": 30,
   "metadata": {},
   "outputs": [
    {
     "name": "stdout",
     "output_type": "stream",
     "text": [
      "접속 IP : 114.206.162.72\n",
      "접속 정보 : python-requests/2.32.2\n",
      "\n",
      "\n"
     ]
    },
    {
     "name": "stderr",
     "output_type": "stream",
     "text": [
      "C:\\Users\\hyunk\\AppData\\Local\\Temp\\ipykernel_14144\\852346731.py:2: MarkupResemblesLocatorWarning: The input looks more like a filename than markup. You may want to open this file and pass the filehandle into Beautiful Soup.\n",
      "  soup = bs(response.text, 'html.parser')\n"
     ]
    }
   ],
   "source": [
    "response = requests.get(url)\n",
    "soup = bs(response.text, 'html.parser')\n",
    "print(soup)"
   ]
  },
  {
   "cell_type": "code",
   "execution_count": 31,
   "metadata": {},
   "outputs": [
    {
     "name": "stdout",
     "output_type": "stream",
     "text": [
      "접속 IP : 114.206.162.72\n",
      "접속 정보 : Mozilla/5.0 (Windows NT 10.0; Win64; x64) AppleWebKit/537.36 (KHTML, like Gecko) Chrome/128.0.0.0 Safari/537.36 Edg/128.0.0.0\n",
      "\n",
      "\n"
     ]
    },
    {
     "name": "stderr",
     "output_type": "stream",
     "text": [
      "C:\\Users\\hyunk\\AppData\\Local\\Temp\\ipykernel_14144\\1801160655.py:8: MarkupResemblesLocatorWarning: The input looks more like a filename than markup. You may want to open this file and pass the filehandle into Beautiful Soup.\n",
      "  soup = bs(response.text, 'html.parser')\n"
     ]
    }
   ],
   "source": [
    "# 2. requests에서 헤더 정보를 변경할 수 있다\n",
    "requests_headers = {\n",
    "    'User-Agent' : ('Mozilla/5.0 (Windows NT 10.0; Win64; x64) AppleWebKit/537.36 (KHTML, like Gecko) Chrome/128.0.0.0 Safari/537.36 Edg/128.0.0.0'),\n",
    "    'Referer' : ''\n",
    "}\n",
    "\n",
    "response = requests.get(url, headers = requests_headers)\n",
    "soup = bs(response.text, 'html.parser')\n",
    "print(soup)"
   ]
  },
  {
   "cell_type": "code",
   "execution_count": 32,
   "metadata": {},
   "outputs": [],
   "source": [
    "# requests 사용법\n",
    "url = 'https://www.naver.com/'\n",
    "response = requests.get(url)\n",
    "html = response.text # response객체의 text 속성을 지정하면 html 정보 반환\n",
    "# print(html) # html 소스가 출력"
   ]
  },
  {
   "cell_type": "code",
   "execution_count": 33,
   "metadata": {},
   "outputs": [
    {
     "name": "stdout",
     "output_type": "stream",
     "text": [
      "{'Date': 'Wed, 30 Oct 2024 06:46:26 GMT', 'content-type': 'text/html; charset=UTF-8', 'transfer-encoding': 'chunked', 'set-cookie': 'PM_CK_loc=48014f67517a5e2086232a6ae9e72adf084db79999517c5fbe6596a94e620fa2; Expires=Thu, 31 Oct 2024 06:46:26 GMT; Path=/; HttpOnly', 'cache-control': 'no-cache, no-store, must-revalidate', 'pragma': 'no-cache', 'x-frame-options': 'DENY', 'x-xss-protection': '1; mode=block', 'content-encoding': 'gzip', 'strict-transport-security': 'max-age=63072000; includeSubdomains', 'referrer-policy': 'unsafe-url', 'server': 'nfront'}\n",
      "<class 'requests.structures.CaseInsensitiveDict'>\n"
     ]
    }
   ],
   "source": [
    "# response객체의 headers 속성 지정하면 헤더 정보 반환\n",
    "headers = response.headers\n",
    "print(headers)\n",
    "print(type(headers))\n",
    "# 서버에서 헤더 정보가 json타입 형태로 들어온다."
   ]
  },
  {
   "cell_type": "markdown",
   "metadata": {},
   "source": [
    "## 2 BeautifulSoup 패키지"
   ]
  },
  {
   "cell_type": "code",
   "execution_count": 34,
   "metadata": {},
   "outputs": [],
   "source": [
    "# beautifulSoup: 구문을 분석해서 필요한 내용만 추출할 수 있는\n",
    "# 기능을 가지고 있는 외부 패키지\n",
    "\n",
    "with open(data_path+'/sample.html', 'rt', encoding='UTF-8') as file:\n",
    "    html = file.read()"
   ]
  },
  {
   "cell_type": "code",
   "execution_count": 35,
   "metadata": {},
   "outputs": [
    {
     "name": "stdout",
     "output_type": "stream",
     "text": [
      "<class 'bs4.BeautifulSoup'>\n"
     ]
    }
   ],
   "source": [
    "# html.parser : html코드를 사용하기 쉽게 BeautifulSoup의\n",
    "# 객체로 파싱\n",
    "soup = bs(html, 'html.parser')\n",
    "print(type(soup))\n",
    "# print(soup)"
   ]
  },
  {
   "cell_type": "code",
   "execution_count": 36,
   "metadata": {},
   "outputs": [
    {
     "name": "stdout",
     "output_type": "stream",
     "text": [
      "sample\n"
     ]
    }
   ],
   "source": [
    "print(soup.find('title').text)"
   ]
  },
  {
   "cell_type": "code",
   "execution_count": 37,
   "metadata": {},
   "outputs": [
    {
     "name": "stdout",
     "output_type": "stream",
     "text": [
      "Division의 약자로, 레이아웃을 나누는데 사용.\n"
     ]
    }
   ],
   "source": [
    "print(soup.find('div').text)"
   ]
  },
  {
   "cell_type": "code",
   "execution_count": 38,
   "metadata": {},
   "outputs": [
    {
     "name": "stdout",
     "output_type": "stream",
     "text": [
      "<h1>This is heading1 text.</h1>\n"
     ]
    }
   ],
   "source": [
    "print(soup.find('h1'))"
   ]
  },
  {
   "cell_type": "code",
   "execution_count": 39,
   "metadata": {},
   "outputs": [
    {
     "name": "stdout",
     "output_type": "stream",
     "text": [
      "This is heading1 text.\n"
     ]
    }
   ],
   "source": [
    "print(soup.find('h1').text)"
   ]
  },
  {
   "cell_type": "markdown",
   "metadata": {},
   "source": [
    "## 3 BeatifulSoup 실습"
   ]
  },
  {
   "cell_type": "markdown",
   "metadata": {},
   "source": [
    "### find() 메서드 사용하기"
   ]
  },
  {
   "cell_type": "code",
   "execution_count": 40,
   "metadata": {},
   "outputs": [
    {
     "name": "stdout",
     "output_type": "stream",
     "text": [
      "<class 'bs4.BeautifulSoup'>\n"
     ]
    }
   ],
   "source": [
    "# 위키피디아 '대구광역시' 페이지 \n",
    "url = 'https://ko.wikipedia.org/wiki/%EB%8C%80%EA%B5%AC%EA%B4%91%EC%97%AD%EC%8B%9C'\n",
    "response = requests.get(url)\n",
    "soup = bs(response.text, 'html.parser')\n",
    "print(type(soup))\n",
    "# print(soup)"
   ]
  },
  {
   "cell_type": "code",
   "execution_count": 41,
   "metadata": {},
   "outputs": [
    {
     "name": "stdout",
     "output_type": "stream",
     "text": [
      "<class 'bs4.element.Tag'>\n",
      "<img alt=\"\" aria-hidden=\"true\" class=\"mw-logo-icon\" height=\"50\" src=\"/static/images/icons/wikipedia.png\" width=\"50\"/>\n"
     ]
    }
   ],
   "source": [
    "# find() 메서드 이용하기\n",
    "\n",
    "# img 태그 중에서 제일 먼저 나오는 것\n",
    "first_img = soup.find(name = 'img')\n",
    "print(type(first_img))\n",
    "print(first_img)"
   ]
  },
  {
   "cell_type": "code",
   "execution_count": 42,
   "metadata": {},
   "outputs": [
    {
     "name": "stdout",
     "output_type": "stream",
     "text": [
      "<img alt=\"Daedongyeojido (Gyujanggak) 17-02.jpg\" class=\"mw-file-element\" data-file-height=\"3005\" data-file-width=\"4000\" decoding=\"async\" height=\"376\" src=\"//upload.wikimedia.org/wikipedia/commons/thumb/c/c5/Daedongyeojido_%28Gyujanggak%29_17-02.jpg/500px-Daedongyeojido_%28Gyujanggak%29_17-02.jpg\" srcset=\"//upload.wikimedia.org/wikipedia/commons/thumb/c/c5/Daedongyeojido_%28Gyujanggak%29_17-02.jpg/750px-Daedongyeojido_%28Gyujanggak%29_17-02.jpg 1.5x, //upload.wikimedia.org/wikipedia/commons/thumb/c/c5/Daedongyeojido_%28Gyujanggak%29_17-02.jpg/1000px-Daedongyeojido_%28Gyujanggak%29_17-02.jpg 2x\" width=\"500\"/>\n"
     ]
    }
   ],
   "source": [
    "target_img = soup.find(name='img', attrs = {'alt':'Daedongyeojido (Gyujanggak) 17-02.jpg'})\n",
    "print(target_img)"
   ]
  },
  {
   "cell_type": "code",
   "execution_count": 43,
   "metadata": {},
   "outputs": [
    {
     "name": "stdout",
     "output_type": "stream",
     "text": [
      "<class 'bs4.element.Tag'>\n",
      "--------------------\n",
      "<td class=\"infobox-data\"><span class=\"flagicon\"><span class=\"mw-image-border\" typeof=\"mw:File\"><a class=\"mw-file-description\" href=\"/wiki/%ED%8C%8C%EC%9D%BC:Flag_of_South_Korea.svg\"><img alt=\"대한민국의 기\" class=\"mw-file-element\" data-file-height=\"600\" data-file-width=\"900\" decoding=\"async\" height=\"15\" src=\"//upload.wikimedia.org/wikipedia/commons/thumb/0/09/Flag_of_South_Korea.svg/22px-Flag_of_South_Korea.svg.png\" srcset=\"//upload.wikimedia.org/wikipedia/commons/thumb/0/09/Flag_of_South_Korea.svg/33px-Flag_of_South_Korea.svg.png 1.5x, //upload.wikimedia.org/wikipedia/commons/thumb/0/09/Flag_of_South_Korea.svg/44px-Flag_of_South_Korea.svg.png 2x\" width=\"22\"/></a></span></span> <a href=\"/wiki/%EB%8C%80%ED%95%9C%EB%AF%BC%EA%B5%AD\" title=\"대한민국\">대한민국</a></td>\n",
      "--------------------\n",
      " 대한민국\n"
     ]
    }
   ],
   "source": [
    "test = soup.find(name='td',attrs={'class':'infobox-data'})\n",
    "print(type(test))\n",
    "print('-'*20)\n",
    "print(test)\n",
    "print('-'*20)\n",
    "print(test.text)"
   ]
  },
  {
   "cell_type": "code",
   "execution_count": 44,
   "metadata": {},
   "outputs": [
    {
     "name": "stdout",
     "output_type": "stream",
     "text": [
      "<class 'bs4.element.Tag'>\n",
      "--------------------\n",
      "<h1 class=\"firstHeading mw-first-heading\" id=\"firstHeading\"><span class=\"mw-page-title-main\">대구광역시</span></h1>\n",
      "--------------------\n",
      "대구광역시\n"
     ]
    }
   ],
   "source": [
    "test2 = soup.find(name='h1', attrs = {'id':'firstHeading'})\n",
    "print(type(test2))\n",
    "print('-'*20)\n",
    "print(test2)\n",
    "print('-'*20)\n",
    "print(test2.text)"
   ]
  },
  {
   "cell_type": "markdown",
   "metadata": {},
   "source": [
    "### find_all() 메서드 사용하기"
   ]
  },
  {
   "cell_type": "markdown",
   "metadata": {},
   "source": [
    "#### 1. 네이버 -> 스포츠 -> 박스 뉴스 제목 가져오기"
   ]
  },
  {
   "cell_type": "code",
   "execution_count": 45,
   "metadata": {},
   "outputs": [],
   "source": [
    "url = 'https://sports.news.naver.com/index'\n",
    "response = requests.get(url)\n",
    "soup = bs(response.text, 'html.parser')\n",
    "# print(soup)"
   ]
  },
  {
   "cell_type": "code",
   "execution_count": 46,
   "metadata": {},
   "outputs": [],
   "source": [
    "today_list = soup.find(name = 'ul', attrs = {'class':'today_list'})\n",
    "# print(today_list)"
   ]
  },
  {
   "cell_type": "code",
   "execution_count": 47,
   "metadata": {},
   "outputs": [
    {
     "name": "stdout",
     "output_type": "stream",
     "text": [
      "[<strong class=\"title\">\"내가 괜히 가는 바람에\" 류중일 감독의 한숨…'158km 파이어볼러' 이강준, 팔꿈치 부상으로 '낙마' </strong>, <strong class=\"title\">손흥민 또또또 트로피 놓치나…포스텍 \"쏘니, 맨시티전 빠진다\"→카라바오컵 탈락 위기</strong>, <strong class=\"title\">2009년 WS 우승 퍼레이드 보던 꼬마, 만루포로 양키스 벼랑 끝에서 구하다</strong>, <strong class=\"title\">롯데 '제 2의 이정후'가 왜 여기에? 가을리그 MVP 등극, 내년엔 김태형 마음 사로 잡을까</strong>, <strong class=\"title\">200만원 날린 멍청한 관중들, 베츠 수비 방해로 퇴장→양키스 대승 직관 놓쳤다</strong>, <strong class=\"title\">히샬리송 충격 선언 \"발롱도르 후보에 날 넣지 마! …비니시우스 때문에 화 났어\"</strong>]\n"
     ]
    }
   ],
   "source": [
    "today_list_title = today_list.find_all(name = 'strong', attrs={'class':'title'})\n",
    "print(today_list_title)"
   ]
  },
  {
   "cell_type": "code",
   "execution_count": 48,
   "metadata": {},
   "outputs": [
    {
     "name": "stdout",
     "output_type": "stream",
     "text": [
      "\"내가 괜히 가는 바람에\" 류중일 감독의 한숨…'158km 파이어볼러' 이강준, 팔꿈치 부상으로 '낙마' \n",
      "손흥민 또또또 트로피 놓치나…포스텍 \"쏘니, 맨시티전 빠진다\"→카라바오컵 탈락 위기\n",
      "2009년 WS 우승 퍼레이드 보던 꼬마, 만루포로 양키스 벼랑 끝에서 구하다\n",
      "롯데 '제 2의 이정후'가 왜 여기에? 가을리그 MVP 등극, 내년엔 김태형 마음 사로 잡을까\n",
      "200만원 날린 멍청한 관중들, 베츠 수비 방해로 퇴장→양키스 대승 직관 놓쳤다\n",
      "히샬리송 충격 선언 \"발롱도르 후보에 날 넣지 마! …비니시우스 때문에 화 났어\"\n"
     ]
    }
   ],
   "source": [
    "for title in today_list_title:\n",
    "    print(title.text)"
   ]
  },
  {
   "cell_type": "code",
   "execution_count": 49,
   "metadata": {},
   "outputs": [
    {
     "data": {
      "text/plain": [
       "['\"내가 괜히 가는 바람에\" 류중일 감독의 한숨…\\'158km 파이어볼러\\' 이강준, 팔꿈치 부상으로 \\'낙마\\' ',\n",
       " '손흥민 또또또 트로피 놓치나…포스텍 \"쏘니, 맨시티전 빠진다\"→카라바오컵 탈락 위기',\n",
       " '2009년 WS 우승 퍼레이드 보던 꼬마, 만루포로 양키스 벼랑 끝에서 구하다',\n",
       " \"롯데 '제 2의 이정후'가 왜 여기에? 가을리그 MVP 등극, 내년엔 김태형 마음 사로 잡을까\",\n",
       " '200만원 날린 멍청한 관중들, 베츠 수비 방해로 퇴장→양키스 대승 직관 놓쳤다',\n",
       " '히샬리송 충격 선언 \"발롱도르 후보에 날 넣지 마! …비니시우스 때문에 화 났어\"']"
      ]
     },
     "execution_count": 49,
     "metadata": {},
     "output_type": "execute_result"
    }
   ],
   "source": [
    "result_list = []\n",
    "for data in today_list_title:\n",
    "    result = data.text\n",
    "    result_list.append(result)\n",
    "\n",
    "result_list"
   ]
  },
  {
   "cell_type": "markdown",
   "metadata": {},
   "source": [
    "#### 2. 네이버 뉴스 -> IT/과학 -> 헤드라인"
   ]
  },
  {
   "cell_type": "code",
   "execution_count": 50,
   "metadata": {},
   "outputs": [],
   "source": [
    "url_news = 'https://news.naver.com/section/105'\n",
    "response = requests.get(url_news)\n",
    "soup = bs(response.text,'html.parser')\n",
    "# print(soup)"
   ]
  },
  {
   "cell_type": "code",
   "execution_count": 51,
   "metadata": {},
   "outputs": [],
   "source": [
    "headline_list = soup.find_all(name='div', attrs= {'class':'sa_text'})\n",
    "# headline_list"
   ]
  },
  {
   "cell_type": "code",
   "execution_count": 54,
   "metadata": {},
   "outputs": [
    {
     "name": "stdout",
     "output_type": "stream",
     "text": [
      "['ETRI, 슈퍼컴퓨터용 ‘가속기 칩’ 개발…“슈퍼컴 제조국에 도전”', \"30주년 넥슨이 바라보는 것은 '글로벌 기업·착한 기업'\", '비티이, 국산 수소연료전지 발전기 ‘GEN50’ 북미지역 수출', 'KT, 네트워크 운용 자회사 전출자 모집기한 내달 4일로 연장', '삼성SDS, 클라우드·디지털 물류 성장에\\xa0 3분기도 날았다', 'CJ올리브넷, 국내 최대 공공 버츄얼 프로덕션 스튜디오 구축한다', '한-미 우주 협력 새 이정표…韓, 국제 달 탐사 본격 협력', 'KT클라우드, 대규모 경력직 공채 진행…전 분야서 00명 채용', '\"백수저 셰프 요리도 집에서\"…롯데홈쇼핑, 셀럽과 협업해 미식 트렌드 선도', '전공의 대표, 이번엔 한동훈 저격…\"尹과 다를 게 뭔지 모르겠다\"']\n"
     ]
    }
   ],
   "source": [
    "# find_all로 나온 데이터를 .text를 하려면 for문을 한번 더 돌여야 함.\n",
    "title_list = []\n",
    "for headline in headline_list:\n",
    "    title = headline.find_all(name='strong',attrs={'class':'sa_text_strong'})\n",
    "    # print(title)\n",
    "    for data in title:\n",
    "        title_list.append(data.text)\n",
    "    press = headline.find_all(name='div',attrs={'class':'sa_text_press'})\n",
    "    # print(press)\n",
    "    # for i,v in enumerate(press):\n",
    "        # print(i)\n",
    "        # print(v.text)\n",
    "        # print(title[i].text, v.text, sep = '/')\n",
    "        # print(f'{title[i].text} / {v.text}')\n",
    "# print('='*100)\n",
    "print(title_list[:10])"
   ]
  },
  {
   "cell_type": "markdown",
   "metadata": {},
   "source": [
    "#### 3. 다음 뉴스"
   ]
  },
  {
   "cell_type": "code",
   "execution_count": 55,
   "metadata": {},
   "outputs": [],
   "source": [
    "url_daum = 'https://news.daum.net/'\n",
    "response = requests.get(url_daum)\n",
    "soup = bs(response.text,'html.parser')"
   ]
  },
  {
   "cell_type": "code",
   "execution_count": 56,
   "metadata": {},
   "outputs": [],
   "source": [
    "# print(soup)"
   ]
  },
  {
   "cell_type": "code",
   "execution_count": 57,
   "metadata": {},
   "outputs": [],
   "source": [
    "news_title = soup.find_all(name = 'div', attrs={'class':'item_issue'})\n",
    "# news_title"
   ]
  },
  {
   "cell_type": "code",
   "execution_count": 58,
   "metadata": {},
   "outputs": [
    {
     "name": "stdout",
     "output_type": "stream",
     "text": [
      "https://v.daum.net/v/20241030144016061\n",
      "https://v.daum.net/v/20241030154317044\n",
      "https://v.daum.net/v/20241030152517126\n",
      "https://v.daum.net/v/20241030152219000\n",
      "https://v.daum.net/v/20241030145324658\n",
      "https://v.daum.net/v/20241030151244613\n",
      "https://v.daum.net/v/20241030152803289\n",
      "https://v.daum.net/v/20241030145004509\n",
      "https://v.daum.net/v/20241030153252532\n",
      "https://v.daum.net/v/20241030152704231\n",
      "https://v.daum.net/v/20241030153746794\n",
      "https://v.daum.net/v/20241030151101526\n",
      "https://v.daum.net/v/20241030145013515\n",
      "https://v.daum.net/v/20241030152101943\n",
      "https://v.daum.net/v/20241030152630188\n",
      "https://v.daum.net/v/20241030152807293\n",
      "https://v.daum.net/v/20241030152207990\n",
      "https://v.daum.net/v/20241030150901435\n",
      "https://v.daum.net/v/20241030151927880\n",
      "https://v.daum.net/v/20241030152438077\n"
     ]
    }
   ],
   "source": [
    "for news in news_title:\n",
    "    print(news.find(name = 'a').get('href')) # 링크"
   ]
  },
  {
   "cell_type": "code",
   "execution_count": 34,
   "metadata": {},
   "outputs": [],
   "source": [
    "with open('./output/daum_news_links_0827.txt','w') as file:\n",
    "    for news in news_title:\n",
    "        file.write(news.find(name='a').get('href') + '\\n')"
   ]
  },
  {
   "cell_type": "markdown",
   "metadata": {},
   "source": [
    "### select_one() 메서드 사용하기"
   ]
  },
  {
   "cell_type": "markdown",
   "metadata": {},
   "source": [
    "#### 1. 위키백과 -> 대구광역시 -> 상징 -> 시조 -> 독수리 가져오기"
   ]
  },
  {
   "cell_type": "code",
   "execution_count": 35,
   "metadata": {},
   "outputs": [],
   "source": [
    "url_wiki = 'https://ko.wikipedia.org/wiki/%EB%8C%80%EA%B5%AC%EA%B4%91%EC%97%AD%EC%8B%9C'\n",
    "response = requests.get(url_wiki)\n",
    "soup = bs(response.text,'html.parser')"
   ]
  },
  {
   "cell_type": "markdown",
   "metadata": {},
   "source": [
    "##### select 계열의 메서드는 css selecteor 이용가능!\n",
    "- '.' : class 속성\n",
    "- '#' : id 속성"
   ]
  },
  {
   "cell_type": "code",
   "execution_count": 36,
   "metadata": {},
   "outputs": [
    {
     "data": {
      "text/plain": [
       "<ul><li><a href=\"/wiki/%EB%8F%85%EC%88%98%EB%A6%AC\" title=\"독수리\">독수리</a> : 대구의 활달하고 진취적인 기상과 개척자적 시민정신을 나타낸다.</li></ul>"
      ]
     },
     "execution_count": 36,
     "metadata": {},
     "output_type": "execute_result"
    }
   ],
   "source": [
    "tag = soup.select_one('#mw-content-text ul')\n",
    "tag"
   ]
  },
  {
   "cell_type": "code",
   "execution_count": 37,
   "metadata": {},
   "outputs": [
    {
     "data": {
      "text/plain": [
       "'독수리'"
      ]
     },
     "execution_count": 37,
     "metadata": {},
     "output_type": "execute_result"
    }
   ],
   "source": [
    "tag.select_one('a').text"
   ]
  },
  {
   "cell_type": "markdown",
   "metadata": {},
   "source": [
    "#### 2. 다음 뉴스 -> IT -> 오늘의 연재의 첫번째 글 제목과 신문사 가져오기"
   ]
  },
  {
   "cell_type": "code",
   "execution_count": 16,
   "metadata": {},
   "outputs": [],
   "source": [
    "url = 'https://news.daum.net/digital#1'\n",
    "response = requests.get(url)\n",
    "soup = bs(response.text, 'html.parser')"
   ]
  },
  {
   "cell_type": "code",
   "execution_count": 17,
   "metadata": {},
   "outputs": [],
   "source": [
    "tag_series = soup.select_one('body > div.container-doc.cont-category > main > section > div.main-sub > div:nth-child(5) > ul > li')\n",
    "# tag_series"
   ]
  },
  {
   "cell_type": "code",
   "execution_count": 40,
   "metadata": {},
   "outputs": [
    {
     "data": {
      "text/plain": [
       "'정보통신설비 유지보수 제도'"
      ]
     },
     "execution_count": 40,
     "metadata": {},
     "output_type": "execute_result"
    }
   ],
   "source": [
    "tag_series_title = tag_series.select_one('.link_txt').text\n",
    "tag_series_title"
   ]
  },
  {
   "cell_type": "code",
   "execution_count": 41,
   "metadata": {},
   "outputs": [
    {
     "data": {
      "text/plain": [
       "'전자신문'"
      ]
     },
     "execution_count": 41,
     "metadata": {},
     "output_type": "execute_result"
    }
   ],
   "source": [
    "tag_series_press = tag_series.select_one('.txt_info').text\n",
    "tag_series_press"
   ]
  },
  {
   "cell_type": "code",
   "execution_count": 42,
   "metadata": {},
   "outputs": [
    {
     "name": "stdout",
     "output_type": "stream",
     "text": [
      "뉴스 제목 : 정보통신설비 유지보수 제도\n",
      "신문사 : 전자신문\n"
     ]
    }
   ],
   "source": [
    "print(f'뉴스 제목 : {tag_series_title}')\n",
    "print(f'신문사 : {tag_series_press}')"
   ]
  },
  {
   "cell_type": "markdown",
   "metadata": {},
   "source": [
    "### select() 메서드 사용하기"
   ]
  },
  {
   "cell_type": "markdown",
   "metadata": {},
   "source": [
    "#### 1. 다음 뉴스 -> IT -> 오늘의 연재의 제목과 신문사 가져오기"
   ]
  },
  {
   "cell_type": "code",
   "execution_count": 18,
   "metadata": {},
   "outputs": [],
   "source": [
    "url = 'https://news.daum.net/digital#1'\n",
    "response = requests.get(url)\n",
    "soup = bs(response.text, 'html.parser')"
   ]
  },
  {
   "cell_type": "code",
   "execution_count": 19,
   "metadata": {},
   "outputs": [],
   "source": [
    "tag_series = soup.select('.item_todayseries')\n",
    "# tag_series"
   ]
  },
  {
   "cell_type": "code",
   "execution_count": 45,
   "metadata": {},
   "outputs": [
    {
     "name": "stdout",
     "output_type": "stream",
     "text": [
      "# 뉴스 제목 : 정보통신설비 유지보수 제도\n",
      "# 신문사 : 전자신문\n",
      "--------------------------------------------------\n",
      "# 뉴스 제목 : 산업 특화 AI 기업 마키나락스 \"AI 생태계 구축 협력\"\n",
      "# 신문사 : 한국경제\n",
      "--------------------------------------------------\n",
      "# 뉴스 제목 : 노석준의 메타버스 세상…산타가 코카콜라 마신 이유\n",
      "# 신문사 : 연합뉴스\n",
      "--------------------------------------------------\n",
      "# 뉴스 제목 : ESG 평가지표 'A' 받은 게임사 늘어…'지속가능경영' 노력 통했다\n",
      "# 신문사 : 아이뉴스24\n",
      "--------------------------------------------------\n",
      "# 뉴스 제목 : 2. 정부 연구개발 분야에 기획자가 필요한 이유\n",
      "# 신문사 : IT동아\n",
      "--------------------------------------------------\n",
      "# 뉴스 제목 : 분해만 500년 플라스틱 쓰레기…미생물이 없앤다\n",
      "# 신문사 : 뉴스1\n",
      "--------------------------------------------------\n",
      "# 뉴스 제목 : 흑백요리사들도 거친 그곳... 샌프란시스코는 어떻게 '미식의 도시'가 됐나\n",
      "# 신문사 : 한국일보\n",
      "--------------------------------------------------\n",
      "# 뉴스 제목 : 〈68〉비판 없는 수용이 낳은 AI 함정\n",
      "# 신문사 : 전자신문\n",
      "--------------------------------------------------\n",
      "# 뉴스 제목 : 〈15〉한화그룹 기술 가치, 실체와 진정성 담은 콘텐츠로 호평\n",
      "# 신문사 : 전자신문\n",
      "--------------------------------------------------\n"
     ]
    }
   ],
   "source": [
    "for tag in tag_series:\n",
    "    tag_series_title = tag.select_one('.link_txt').text\n",
    "    print(f'# 뉴스 제목 : {tag_series_title}')\n",
    "    tag_series_press = tag.select_one('.txt_info').text\n",
    "    print(f'# 신문사 : {tag_series_press}')\n",
    "    print('-'*50)"
   ]
  },
  {
   "cell_type": "code",
   "execution_count": 46,
   "metadata": {},
   "outputs": [],
   "source": [
    "# 파일로 내보내기\n",
    "with open('./output/daum_IT_news_0827.txt','w') as file:\n",
    "    for tag in tag_series:\n",
    "        tag_series_title = tag.select_one('.link_txt').text\n",
    "        tag_series_press = tag.select_one('.txt_info').text\n",
    "        file.write(f'뉴스 제목 : {tag_series_title}\\n')\n",
    "        file.write('-'*50 + '\\n')\n",
    "        file.write(f'신문사 : {tag_series_press}\\n')\n",
    "        file.write('='*60 + '\\n')"
   ]
  },
  {
   "cell_type": "markdown",
   "metadata": {},
   "source": [
    "#### 2. CGV 무비차트에서 순위별로 영화 제목 가져오기"
   ]
  },
  {
   "cell_type": "code",
   "execution_count": 47,
   "metadata": {},
   "outputs": [],
   "source": [
    "url = 'http://www.cgv.co.kr/movies/'\n",
    "response = requests.get(url)\n",
    "soup = bs(response.text,'html.parser')"
   ]
  },
  {
   "cell_type": "code",
   "execution_count": 48,
   "metadata": {},
   "outputs": [
    {
     "data": {
      "text/plain": [
       "[<strong class=\"title\">베놈: 라스트 댄스</strong>,\n",
       " <strong class=\"title\">리틀 엠마</strong>,\n",
       " <strong class=\"title\">보통의 가족</strong>,\n",
       " <strong class=\"title\">대도시의 사랑법</strong>,\n",
       " <strong class=\"title\">오후 네시</strong>,\n",
       " <strong class=\"title\">임영웅ㅣ아임 히어로 더 스타디움</strong>,\n",
       " <strong class=\"title\">너의 색</strong>,\n",
       " <strong class=\"title\">공작새</strong>,\n",
       " <strong class=\"title\">노트북</strong>,\n",
       " <strong class=\"title\">하이라이트: 라이츠 고 온, 어게인 인 시네마</strong>,\n",
       " <strong class=\"title\">결혼, 하겠나?</strong>,\n",
       " <strong class=\"title\">베테랑2</strong>,\n",
       " <strong class=\"title\">와일드 로봇</strong>,\n",
       " <strong class=\"title\">세상 참 예쁜 오드리</strong>,\n",
       " <strong class=\"title\">블루 자이언트</strong>,\n",
       " <strong class=\"title\">[클래식인시네마] 가을의 음악가, 브람스와 말러</strong>,\n",
       " <strong class=\"title\">6시간 후 너는 죽는다</strong>,\n",
       " <strong class=\"title\">어프렌티스</strong>,\n",
       " <strong class=\"title\">폭설</strong>]"
      ]
     },
     "execution_count": 48,
     "metadata": {},
     "output_type": "execute_result"
    }
   ],
   "source": [
    "title = soup.select('strong.title')\n",
    "title"
   ]
  },
  {
   "cell_type": "code",
   "execution_count": 49,
   "metadata": {},
   "outputs": [
    {
     "name": "stdout",
     "output_type": "stream",
     "text": [
      "베놈: 라스트 댄스\n",
      "리틀 엠마\n",
      "보통의 가족\n",
      "대도시의 사랑법\n",
      "오후 네시\n",
      "임영웅ㅣ아임 히어로 더 스타디움\n",
      "너의 색\n",
      "공작새\n",
      "노트북\n",
      "하이라이트: 라이츠 고 온, 어게인 인 시네마\n",
      "결혼, 하겠나?\n",
      "베테랑2\n",
      "와일드 로봇\n",
      "세상 참 예쁜 오드리\n",
      "블루 자이언트\n",
      "[클래식인시네마] 가을의 음악가, 브람스와 말러\n",
      "6시간 후 너는 죽는다\n",
      "어프렌티스\n",
      "폭설\n"
     ]
    }
   ],
   "source": [
    "for data in title:\n",
    "    title_one = data.text\n",
    "    print(title_one)"
   ]
  },
  {
   "cell_type": "markdown",
   "metadata": {},
   "source": [
    "### 이미지 크롤링\n",
    "- img태그의 src속성을 가져온다.\n",
    "- request.get(이미지경로)를 이용해서 response 받아온다.\n",
    "- response를 binary 타입으로 파일 저장"
   ]
  },
  {
   "cell_type": "markdown",
   "metadata": {},
   "source": [
    "#### 1. 영문 위키피디아 -> 검색 -> 이미지 저장\n",
    "- ex) 자이언트 판다를 영어로 검색"
   ]
  },
  {
   "cell_type": "code",
   "execution_count": 50,
   "metadata": {},
   "outputs": [],
   "source": [
    "url = 'https://en.wikipedia.org/wiki/Giant_panda'\n",
    "response = requests.get(url)\n",
    "soup = bs(response.text, 'html.parser')"
   ]
  },
  {
   "cell_type": "code",
   "execution_count": 51,
   "metadata": {},
   "outputs": [
    {
     "name": "stdout",
     "output_type": "stream",
     "text": [
      "html 요소 : <img class=\"mw-file-element\" data-file-height=\"2848\" data-file-width=\"4272\" decoding=\"async\" height=\"147\" src=\"//upload.wikimedia.org/wikipedia/commons/thumb/0/0f/Grosser_Panda.JPG/220px-Grosser_Panda.JPG\" srcset=\"//upload.wikimedia.org/wikipedia/commons/thumb/0/0f/Grosser_Panda.JPG/330px-Grosser_Panda.JPG 1.5x, //upload.wikimedia.org/wikipedia/commons/thumb/0/0f/Grosser_Panda.JPG/440px-Grosser_Panda.JPG 2x\" width=\"220\"/>\n"
     ]
    }
   ],
   "source": [
    "# img 태그 -> src 속성의 값을 가져온다\n",
    "target_img = soup.select_one('#mw-content-text > div.mw-content-ltr.mw-parser-output > table > tbody > tr:nth-child(2) > td > span > a > img')\n",
    "print(f'html 요소 : {target_img}')"
   ]
  },
  {
   "cell_type": "code",
   "execution_count": 52,
   "metadata": {},
   "outputs": [
    {
     "name": "stdout",
     "output_type": "stream",
     "text": [
      "이미지 파일 경로 ://upload.wikimedia.org/wikipedia/commons/thumb/0/0f/Grosser_Panda.JPG/220px-Grosser_Panda.JPG\n"
     ]
    }
   ],
   "source": [
    "target_img_src = target_img.get('src')\n",
    "print(f'이미지 파일 경로 :{target_img_src}')"
   ]
  },
  {
   "cell_type": "code",
   "execution_count": 53,
   "metadata": {},
   "outputs": [
    {
     "data": {
      "text/plain": [
       "<Response [200]>"
      ]
     },
     "execution_count": 53,
     "metadata": {},
     "output_type": "execute_result"
    }
   ],
   "source": [
    "# 이미지 경로를 이용해서 response를 받아온다.\n",
    "response_img = requests.get('http:' + target_img_src)\n",
    "response_img"
   ]
  },
  {
   "cell_type": "code",
   "execution_count": 54,
   "metadata": {},
   "outputs": [
    {
     "name": "stdout",
     "output_type": "stream",
     "text": [
      "이미지 파일로 저장하였습니다!\n"
     ]
    }
   ],
   "source": [
    "# 바이너리 모드로 파일을 저장\n",
    "out_file_path = out_path+'/giant_panda.jpg'\n",
    "with open(out_file_path, 'wb') as file:\n",
    "    file.write(response_img.content)\n",
    "    print('이미지 파일로 저장하였습니다!')"
   ]
  },
  {
   "cell_type": "code",
   "execution_count": 55,
   "metadata": {},
   "outputs": [],
   "source": [
    "url = 'https://en.wikipedia.org/wiki/Giant_panda'\n",
    "response = requests.get(url)\n",
    "soup = bs(response.text, 'html.parser')"
   ]
  },
  {
   "cell_type": "markdown",
   "metadata": {},
   "source": [
    "#### 2. 벅스 차트 이미지 크롤링 -> 이미지 파일 저장"
   ]
  },
  {
   "cell_type": "code",
   "execution_count": 56,
   "metadata": {},
   "outputs": [],
   "source": [
    "# 폴더 생성\n",
    "import os\n",
    "path_save = out_path+'/bugs_img/'\n",
    "\n",
    "if not os.path.exists(path_save): # 폴더가 없다면 생성\n",
    "    os.makedirs(path_save)"
   ]
  },
  {
   "cell_type": "code",
   "execution_count": 20,
   "metadata": {},
   "outputs": [],
   "source": [
    "url = 'https://music.bugs.co.kr/chart'\n",
    "response = requests.get(url)\n",
    "soup = bs(response.text,'html.parser')"
   ]
  },
  {
   "cell_type": "code",
   "execution_count": 21,
   "metadata": {},
   "outputs": [],
   "source": [
    "bugs = soup.select('#CHARTrealtime > table > tbody > tr')\n",
    "# bugs"
   ]
  },
  {
   "cell_type": "code",
   "execution_count": null,
   "metadata": {},
   "outputs": [
    {
     "name": "stdout",
     "output_type": "stream",
     "text": [
      "===================1위===================\n",
      "곡 제목 : APT.\n",
      "가수 : 로제(ROSÉ)\n",
      "\n",
      "\n",
      "로제(ROSÉ)\n",
      "앨범 : APT.\n",
      "\n",
      "===================2위===================\n",
      "곡 제목 : Whiplash\n",
      "가수 : aespa\n",
      "앨범 : Whiplash - The 5th Mini Album\n",
      "\n",
      "===================3위===================\n",
      "곡 제목 : Mantra\n",
      "가수 : 제니 (JENNIE)\n",
      "앨범 : Mantra\n",
      "\n",
      "===================4위===================\n",
      "곡 제목 : UP (KARINA Solo)\n",
      "가수 : aespa\n",
      "앨범 : SYNK : PARALLEL LINE - Special Digital Single\n",
      "\n",
      "===================5위===================\n",
      "곡 제목 : 내 이름 맑음\n",
      "가수 : QWER\n",
      "앨범 : 2nd Mini Album 'Algorithm's Blossom'\n",
      "\n",
      "===================6위===================\n",
      "곡 제목 : HAPPY\n",
      "가수 : DAY6 (데이식스)\n",
      "앨범 : Fourever\n",
      "\n",
      "===================7위===================\n",
      "곡 제목 : Drowning\n",
      "가수 : WOODZ\n",
      "앨범 : OO-LI\n",
      "\n",
      "===================8위===================\n",
      "곡 제목 : Supernova\n",
      "가수 : aespa\n",
      "앨범 : Armageddon - The 1st Album\n",
      "\n",
      "===================9위===================\n",
      "곡 제목 : 내게 사랑이 뭐냐고 물어본다면\n",
      "가수 : 로이킴\n",
      "앨범 : 내게 사랑이 뭐냐고 물어본다면\n",
      "\n",
      "==================10위===================\n",
      "곡 제목 : 녹아내려요\n",
      "가수 : DAY6 (데이식스)\n",
      "앨범 : Band Aid\n",
      "\n",
      "==================11위===================\n",
      "곡 제목 : TRIGGER (導火線)\n",
      "가수 : 더보이즈(THE BOYZ)\n",
      "앨범 : THE BOYZ 9th MINI ALBUM [導火線]\n",
      "\n",
      "==================12위===================\n",
      "곡 제목 : Cherish (My Love)\n",
      "가수 : 아일릿(ILLIT)\n",
      "앨범 : I’LL LIKE YOU\n",
      "\n",
      "==================13위===================\n",
      "곡 제목 : 한 페이지가 될 수 있게\n",
      "가수 : DAY6 (데이식스)\n",
      "앨범 : The Book of Us : Gravity\n",
      "\n",
      "==================14위===================\n",
      "곡 제목 : Welcome to the Show\n",
      "가수 : DAY6 (데이식스)\n",
      "앨범 : Fourever\n",
      "\n",
      "==================15위===================\n",
      "곡 제목 : 고민중독\n",
      "가수 : QWER\n",
      "앨범 : 1st Mini Album 'MANITO'\n",
      "\n",
      "==================16위===================\n",
      "곡 제목 : Supernatural\n",
      "가수 : NewJeans\n",
      "앨범 : Supernatural\n",
      "\n",
      "==================17위===================\n",
      "곡 제목 : Supersonic\n",
      "가수 : 프로미스나인\n",
      "앨범 : Supersonic\n",
      "\n",
      "==================18위===================\n",
      "곡 제목 : How Sweet\n",
      "가수 : NewJeans\n",
      "앨범 : How Sweet\n",
      "\n",
      "==================19위===================\n",
      "곡 제목 : LOVE, MONEY, FAME (feat. DJ Khaled)\n",
      "가수 : 세븐틴(SEVENTEEN)\n",
      "앨범 : SEVENTEEN 12th Mini Album ‘SPILL THE FEELS'\n",
      "\n",
      "==================20위===================\n",
      "곡 제목 : 청춘만화\n",
      "가수 : 이무진\n",
      "앨범 : 만화 (滿花)\n",
      "\n",
      "==================21위===================\n",
      "곡 제목 : 네모네모\n",
      "가수 : YENA (최예나)\n",
      "앨범 : 네모네모\n",
      "\n",
      "==================22위===================\n",
      "곡 제목 : 소나기\n",
      "가수 : 이클립스 (ECLIPSE)\n",
      "앨범 : 선재 업고 튀어 OST Part 1\n",
      "\n",
      "==================23위===================\n",
      "곡 제목 : 어떻게 이별까지 사랑하겠어, 널 사랑하는 거지\n",
      "가수 : AKMU(악뮤)\n",
      "앨범 : 항해\n",
      "\n",
      "==================24위===================\n",
      "곡 제목 : Armageddon\n",
      "가수 : aespa\n",
      "앨범 : Armageddon - The 1st Album\n",
      "\n",
      "==================25위===================\n",
      "곡 제목 : MEOW\n",
      "가수 : MEOVV (미야오)\n",
      "앨범 : MEOW\n",
      "\n",
      "==================26위===================\n",
      "곡 제목 : Small girl (feat. 도경수(D.O.))\n",
      "가수 : 이영지\n",
      "앨범 : 16 Fantasy\n",
      "\n",
      "==================27위===================\n",
      "곡 제목 : 클락션 (Klaxon)\n",
      "가수 : (여자)아이들\n",
      "앨범 : I SWAY\n",
      "\n",
      "==================28위===================\n",
      "곡 제목 : 첫 만남은 계획대로 되지 않아\n",
      "가수 : TWS (투어스)\n",
      "앨범 : TWS 1st Mini Album ‘Sparkling Blue’\n",
      "\n",
      "==================29위===================\n",
      "곡 제목 : SOS\n",
      "가수 : FIFTY FIFTY\n",
      "앨범 : Love Tune\n",
      "\n",
      "==================30위===================\n",
      "곡 제목 : Sticky\n",
      "가수 : KISS OF LIFE\n",
      "앨범 : Sticky\n",
      "\n",
      "==================31위===================\n",
      "곡 제목 : 예뻤어\n",
      "가수 : DAY6 (데이식스)\n",
      "앨범 : Every DAY6 February\n",
      "\n",
      "==================32위===================\n",
      "곡 제목 : 나는 아픈 건 딱 질색이니까\n",
      "가수 : (여자)아이들\n",
      "앨범 : 2\n",
      "\n",
      "==================33위===================\n",
      "곡 제목 : Magnetic\n",
      "가수 : 아일릿(ILLIT)\n",
      "앨범 : SUPER REAL ME\n",
      "\n",
      "==================34위===================\n",
      "곡 제목 : 천상연\n",
      "가수 : 이창섭\n",
      "앨범 : 천상연 (웹툰 '선녀외전' X 이창섭 (LEE CHANGSUB))\n",
      "\n",
      "==================35위===================\n",
      "곡 제목 : Ditto\n",
      "가수 : NewJeans\n",
      "앨범 : NewJeans 'OMG'\n",
      "\n",
      "==================36위===================\n",
      "곡 제목 : Love wins all\n",
      "가수 : 아이유(IU)\n",
      "앨범 : The Winning\n",
      "\n",
      "==================37위===================\n",
      "곡 제목 : Bubble Gum\n",
      "가수 : NewJeans\n",
      "앨범 : How Sweet\n",
      "\n",
      "==================38위===================\n",
      "곡 제목 : Love me or Leave me\n",
      "가수 : DAY6 (데이식스)\n",
      "앨범 : The Book of Us : The Demon\n",
      "\n",
      "==================39위===================\n",
      "곡 제목 : 별별별 (See that)\n",
      "가수 : NMIXX\n",
      "앨범 : Fe3O4: STICK OUT\n",
      "\n",
      "==================40위===================\n",
      "곡 제목 : Congratulations\n",
      "가수 : DAY6 (데이식스)\n",
      "앨범 : The Day\n",
      "\n",
      "==================41위===================\n",
      "곡 제목 : 그리운건 그대일까 그때일까 (A Sleepless Night)\n",
      "가수 : 씨엔블루(CNBLUE)\n",
      "앨범 : X\n",
      "\n",
      "==================42위===================\n",
      "곡 제목 : Hype Boy\n",
      "가수 : NewJeans\n",
      "앨범 : NewJeans 1st EP 'New Jeans'\n",
      "\n",
      "==================43위===================\n",
      "곡 제목 : 해야 (HEYA)\n",
      "가수 : IVE (아이브)\n",
      "앨범 : IVE SWITCH\n",
      "\n",
      "==================44위===================\n",
      "곡 제목 : 그녀가 웃었다\n",
      "가수 : DAY6 (데이식스)\n",
      "앨범 : Band Aid\n",
      "\n",
      "==================45위===================\n",
      "곡 제목 : Gravity\n",
      "가수 : FIFTY FIFTY\n",
      "앨범 : Love Tune\n",
      "\n",
      "==================46위===================\n",
      "곡 제목 : 에피소드\n",
      "가수 : 이무진\n",
      "앨범 : 에피소드\n",
      "\n",
      "==================47위===================\n",
      "곡 제목 : 그대만 있다면 (여름날 우리 X 너드커넥션 (Nerd Connection))\n",
      "가수 : 너드커넥션(Nerd Connection)\n",
      "앨범 : 그대만 있다면 (여름날 우리 X 너드커넥션 (Nerd Connection))\n",
      "\n",
      "==================48위===================\n",
      "곡 제목 : To. X\n",
      "가수 : 태연 (TAEYEON)\n",
      "앨범 : To. X - The 5th Mini Album\n",
      "\n",
      "==================49위===================\n",
      "곡 제목 : 인사\n",
      "가수 : 범진\n",
      "앨범 : 인사\n",
      "\n",
      "==================50위===================\n",
      "곡 제목 : 달랐을까\n",
      "가수 : PLAVE\n",
      "앨범 : 나의 해리에게 OST Part.4\n",
      "\n",
      "==================51위===================\n",
      "곡 제목 : 사건의 지평선\n",
      "가수 : 윤하(Younha/ユンナ)\n",
      "앨범 : YOUNHA 6th Album Repackage 'END THEORY : Final Edition'\n",
      "\n",
      "==================52위===================\n",
      "곡 제목 : 비의 랩소디\n",
      "가수 : 임재현\n",
      "앨범 : 비의 랩소디\n",
      "\n",
      "==================53위===================\n",
      "곡 제목 : Boom Boom Bass\n",
      "가수 : RIIZE\n",
      "앨범 : RIIZING - The 1st Mini Album\n",
      "\n",
      "==================54위===================\n",
      "곡 제목 : 밤양갱\n",
      "가수 : 비비(BIBI)\n",
      "앨범 : 밤양갱\n",
      "\n",
      "==================55위===================\n",
      "곡 제목 : 모든 날, 모든 순간 (Every day, Every Moment)\n",
      "가수 : 폴킴(Paul Kim)\n",
      "앨범 : '키스 먼저 할까요?' OST Part.3\n",
      "\n",
      "==================56위===================\n",
      "곡 제목 : Attention\n",
      "가수 : NewJeans\n",
      "앨범 : NewJeans 1st EP 'New Jeans'\n",
      "\n",
      "==================57위===================\n",
      "곡 제목 : 미안해 미워해 사랑해\n",
      "가수 : Crush\n",
      "앨범 : 눈물의 여왕 OST Part.4\n",
      "\n",
      "==================58위===================\n",
      "곡 제목 : 숲\n",
      "가수 : 최유리\n",
      "앨범 : 유영\n",
      "\n",
      "==================59위===================\n",
      "곡 제목 : SPOT! (feat. JENNIE)\n",
      "가수 : 지코 (ZICO)\n",
      "앨범 : SPOT!\n",
      "\n",
      "==================60위===================\n",
      "곡 제목 : Flowers\n",
      "가수 : aespa\n",
      "앨범 : Whiplash - The 5th Mini Album\n",
      "\n",
      "==================61위===================\n",
      "곡 제목 : ETA\n",
      "가수 : NewJeans\n",
      "앨범 : NewJeans 2nd EP 'Get Up'\n",
      "\n",
      "==================62위===================\n",
      "곡 제목 : Super Shy\n",
      "가수 : NewJeans\n",
      "앨범 : NewJeans 2nd EP 'Get Up'\n",
      "\n",
      "==================63위===================\n",
      "곡 제목 : 너의 모든 순간\n",
      "가수 : 성시경\n",
      "앨범 : 별에서 온 그대 (SBS 수목드라마) OST - Part.7\n",
      "\n",
      "==================64위===================\n",
      "곡 제목 : Live My Life\n",
      "가수 : aespa\n",
      "앨범 : Armageddon - The 1st Album\n",
      "\n",
      "==================65위===================\n",
      "곡 제목 : Cruel Summer\n",
      "가수 : Taylor Swift(테일러 스위프트)\n",
      "앨범 : Lover\n",
      "\n",
      "==================66위===================\n",
      "곡 제목 : 아직 거기 살아\n",
      "가수 : DAY6 (데이식스)\n",
      "앨범 : Band Aid\n",
      "\n",
      "==================67위===================\n",
      "곡 제목 : 슬픈 초대장\n",
      "가수 : 순순희 (지환)\n",
      "앨범 : 슬픈 초대장\n",
      "\n",
      "==================68위===================\n",
      "곡 제목 : CRAZY\n",
      "가수 : LE SSERAFIM (르세라핌)\n",
      "앨범 : CRAZY\n",
      "\n",
      "==================69위===================\n",
      "곡 제목 : Spicy\n",
      "가수 : aespa\n",
      "앨범 : MY WORLD - The 3rd Mini Album\n",
      "\n",
      "==================70위===================\n",
      "곡 제목 : After LIKE\n",
      "가수 : IVE (아이브)\n",
      "앨범 : After LIKE\n",
      "\n",
      "==================71위===================\n",
      "곡 제목 : Cosmic\n",
      "가수 : Red Velvet (레드벨벳)\n",
      "앨범 : Cosmic\n",
      "\n",
      "==================72위===================\n",
      "곡 제목 : Firefly\n",
      "가수 : 엔플라잉(N.Flying)\n",
      "앨범 : Dearest\n",
      "\n",
      "==================73위===================\n",
      "곡 제목 : 사랑인가 봐\n",
      "가수 : 멜로망스(MeloMance)\n",
      "앨범 : 사랑인가 봐 (사내맞선 OST 스페셜 트랙)\n",
      "\n",
      "==================74위===================\n",
      "곡 제목 : I AM\n",
      "가수 : IVE (아이브)\n",
      "앨범 : I've IVE\n",
      "\n",
      "==================75위===================\n",
      "곡 제목 : Steal The Show (From “엘리멘탈”)\n",
      "가수 : Lauv(라우브)\n",
      "앨범 : Steal The Show (From “엘리멘탈”)\n",
      "\n",
      "==================76위===================\n",
      "곡 제목 : 산책\n",
      "가수 : 김동률\n",
      "앨범 : 산책\n",
      "\n",
      "==================77위===================\n",
      "곡 제목 : Dangerously\n",
      "가수 : Charlie Puth(찰리 푸스)\n",
      "앨범 : Nine Track Mind (Deluxe Edition)\n",
      "\n",
      "==================78위===================\n",
      "곡 제목 : Igloo\n",
      "가수 : KISS OF LIFE\n",
      "앨범 : Lose Yourself\n",
      "\n",
      "==================79위===================\n",
      "곡 제목 : 주저하는 연인들을 위해\n",
      "가수 : 잔나비\n",
      "앨범 : 전설\n",
      "\n",
      "==================80위===================\n",
      "곡 제목 : Touch\n",
      "가수 : KATSEYE\n",
      "앨범 : SIS (Soft Is Strong)\n",
      "\n",
      "==================81위===================\n",
      "곡 제목 : LOVE DIVE\n",
      "가수 : IVE (아이브)\n",
      "앨범 : LOVE DIVE\n",
      "\n",
      "==================82위===================\n",
      "곡 제목 : 내가 S면 넌 나의 N이 되어줘\n",
      "가수 : TWS (투어스)\n",
      "앨범 : TWS 2nd Mini Album ‘SUMMER BEAT!’\n",
      "\n",
      "==================83위===================\n",
      "곡 제목 : 헤어지자 말해요\n",
      "가수 : 박재정\n",
      "앨범 : 1집 Alone\n",
      "\n",
      "==================84위===================\n",
      "곡 제목 : Kill It\n",
      "가수 : aespa\n",
      "앨범 : Whiplash - The 5th Mini Album\n",
      "\n",
      "==================85위===================\n",
      "곡 제목 : 태양물고기\n",
      "가수 : 윤하(Younha/ユンナ)\n",
      "앨범 : YOUNHA 7th Album 'GROWTH THEORY'\n",
      "\n",
      "==================86위===================\n",
      "곡 제목 : Love Lee\n",
      "가수 : AKMU(악뮤)\n",
      "앨범 : Love Lee\n",
      "\n",
      "==================87위===================\n",
      "곡 제목 : New Jeans\n",
      "가수 : NewJeans\n",
      "앨범 : NewJeans 2nd EP 'Get Up'\n",
      "\n",
      "==================88위===================\n",
      "곡 제목 : Blue Moon\n",
      "가수 : 엔플라잉(N.Flying)\n",
      "앨범 : Once in a BLUE MOON\n",
      "\n",
      "==================89위===================\n",
      "곡 제목 : OMG\n",
      "가수 : NewJeans\n",
      "앨범 : NewJeans 'OMG'\n",
      "\n",
      "==================90위===================\n",
      "곡 제목 : Get A Guitar\n",
      "가수 : RIIZE\n",
      "앨범 : Get A Guitar\n",
      "\n",
      "==================91위===================\n",
      "곡 제목 : Girls Never Die\n",
      "가수 : tripleS (트리플에스)\n",
      "앨범 : <ASSEMBLE24>\n",
      "\n",
      "==================92위===================\n",
      "곡 제목 : Drama\n",
      "가수 : aespa\n",
      "앨범 : Drama - The 4th Mini Album\n",
      "\n",
      "==================93위===================\n",
      "곡 제목 : 청혼하지 않을 이유를 못 찾았어\n",
      "가수 : 이무진\n",
      "앨범 : 청혼하지 않을 이유를 못 찾았어\n",
      "\n",
      "==================94위===================\n",
      "곡 제목 : 사랑은 늘 도망가\n",
      "가수 : 임영웅\n",
      "앨범 : 신사와 아가씨 OST Part.2\n",
      "\n",
      "==================95위===================\n",
      "곡 제목 : 오래된 노래\n",
      "가수 : 허각\n",
      "\n",
      "\n",
      "허각\n",
      "앨범 : 오래된 노래\n",
      "\n",
      "==================96위===================\n",
      "곡 제목 : MANIAC\n",
      "가수 : VIVIZ (비비지)\n",
      "앨범 : The 4th Mini Album 'VERSUS'\n",
      "\n",
      "==================97위===================\n",
      "곡 제목 : 그랬나봐\n",
      "가수 : 유회승 (엔플라잉)\n",
      "앨범 : 선재 업고 튀어 OST Part 6\n",
      "\n",
      "==================98위===================\n",
      "곡 제목 : Die With A Smile\n",
      "가수 : Lady GaGa(레이디 가가)\n",
      "\n",
      "\n",
      "Lady GaGa(레이디 가가)\n",
      "앨범 : Die With A Smile\n",
      "\n",
      "==================99위===================\n",
      "곡 제목 : Seven (feat. Latto) - Clean Ver.\n",
      "가수 : 정국\n",
      "앨범 : Seven (feat. Latto) - Clean Ver.\n",
      "\n",
      "==================100위==================\n",
      "곡 제목 : SHEESH\n",
      "가수 : BABYMONSTER\n",
      "앨범 : BABYMONS7ER\n",
      "\n"
     ]
    }
   ],
   "source": [
    "# 앨범 이미지, 곡 제목, 가수, 앨범\n",
    "for idx, item in enumerate(bugs, start =1):\n",
    "    print(f'{str(idx)+\"위\":=^40}')\n",
    "    print(f'곡 제목 : {item.select_one(\".title\").text.strip().replace(\"?\",\"\")}')\n",
    "    print(f'가수 : {item.select_one(\".artist\").text.strip()}')\n",
    "    print(f'앨범 : {item.select_one(\".album\").text.strip()}')\n",
    "    print()\n",
    "    album = item.select_one('img').get('src')\n",
    "    # print(album)\n",
    "    response_album = requests.get(album)\n",
    "    file_name = f'{path_save}{idx}위_{item.select_one(\".title\").text.strip().replace(\"?\",\"\")}.jpg'\n",
    "    with open(file_name,'wb') as file:\n",
    "        file.write(response_album.content)"
   ]
  },
  {
   "cell_type": "markdown",
   "metadata": {},
   "source": [
    "### 실습 과제"
   ]
  },
  {
   "cell_type": "markdown",
   "metadata": {},
   "source": [
    "#### 알라딘 -> 컴퓨터 모바일 -> 베스트 셀러 책이름 가져오기"
   ]
  },
  {
   "cell_type": "code",
   "execution_count": 22,
   "metadata": {},
   "outputs": [],
   "source": [
    "url = 'https://www.aladin.co.kr/shop/common/wbest.aspx?BestType=Bestseller&BranchType=1&CID=351'\n",
    "response = requests.get(url)\n",
    "soup = bs(response.text,'html.parser')\n",
    "# soup"
   ]
  },
  {
   "cell_type": "code",
   "execution_count": 23,
   "metadata": {},
   "outputs": [],
   "source": [
    "best_list = soup.find_all(name = 'div', attrs = {'class':'ss_book_box'})\n",
    "# print(best_list)"
   ]
  },
  {
   "cell_type": "code",
   "execution_count": 62,
   "metadata": {},
   "outputs": [
    {
     "name": "stdout",
     "output_type": "stream",
     "text": [
      "['박태웅의 AI 강의 2025', '진짜 쓰는 실무 엑셀', '머니코치 최준호의 네이버 3대장 마케팅', '비전공자도 이해할 수 있는 AI 지식 (10만부 기념 개정판)', '디자인 구구단', '2022 개정 교육과정 평가, AI로 날개를 달다 : 개념기반 교육과정', '소프트웨어 엔지니어 가이드북', '이게 되네? 챗GPT 미친 활용법 51제', '인공지능이 다 해주는 브루 Vrew 영상 편집', '파이썬 라이브러리를 활용한 데이터 분석', '한 권으로 배우는 게임 프로그래밍', '케라스로 구현하는 딥러닝', '된다! 하루 만에 끝내는 챗GPT 활용법', '정말 쉽네? 챗GPT 입문', '회사는 엑셀을 가르쳐주지 않아요', '색 잘 쓰는 디자이너', '잘 읽히는 보고서 문장의 비밀', '밑바닥부터 시작하는 딥러닝 5', '혼자 공부하는 컴퓨터 구조 + 운영체제', '투시 드로잉', '전혀 다른 생성형 AI', '블록체인 프로젝트', '혼자 공부하는 파이썬', '진짜 쓰는 프리미어 프로 영상 편집', '혼자 공부하는 네트워크', 'Do it! 점프 투 파이썬', '2024 시대에듀 유선배 SQL개발자(SQLD) 과외노트', 'JVM 밑바닥까지 파헤치기', '블렌더로 애니 그림체 캐릭터를 만들어보자! : 카툰 렌더링편', 'FastAPI로 배우는 백엔드 프로그래밍 with 클린 아키텍처', '가상 면접 사례로 배우는 대규모 시스템 설계 기초', '된다! 블로그 10분 작성법', 'LLM을 활용한 실전 AI 애플리케이션 개발', '맛있는 디자인 포토샵 & 일러스트레이터 CC 2024', '블렌더로 애니 그림체 캐릭터를 만들어보자! : 모델링편', '그림으로 이해하는 시스템 설계', '혼자 해도 프로처럼 잘 만드는 굿즈 제작 비법', '이것이 취업을 위한 컴퓨터 과학이다 with CS 기술 면접', 'AI를 위한 필수 수학', '데이터 지향 프로그래밍', '무조건 쿠팡에서 팔아라 그래야 산다', '따라하며 쉽게 배우는 모던 리액트 완벽 입문', '챗봇 2025', '코딩 자율학습 나도코딩의 파이썬 입문', '친절한 빛과 색', '린 스타트업', '컴퓨터 밑바닥의 비밀', 'IT 트렌드 2025', 'the AI GRAPHICS : 인공지능, 캐릭터, 웹툰, 패션, 세계관, 디지털디자인', '월 20달러로 비즈니스 글쓰기 with 챗GPT']\n"
     ]
    }
   ],
   "source": [
    "title_list = []\n",
    "for data in best_list:\n",
    "    title_all = data.find(name='a',attrs={'class':'bo3'})\n",
    "    # print(title_all) # 문자열 하나씩 나오는 것을\n",
    "    title_list.append(title_all.text) # 리스트에 추가\n",
    "    \n",
    "print(title_list)"
   ]
  },
  {
   "cell_type": "code",
   "execution_count": 63,
   "metadata": {},
   "outputs": [],
   "source": [
    "# 파일로 내보내기\n",
    "with open(out_path+'/aladin_IT_best.txt','w') as file:\n",
    "    file.write('======= 알라딘 IT 부분 BEST 50 ======='+'\\n')\n",
    "    num = 0\n",
    "    for data in title_list:\n",
    "        file.write(f'BEST{num+1} book name : {data}\\n') \n",
    "        num += 1"
   ]
  }
 ],
 "metadata": {
  "kernelspec": {
   "display_name": "base",
   "language": "python",
   "name": "python3"
  },
  "language_info": {
   "codemirror_mode": {
    "name": "ipython",
    "version": 3
   },
   "file_extension": ".py",
   "mimetype": "text/x-python",
   "name": "python",
   "nbconvert_exporter": "python",
   "pygments_lexer": "ipython3",
   "version": "3.12.4"
  }
 },
 "nbformat": 4,
 "nbformat_minor": 2
}
