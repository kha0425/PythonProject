{
 "cells": [
  {
   "cell_type": "code",
   "execution_count": 2,
   "metadata": {},
   "outputs": [],
   "source": [
    "import time\n",
    "import share\n",
    "import pandas as pd\n",
    "from selenium import webdriver\n",
    "from selenium.webdriver.common.by import By\n",
    "from selenium.webdriver.common.keys import Keys\n",
    "from bs4 import BeautifulSoup as bs\n",
    "import os\n",
    "import urllib.request as req"
   ]
  },
  {
   "cell_type": "code",
   "execution_count": 2,
   "metadata": {},
   "outputs": [],
   "source": [
    "data_path = './data'\n",
    "out_path = './output'"
   ]
  },
  {
   "cell_type": "markdown",
   "metadata": {},
   "source": [
    "# 웹 크롤링(Selenium)"
   ]
  },
  {
   "cell_type": "code",
   "execution_count": 3,
   "metadata": {},
   "outputs": [],
   "source": [
    "options = webdriver.ChromeOptions()\n",
    "# 작업 후에도 브라우저 창을 열어두도록 설정\n",
    "options.add_experimental_option('detach',True)\n",
    "driver = webdriver.Chrome(options=options)"
   ]
  },
  {
   "cell_type": "markdown",
   "metadata": {},
   "source": [
    "## 1 다나와 로그인 후 관심 상품 가져오기"
   ]
  },
  {
   "cell_type": "markdown",
   "metadata": {},
   "source": [
    "### 다나와 로그인 화면 접속"
   ]
  },
  {
   "cell_type": "code",
   "execution_count": 4,
   "metadata": {},
   "outputs": [
    {
     "name": "stdout",
     "output_type": "stream",
     "text": [
      "HTML 요소: <selenium.webdriver.remote.webelement.WebElement (session=\"3cacfe69bbe5ce47a72424a005a693d8\", element=\"f.19EA27B5744836A072F113A3D302DE4B.d.0B178F98ED121C311A5B7FFA9AACA2E3.e.466\")>\n",
      "태그 이름: a\n",
      "문자열: 로그인\n",
      "href 요소: https://auth.danawa.com/login?url=https%3A%2F%2Fwww.danawa.com%2F\n"
     ]
    }
   ],
   "source": [
    "url = 'https://www.danawa.com/'\n",
    "\n",
    "driver.get(url) # 해당 주소로 이동\n",
    "\n",
    "# driver.implicitly_wait(second) : 페이지가 로딩될 때 second초 만큼 기다린다.\n",
    "driver.implicitly_wait(3)\n",
    "\n",
    "driver.maximize_window() # 창을 최대화\n",
    "\n",
    "# 사이트에 따라 너무 빨리 동작을 하면 크롤링으로 판정할 수 있으므로 일정 초수로 쉬어주는 것이 좋다.\n",
    "# 상이트에 따라 일정 시간을 규칙적으로 쉬면 크롤링으로 판정하는 경우도 있다.\n",
    "time.sleep(3) #3초 기다린다.\n",
    "\n",
    "login = driver.find_element(By.CSS_SELECTOR,'#danawa_header > div > div > div.main-header__banner > div.main-header__user > div:nth-child(5) > a' ) # css selector를 이용해서 요소 선택\n",
    "\n",
    "print(f'HTML 요소: {login}')\n",
    "print(f'태그 이름: {login.tag_name}')\n",
    "print(f'문자열: {login.text}')\n",
    "print(f'href 요소: {login.get_attribute(\"href\")}')\n",
    "\n",
    "login.click() # 마우스 클릭 동작 구현\n",
    "driver.implicitly_wait(3)\n",
    "time.sleep(3)"
   ]
  },
  {
   "cell_type": "markdown",
   "metadata": {},
   "source": [
    "### 다나와 로그인 실행"
   ]
  },
  {
   "cell_type": "code",
   "execution_count": 5,
   "metadata": {},
   "outputs": [],
   "source": [
    "my_id, my_pass = share.get_danawa_login_info()\n",
    "# send_keys() : 해당 요소에 키 입력\n",
    "# send_keys(Keys.ENTER)-> 엔터키를 입력\n",
    "driver.find_element(By.ID, 'danawa-member-login-input-id').send_keys(my_id) # 아이디 입력\n",
    "time.sleep(2)\n",
    "driver.find_element(By.NAME, 'password').send_keys(my_pass) # 비밀번호 입력\n",
    "driver.find_element(By.CSS_SELECTOR, '#danawa-member-login-loginButton').click() # 버튼 클릭\n",
    "time.sleep(2)"
   ]
  },
  {
   "cell_type": "markdown",
   "metadata": {},
   "source": [
    "### 다나와 관심상품 가져오기"
   ]
  },
  {
   "cell_type": "code",
   "execution_count": 6,
   "metadata": {},
   "outputs": [
    {
     "name": "stdout",
     "output_type": "stream",
     "text": [
      "--------------------------------------------------\n",
      "관심 품목 : APPLE 워치 SE 2세대 40mm 실버 알루미늄 (스포츠밴드)\n",
      "관심 품목 가격 : 312,550원\n",
      "링크 : https://prod.danawa.com/info/?pcode=13156116\n",
      "--------------------------------------------------\n",
      "관심 품목 : Microsoft 서피스 프로11 X Elite (램16GB, SSD 512GB)\n",
      "관심 품목 가격 : 1,997,090원\n",
      "링크 : https://prod.danawa.com/info/?pcode=54314645\n",
      "--------------------------------------------------\n",
      "관심 품목 : 로지텍 LIFT VERTICAL (정품) (그라파이트)\n",
      "관심 품목 가격 : 71,000원\n",
      "링크 : https://prod.danawa.com/info/?pcode=16909604\n",
      "--------------------------------------------------\n",
      "관심 품목 : 신일전자 air S10 SIF-E9CJB (1개)\n",
      "관심 품목 가격 : 141,540원\n",
      "링크 : https://prod.danawa.com/info/?pcode=52156871\n"
     ]
    }
   ],
   "source": [
    "# 관심 상품 목록 HTML 펴이지 가져오기\n",
    "heart = driver.find_element(By.CSS_SELECTOR,'#danawa_header > div > div > div.main-header__banner > div.main-header__user > div:nth-child(4) > a')\n",
    "heart.click() # 마우스 클릭 동작 구현\n",
    "driver.implicitly_wait(3)\n",
    "html = driver.page_source\n",
    "# 뷰티풀숲으로 파싱하기\n",
    "soup = bs(html,'html.parser')\n",
    "tag = soup.select('#wishProductListArea > table > tbody')[0]\n",
    "rows = tag.select('tbody tr')\n",
    "\n",
    "for item in rows:\n",
    "    title = item.find('div', {'class':'tit'}).text\n",
    "    price = item.find('span',{'class':'price'}).text.strip()\n",
    "    link = item.find('a').get('href')\n",
    "    print('-'*50)\n",
    "    print(f'관심 품목 : {title}')\n",
    "    print(f'관심 품목 가격 : {price}')\n",
    "    print(f'링크 : {link}')"
   ]
  },
  {
   "cell_type": "markdown",
   "metadata": {},
   "source": [
    "## 2 유튜브 검색 결과 가져오기"
   ]
  },
  {
   "cell_type": "code",
   "execution_count": 11,
   "metadata": {},
   "outputs": [],
   "source": [
    "options = webdriver.ChromeOptions()\n",
    "options.add_experimental_option('detach',True)\n",
    "# 드라이버 실행\n",
    "driver = webdriver.Chrome(options=options)"
   ]
  },
  {
   "cell_type": "code",
   "execution_count": 4,
   "metadata": {},
   "outputs": [
    {
     "name": "stdout",
     "output_type": "stream",
     "text": [
      "접속한 웹 사이트의 제목 : 푸바오 - YouTube\n",
      "접속한 웹 사이트의 url: https://www.youtube.com/results?search_query=%ED%91%B8%EB%B0%94%EC%98%A4\n"
     ]
    }
   ],
   "source": [
    "keyword = '푸바오'\n",
    "url = f'https://www.youtube.com/results?search_query={keyword}'\n",
    "\n",
    "driver.get(url) # 웹 브라우저를 실행해 지정한 url에 접속\n",
    "time.sleep(3)\n",
    "\n",
    "print(f'접속한 웹 사이트의 제목 : {driver.title}')\n",
    "print(f'접속한 웹 사이트의 url: {driver.current_url}')"
   ]
  },
  {
   "cell_type": "markdown",
   "metadata": {},
   "source": [
    "### 정렬 기준 지정 해서 불러오기"
   ]
  },
  {
   "cell_type": "code",
   "execution_count": 5,
   "metadata": {},
   "outputs": [],
   "source": [
    "# 유튜브의 경우 내부 알고리즘으로 정렬을 하기 때문에\n",
    "# 원하는 결과와 다를 수 있다. 검색 시 일정한 값이 나오지 않는다.\n",
    "\n",
    "# 필터를 이용해서 정리\n",
    "# 관련성 : https://www.youtube.com/results?search_query=%ED%91%B8%EB%B0%94%EC%98%A4&sp=CAASAhAB\n",
    "# 업로드 날짜 : https://www.youtube.com/results?search_query=%ED%91%B8%EB%B0%94%EC%98%A4&sp=CAI%253D\n",
    "# 조회수 : https://www.youtube.com/results?search_query=%ED%91%B8%EB%B0%94%EC%98%A4&sp=CAMSAhAB\n",
    "# 평점 : https://www.youtube.com/results?search_query=%ED%91%B8%EB%B0%94%EC%98%A4&sp=CAESAhAB\n",
    "# sp= 뒤의 문자열을 사용하면 정렬 기준을 적용해서 불러올 수 있다."
   ]
  },
  {
   "cell_type": "code",
   "execution_count": 6,
   "metadata": {},
   "outputs": [
    {
     "name": "stdout",
     "output_type": "stream",
     "text": [
      "접속한 웹 사이트의 제목 : \n",
      "접속한 웹 사이트의 url: https://www.youtube.com/results?search_query=%ED%91%B8%EB%B0%94%EC%98%A4&sp=CAMSAhAB\n"
     ]
    }
   ],
   "source": [
    "# 조회수 기준으로 불러온다.\n",
    "keyword = '푸바오'\n",
    "url = f'https://www.youtube.com/results?search_query={keyword}&sp=CAMSAhAB'\n",
    "\n",
    "driver.get(url) # 웹 브라우저를 실행해 지정한 url에 접속\n",
    "time.sleep(3)\n",
    "\n",
    "print(f'접속한 웹 사이트의 제목 : {driver.title}')\n",
    "print(f'접속한 웹 사이트의 url: {driver.current_url}')"
   ]
  },
  {
   "cell_type": "markdown",
   "metadata": {},
   "source": [
    "### 영상 제목, 링크 추출"
   ]
  },
  {
   "cell_type": "code",
   "execution_count": 7,
   "metadata": {},
   "outputs": [],
   "source": [
    "html = driver.page_source # request get 함수와 동일\n",
    "soup = bs(html,'html.parser')\n",
    "\n",
    "# id값으로 video-title을 사용하는 a태그 모두 가져오기\n",
    "titles = soup.select('a#video-title')\n",
    "\n",
    "# # <a id=\"video-title\" class=\"yt-simple-endpoint style-scope ytd-video-renderer\" title=\"하부지랑 같이 놀고 싶었던 찰거머리 아기판다 | 에버랜드 판다월드 푸바오 (Baby Panda 'FuBao')\" aria-label=\"하부지랑 같이 놀고 싶었던 찰거머리 아기판다 | 에버랜드 판다월드 푸바오 (Baby Panda 'FuBao') 게시자: 에버랜드 - EVERLAND 조회수 16,304,890회 3년 전 1분 56초\" href=\"/watch?v=zH9n4777x80&amp;pp=ygUJ7ZG467CU7Jik\">\n",
    "#             <yt-icon id=\"inline-title-icon\" class=\"style-scope ytd-video-renderer\" hidden=\"\"><!--css-build:shady--><!--css-build:shady--></yt-icon>\n",
    "#             <yt-formatted-string class=\"style-scope ytd-video-renderer\" aria-label=\"하부지랑 같이 놀고 싶었던 찰거머리 아기판다 | 에버랜드 판다월드 푸바오 (Baby Panda 'FuBao') 게시자: 에버랜드 - EVERLAND 조회수 16,304,890회 3년 전 1분 56초\">하부지랑 같이 놀고 싶었던 찰거머리 아기판다 | 에버랜드 판다월드 푸바오 (Baby Panda 'FuBao')</yt-formatted-string>\n",
    "#           </a>\n",
    "\n",
    "# print(titles)"
   ]
  },
  {
   "cell_type": "code",
   "execution_count": 12,
   "metadata": {},
   "outputs": [
    {
     "name": "stdout",
     "output_type": "stream",
     "text": [
      "판다 할배와 팔짱 데이트 | 에버랜드 아기판다 #푸바오 (Panda FuBao) #shorts\n"
     ]
    }
   ],
   "source": [
    "# 제목 출력\n",
    "print(titles[0].text.strip())"
   ]
  },
  {
   "cell_type": "code",
   "execution_count": 13,
   "metadata": {},
   "outputs": [
    {
     "name": "stdout",
     "output_type": "stream",
     "text": [
      "https://www.youtube.com/shorts/IenW7-OrBVU\n"
     ]
    }
   ],
   "source": [
    "# 링크 주소\n",
    "base_url = 'https://www.youtube.com'\n",
    "print(base_url + titles[0]['href'])"
   ]
  },
  {
   "cell_type": "markdown",
   "metadata": {},
   "source": [
    "### 조회수, 업로드 시기"
   ]
  },
  {
   "cell_type": "code",
   "execution_count": 14,
   "metadata": {},
   "outputs": [
    {
     "name": "stdout",
     "output_type": "stream",
     "text": [
      "[<span class=\"inline-metadata-item style-scope ytd-video-meta-block\">조회수 2676만회</span>, <span class=\"inline-metadata-item style-scope ytd-video-meta-block\">3년 전</span>, <span class=\"inline-metadata-item style-scope ytd-video-meta-block\">조회수 1910만회</span>, <span class=\"inline-metadata-item style-scope ytd-video-meta-block\">2년 전</span>, <span class=\"inline-metadata-item style-scope ytd-video-meta-block\">조회수 1287만회</span>, <span class=\"inline-metadata-item style-scope ytd-video-meta-block\">2년 전</span>]\n"
     ]
    }
   ],
   "source": [
    "# <span class=\"inline-metadata-item style-scope ytd-video-meta-block\">조회수 1630만회</span>\n",
    "view_upload = soup.select('span.inline-metadata-item.style-scope.ytd-video-meta-block')\n",
    "print((view_upload[:6]))"
   ]
  },
  {
   "cell_type": "code",
   "execution_count": 15,
   "metadata": {},
   "outputs": [
    {
     "name": "stdout",
     "output_type": "stream",
     "text": [
      "<span class=\"inline-metadata-item style-scope ytd-video-meta-block\">조회수 2676만회</span>\n"
     ]
    }
   ],
   "source": [
    "print(view_upload[0]) # 조회수"
   ]
  },
  {
   "cell_type": "code",
   "execution_count": 16,
   "metadata": {},
   "outputs": [
    {
     "name": "stdout",
     "output_type": "stream",
     "text": [
      "<span class=\"inline-metadata-item style-scope ytd-video-meta-block\">3년 전</span>\n"
     ]
    }
   ],
   "source": [
    "print(view_upload[1]) # 업로드 시기"
   ]
  },
  {
   "cell_type": "code",
   "execution_count": 17,
   "metadata": {},
   "outputs": [
    {
     "name": "stdout",
     "output_type": "stream",
     "text": [
      "조회수 2676만회\n",
      "3년 전\n"
     ]
    }
   ],
   "source": [
    "# 짝수 인덱스는 조회수, 홀수 인덱스는 업로드 시기\n",
    "print(view_upload[0].text)\n",
    "print(view_upload[1].text)"
   ]
  },
  {
   "cell_type": "markdown",
   "metadata": {},
   "source": [
    "### 동영상의 정보를 조회수로 가져오는 함수 만들기"
   ]
  },
  {
   "cell_type": "code",
   "execution_count": 12,
   "metadata": {},
   "outputs": [],
   "source": [
    "# 매개변수를 키워드(컴색할 단어)를 받아서 동영상 정보를 조회순으로\n",
    "# 가져오는 함수 작성\n",
    "# 동영상의 제목, 링크, 조회수, 업로드 시기 추출\n",
    "# 결과 데이터 프레임을 csv로 내본낸다.\n",
    "\n",
    "def get_data_from_youtube(keyword, is_scroll=False):\n",
    "    scroll_count = 10 # 스크롤 회수\n",
    "    base_url = 'https://www.youtube.com/'\n",
    "    search_word = f'results?search_query={keyword}'\n",
    "    search_option = '&sp=CAMSAhAB' # 조회수 기준으로 정렬\n",
    "    # 접속하고자 하는 웹사이트\n",
    "    url = base_url + search_word + search_option\n",
    "    driver.get(url) # 웹 브라우저를 실행해서 지정한 url에 접속\n",
    "    time.sleep(3)\n",
    "\n",
    "    # 검색어에 따라 거의 무한대의 결과물이 나올 수도 있고,\n",
    "    # 또는 관련성이 적은 데이터로 노출이 될 수 있어서\n",
    "    # 특정 횟수(scroll_count)만큼만 스크롤 내린다.\n",
    "    if is_scroll:\n",
    "        # 수직(y축 방향)으로 스크롤 동작하기\n",
    "        y = 0 # y축 방향으로 스크롤 이동할 거리 초기화\n",
    "        y_step = 1000 # 1000픽셀(조금씩 조금씩 스크롤 내려가는 방식)\n",
    "        for k in range(scroll_count):\n",
    "            y += y_step # 반복할 때마다 y축 방향으로 더해지는 거리 지정\n",
    "            script = f'window.scrollTo(0,{y})' # 자바스크립트(스크롤 해라)\n",
    "            driver.execute_script(script) # y축 방향으로 스크롤\n",
    "            time.sleep(3) # 결과를 받아올 때까지 잠시 기다린다.\n",
    "    \n",
    "    html = driver.page_source # 접속후에 해당 page의 html 코드를 가져온다.\n",
    "    soup = bs(html,'html.parser')\n",
    "\n",
    "    # 1. 동영상 제목과 url 추출\n",
    "    title_hrefs = soup.select('a#video-title')\n",
    "    titles = []\n",
    "    urls = []\n",
    "    for title_href in title_hrefs:\n",
    "        title = title_href['title'] # 태그 안에서 title 속성 값 가져오기\n",
    "        url = base_url + title_href['href'] # href 속성의 값 가져와 기본 url과 합친다.\n",
    "        titles.append(title)\n",
    "        urls.append(url)\n",
    "\n",
    "    # 2. 조회수와 업로드 시기 추출하기(업로드 시기가 없는 경우도 있다.)\n",
    "    tags = soup.select('ytd-video-renderer.style-scope.ytd-item-section-renderer')\n",
    "    views = []\n",
    "    uploads = []  \n",
    "    for tag in tags:\n",
    "        view_uploads = tag.select('span.inline-metadata-item.style-scope.ytd-video-meta-block')\n",
    "        view_num = view_uploads[0] # 인덱스가 짝수인 요소 선택\n",
    "        view = view_num.get_text() # 조회수 추출\n",
    "        view = view.split()[1]\n",
    "        views.append(view)\n",
    "\n",
    "        # 0번 인덱스 -> 조회수, 1번 인덱스 -> 업로드 시기\n",
    "        if len(view_uploads) == 2:\n",
    "            upload = view_uploads[1].get_text() # 업로드 시기 추출\n",
    "        else:\n",
    "            upload = ''\n",
    "        uploads.append(upload)\n",
    "\n",
    "    # 3. 추출된 정보를 모은다.\n",
    "    search_results = []\n",
    "    # 네 개의 리스트를 합쳐서(zip 함수) for문 돌린다.\n",
    "    for title, url, view, upload in zip(titles, urls, views, uploads):\n",
    "        search_result = [title, url, view, upload]\n",
    "        search_results.append(search_result)\n",
    "\n",
    "    # 4. 추출한 결과를 판다스 데이터프레임 형식으로 변환\n",
    "    import pandas as pd\n",
    "    df = pd.DataFrame(search_results, columns = ['제목','링크','조회수','업로드'])\n",
    "\n",
    "    return df\n"
   ]
  },
  {
   "cell_type": "code",
   "execution_count": 13,
   "metadata": {},
   "outputs": [],
   "source": [
    "df = get_data_from_youtube('tensorflow', is_scroll=True)"
   ]
  },
  {
   "cell_type": "code",
   "execution_count": 20,
   "metadata": {},
   "outputs": [
    {
     "data": {
      "text/html": [
       "<div>\n",
       "<style scoped>\n",
       "    .dataframe tbody tr th:only-of-type {\n",
       "        vertical-align: middle;\n",
       "    }\n",
       "\n",
       "    .dataframe tbody tr th {\n",
       "        vertical-align: top;\n",
       "    }\n",
       "\n",
       "    .dataframe thead th {\n",
       "        text-align: right;\n",
       "    }\n",
       "</style>\n",
       "<table border=\"1\" class=\"dataframe\">\n",
       "  <thead>\n",
       "    <tr style=\"text-align: right;\">\n",
       "      <th></th>\n",
       "      <th>제목</th>\n",
       "      <th>링크</th>\n",
       "      <th>조회수</th>\n",
       "      <th>업로드</th>\n",
       "    </tr>\n",
       "  </thead>\n",
       "  <tbody>\n",
       "    <tr>\n",
       "      <th>0</th>\n",
       "      <td>Machine Learning for Everybody – Full Course</td>\n",
       "      <td>https://www.youtube.com//watch?v=i_LwzRVP7bg&amp;t...</td>\n",
       "      <td>681만회</td>\n",
       "      <td>2년 전</td>\n",
       "    </tr>\n",
       "    <tr>\n",
       "      <th>1</th>\n",
       "      <td>TensorFlow 2.0 전체 과정 - 초보자를 위한 Python 신경망 튜토리얼</td>\n",
       "      <td>https://www.youtube.com//watch?v=tPYj3fFJGjk&amp;p...</td>\n",
       "      <td>312만회</td>\n",
       "      <td>4년 전</td>\n",
       "    </tr>\n",
       "    <tr>\n",
       "      <th>2</th>\n",
       "      <td>딥러닝 기초: 소개 및 개요</td>\n",
       "      <td>https://www.youtube.com//watch?v=O5xeyoRL95U&amp;t...</td>\n",
       "      <td>235만회</td>\n",
       "      <td>5년 전</td>\n",
       "    </tr>\n",
       "    <tr>\n",
       "      <th>3</th>\n",
       "      <td>처음부터 신경망 구축(Tensorflow/Pytorch 없음, numpy 및 수학만...</td>\n",
       "      <td>https://www.youtube.com//watch?v=w8yWXqWQYmU&amp;p...</td>\n",
       "      <td>214만회</td>\n",
       "      <td>3년 전</td>\n",
       "    </tr>\n",
       "    <tr>\n",
       "      <th>4</th>\n",
       "      <td>여러분의 커뮤니티가 TensorFlow.js로 만들어내는 놀라운 것들 - #Made...</td>\n",
       "      <td>https://www.youtube.com//watch?v=WvHr-yGnGPw&amp;p...</td>\n",
       "      <td>174만회</td>\n",
       "      <td>2년 전</td>\n",
       "    </tr>\n",
       "  </tbody>\n",
       "</table>\n",
       "</div>"
      ],
      "text/plain": [
       "                                                  제목  \\\n",
       "0       Machine Learning for Everybody – Full Course   \n",
       "1     TensorFlow 2.0 전체 과정 - 초보자를 위한 Python 신경망 튜토리얼   \n",
       "2                                    딥러닝 기초: 소개 및 개요   \n",
       "3  처음부터 신경망 구축(Tensorflow/Pytorch 없음, numpy 및 수학만...   \n",
       "4  여러분의 커뮤니티가 TensorFlow.js로 만들어내는 놀라운 것들 - #Made...   \n",
       "\n",
       "                                                  링크    조회수   업로드  \n",
       "0  https://www.youtube.com//watch?v=i_LwzRVP7bg&t...  681만회  2년 전  \n",
       "1  https://www.youtube.com//watch?v=tPYj3fFJGjk&p...  312만회  4년 전  \n",
       "2  https://www.youtube.com//watch?v=O5xeyoRL95U&t...  235만회  5년 전  \n",
       "3  https://www.youtube.com//watch?v=w8yWXqWQYmU&p...  214만회  3년 전  \n",
       "4  https://www.youtube.com//watch?v=WvHr-yGnGPw&p...  174만회  2년 전  "
      ]
     },
     "execution_count": 20,
     "metadata": {},
     "output_type": "execute_result"
    }
   ],
   "source": [
    "df.head()"
   ]
  },
  {
   "cell_type": "code",
   "execution_count": 21,
   "metadata": {},
   "outputs": [
    {
     "data": {
      "text/html": [
       "<div>\n",
       "<style scoped>\n",
       "    .dataframe tbody tr th:only-of-type {\n",
       "        vertical-align: middle;\n",
       "    }\n",
       "\n",
       "    .dataframe tbody tr th {\n",
       "        vertical-align: top;\n",
       "    }\n",
       "\n",
       "    .dataframe thead th {\n",
       "        text-align: right;\n",
       "    }\n",
       "</style>\n",
       "<table border=\"1\" class=\"dataframe\">\n",
       "  <thead>\n",
       "    <tr style=\"text-align: right;\">\n",
       "      <th></th>\n",
       "      <th>제목</th>\n",
       "      <th>링크</th>\n",
       "      <th>조회수</th>\n",
       "      <th>업로드</th>\n",
       "    </tr>\n",
       "  </thead>\n",
       "  <tbody>\n",
       "    <tr>\n",
       "      <th>0</th>\n",
       "      <td>Machine Learning for Everybody – Full Course</td>\n",
       "      <td>https://www.youtube.com//watch?v=i_LwzRVP7bg&amp;t...</td>\n",
       "      <td>681만회</td>\n",
       "      <td>2년 전</td>\n",
       "    </tr>\n",
       "    <tr>\n",
       "      <th>1</th>\n",
       "      <td>TensorFlow 2.0 전체 과정 - 초보자를 위한 Python 신경망 튜토리얼</td>\n",
       "      <td>https://www.youtube.com//watch?v=tPYj3fFJGjk&amp;p...</td>\n",
       "      <td>312만회</td>\n",
       "      <td>4년 전</td>\n",
       "    </tr>\n",
       "    <tr>\n",
       "      <th>2</th>\n",
       "      <td>딥러닝 기초: 소개 및 개요</td>\n",
       "      <td>https://www.youtube.com//watch?v=O5xeyoRL95U&amp;t...</td>\n",
       "      <td>235만회</td>\n",
       "      <td>5년 전</td>\n",
       "    </tr>\n",
       "    <tr>\n",
       "      <th>3</th>\n",
       "      <td>처음부터 신경망 구축(Tensorflow/Pytorch 없음, numpy 및 수학만...</td>\n",
       "      <td>https://www.youtube.com//watch?v=w8yWXqWQYmU&amp;p...</td>\n",
       "      <td>214만회</td>\n",
       "      <td>3년 전</td>\n",
       "    </tr>\n",
       "    <tr>\n",
       "      <th>4</th>\n",
       "      <td>여러분의 커뮤니티가 TensorFlow.js로 만들어내는 놀라운 것들 - #Made...</td>\n",
       "      <td>https://www.youtube.com//watch?v=WvHr-yGnGPw&amp;p...</td>\n",
       "      <td>174만회</td>\n",
       "      <td>2년 전</td>\n",
       "    </tr>\n",
       "  </tbody>\n",
       "</table>\n",
       "</div>"
      ],
      "text/plain": [
       "                                                  제목  \\\n",
       "0       Machine Learning for Everybody – Full Course   \n",
       "1     TensorFlow 2.0 전체 과정 - 초보자를 위한 Python 신경망 튜토리얼   \n",
       "2                                    딥러닝 기초: 소개 및 개요   \n",
       "3  처음부터 신경망 구축(Tensorflow/Pytorch 없음, numpy 및 수학만...   \n",
       "4  여러분의 커뮤니티가 TensorFlow.js로 만들어내는 놀라운 것들 - #Made...   \n",
       "\n",
       "                                                  링크    조회수   업로드  \n",
       "0  https://www.youtube.com//watch?v=i_LwzRVP7bg&t...  681만회  2년 전  \n",
       "1  https://www.youtube.com//watch?v=tPYj3fFJGjk&p...  312만회  4년 전  \n",
       "2  https://www.youtube.com//watch?v=O5xeyoRL95U&t...  235만회  5년 전  \n",
       "3  https://www.youtube.com//watch?v=w8yWXqWQYmU&p...  214만회  3년 전  \n",
       "4  https://www.youtube.com//watch?v=WvHr-yGnGPw&p...  174만회  2년 전  "
      ]
     },
     "execution_count": 21,
     "metadata": {},
     "output_type": "execute_result"
    }
   ],
   "source": [
    "df.to_csv(out_path+'/ytsearch.csv', index = False)\n",
    "df2 = pd.read_csv(out_path+'/ytsearch.csv')\n",
    "df2.head()"
   ]
  },
  {
   "cell_type": "markdown",
   "metadata": {},
   "source": [
    "## 3 유튜브 댓글 수집"
   ]
  },
  {
   "cell_type": "code",
   "execution_count": 14,
   "metadata": {},
   "outputs": [],
   "source": [
    "# 옵션 설정\n",
    "options = webdriver.ChromeOptions()\n",
    "\n",
    "# 드라이버 실행\n",
    "driver = webdriver.Chrome(options=options)"
   ]
  },
  {
   "cell_type": "code",
   "execution_count": 15,
   "metadata": {},
   "outputs": [],
   "source": [
    "# 댓글의 댓글은 수집 안 함\n",
    "# 1. 반응형 디자인이라 화면의 넓이에 따라 html코드가\n",
    "# 달려져서 브라우저의 폭을 고정\n",
    "# 2. ajax 방식이라 화면을 아래로 스크롤 해야 한다.\n",
    "\n",
    "# 첫번째. 스크롤 내리기\n",
    "# 주소 : https://www.youtube.com/watch?v=avot35M_ETM\n",
    "url = 'https://www.youtube.com/watch?v=avot35M_ETM'\n",
    "driver.get(url)\n",
    "\n",
    "driver.set_window_size(800,800) # 웹 브라우저의 폭을 고정\n",
    "driver.implicitly_wait(10)\n",
    "time.sleep(4)\n",
    "\n",
    "# 맨 처음에 스크롤 조금 내려주기\n",
    "# send_keys() : 키 입력을 구현\n",
    "driver.find_element(By.CSS_SELECTOR, 'html').send_keys(Keys.PAGE_DOWN) # page down 키 클릭 구현\n",
    "\n",
    "# 스크롤 끝까지 내려주기\n",
    "driver.find_element(By.CSS_SELECTOR,'html').send_keys(Keys.END)\n",
    "time.sleep(2)"
   ]
  },
  {
   "cell_type": "code",
   "execution_count": 24,
   "metadata": {},
   "outputs": [
    {
     "name": "stdout",
     "output_type": "stream",
     "text": [
      "-2 / 2879\n",
      "2879 / 6235\n",
      "6235 / 8915\n",
      "8915 / 9489\n",
      "9489 / 9489\n"
     ]
    }
   ],
   "source": [
    "# 옵션 설정\n",
    "options = webdriver.ChromeOptions()\n",
    "\n",
    "# 드라이버 실행\n",
    "driver = webdriver.Chrome(options=options)\n",
    "\n",
    "# 2) 댓글 스크롤 끝까지 내리기\n",
    "url = 'https://www.youtube.com/watch?v=avot35M_ETM'\n",
    "driver.get(url)\n",
    "\n",
    "driver.set_window_size(800,800) # 웹 브라우저의 폭을 고정\n",
    "driver.implicitly_wait(10)\n",
    "time.sleep(4)\n",
    "\n",
    "# 스크롤이 가장 아래에 온 시점을 확인하기!\n",
    "\n",
    "height_old = -1 # 스크롤 내리기 전의 페이지 높이 : 초기값 음수로 설정\n",
    "height_new = -2 # 스크롤 내린 후의 페이지 높이\n",
    "# 자바 스크립트 코드로 스크롤을 내리고, 전/후 높이가 같으면\n",
    "# 끝까지 온 것!\n",
    "\n",
    "# 스크롤을 내려도 이전의 높이와 같으면 종료\n",
    "while height_old != height_new:\n",
    "    height_old = height_new # 스크롤 내리기 전에 페이지의 높이를 저장 -> 비교 목적\n",
    "    height_new = driver.execute_script('return document.querySelector(\\'html\\').scrollHeight')  # 내려간 스크롤 ->  페이지의 높이를 구함.\n",
    "    driver.execute_script(f'window.scrollTo(0, {str(height_new)})') # 스크롤이 0부터 height_new까지 내림\n",
    "    print(height_old,'/',height_new) # 확인 용도로 출력\n",
    "    time.sleep(5)"
   ]
  },
  {
   "cell_type": "code",
   "execution_count": 16,
   "metadata": {},
   "outputs": [],
   "source": [
    "# 3) 댓글 파싱\n",
    "html = driver.page_source # 스크롤을 끝까지 내린 후에 html 구한다.\n",
    "soup = bs(html,'html.parser')\n",
    "# #content-text > span\n",
    "comments = soup.select('#content-text') # #->id 속성 말한다.\n",
    "# print(comments)"
   ]
  },
  {
   "cell_type": "code",
   "execution_count": 17,
   "metadata": {},
   "outputs": [],
   "source": [
    "comments_result = [] # 전체 댓글 저장\n",
    "for i, comment in enumerate(comments, start = 1):\n",
    "    # print(f'{i}. {comment.text.strip()}')\n",
    "    comments_result.append(comment.text)"
   ]
  },
  {
   "cell_type": "code",
   "execution_count": 27,
   "metadata": {},
   "outputs": [
    {
     "data": {
      "text/html": [
       "<div>\n",
       "<style scoped>\n",
       "    .dataframe tbody tr th:only-of-type {\n",
       "        vertical-align: middle;\n",
       "    }\n",
       "\n",
       "    .dataframe tbody tr th {\n",
       "        vertical-align: top;\n",
       "    }\n",
       "\n",
       "    .dataframe thead th {\n",
       "        text-align: right;\n",
       "    }\n",
       "</style>\n",
       "<table border=\"1\" class=\"dataframe\">\n",
       "  <thead>\n",
       "    <tr style=\"text-align: right;\">\n",
       "      <th></th>\n",
       "      <th>댓글</th>\n",
       "    </tr>\n",
       "  </thead>\n",
       "  <tbody>\n",
       "    <tr>\n",
       "      <th>0</th>\n",
       "      <td>와.. 매번 어려워하던 진법변환, 비트연산 개념인데 제가 여지껏 공부한 방법 중에 ...</td>\n",
       "    </tr>\n",
       "    <tr>\n",
       "      <th>1</th>\n",
       "      <td>흥달쌤이 만약 고등학교 수학선생이었다면, 아마 그 학생들은 모두다 수학을 좋아하고,...</td>\n",
       "    </tr>\n",
       "    <tr>\n",
       "      <th>2</th>\n",
       "      <td>댓글 처음 남겨요. 나만 이해 안되나? 싶었는데 다른 분들 댓글 보니 비슷한 포인트...</td>\n",
       "    </tr>\n",
       "    <tr>\n",
       "      <th>3</th>\n",
       "      <td>선생님! 영상 11분에 5를 2진수로 나누면 왜 101이 아니라 0101 인가요? ...</td>\n",
       "    </tr>\n",
       "    <tr>\n",
       "      <th>4</th>\n",
       "      <td>ㄷㄷㄷ.. 공부하다 현타와서 보러왔는데 한방에 이해됐습니다 감사합니다</td>\n",
       "    </tr>\n",
       "  </tbody>\n",
       "</table>\n",
       "</div>"
      ],
      "text/plain": [
       "                                                  댓글\n",
       "0  와.. 매번 어려워하던 진법변환, 비트연산 개념인데 제가 여지껏 공부한 방법 중에 ...\n",
       "1  흥달쌤이 만약 고등학교 수학선생이었다면, 아마 그 학생들은 모두다 수학을 좋아하고,...\n",
       "2  댓글 처음 남겨요. 나만 이해 안되나? 싶었는데 다른 분들 댓글 보니 비슷한 포인트...\n",
       "3  선생님! 영상 11분에 5를 2진수로 나누면 왜 101이 아니라 0101 인가요? ...\n",
       "4             ㄷㄷㄷ.. 공부하다 현타와서 보러왔는데 한방에 이해됐습니다 감사합니다"
      ]
     },
     "execution_count": 27,
     "metadata": {},
     "output_type": "execute_result"
    }
   ],
   "source": [
    "# 4) 댓글을 csv로 저장\n",
    "df = pd.DataFrame(comments_result, columns=['댓글'])\n",
    "df.to_csv(out_path+'/yt_comments.csv', index = False)\n",
    "df2 = pd.read_csv(out_path+'/yt_comments.csv')\n",
    "df2.head()"
   ]
  },
  {
   "cell_type": "markdown",
   "metadata": {},
   "source": [
    "## 4 네이버 이미지 수집"
   ]
  },
  {
   "cell_type": "code",
   "execution_count": 18,
   "metadata": {},
   "outputs": [],
   "source": [
    "# 옵션 설정\n",
    "options = webdriver.ChromeOptions()\n",
    "\n",
    "# 드라이버 실행\n",
    "driver = webdriver.Chrome(options=options)"
   ]
  },
  {
   "cell_type": "code",
   "execution_count": 19,
   "metadata": {},
   "outputs": [
    {
     "name": "stdout",
     "output_type": "stream",
     "text": [
      "49\n"
     ]
    }
   ],
   "source": [
    "# 1) 검색어입력 및 검색어 폴더 생성\n",
    "keyword = 'lebao'\n",
    "\n",
    "# 키워드로 폴더 생성\n",
    "path  = f'./output/naver_image/{keyword}/'\n",
    "if not os.path.exists(path):\n",
    "    os.makedirs(path)\n",
    "\n",
    "# 2) 브라우저 실행 및 페이지를 끝까지 내리기\n",
    "driver.set_window_size(1200,800)\n",
    "url = f'https://search.naver.com/search.naver?ssc=tab.image.all&where=image&sm=tab_jum&query={keyword}'\n",
    "driver.get(url)\n",
    "time.sleep(3)\n",
    "\n",
    "# <img src=\"https://search.pstatic.net/sunny/?src=https%3A%2F%2Fi.pinimg.com%2F736x%2F3e%2F86%2F4e%2F3e864e548c36bbfaebaa5dc9b63e362b.jpg&amp;type=a340\" \n",
    "# class=\"_fe_image_tab_content_thumbnail_image\" alt=\"Lebao Fubao Huibao Lebao Fubao Huibao【2024】 | ジャイアントパンダ, パンダ\" data-image-viewer-trigger=\"\" \n",
    "# data-image-viewer-img-id=\"image_sas:web_685c43f658ec62214114ee1dcd9d7729\" data-thumb-width=\"340\" data-thumb-height=\"589\" style=\"\">\n",
    "\n",
    "img_tag_selector = 'img._fe_image_tab_content_thumbnail_image' # 이미지 태그 속성\n",
    "img_tags = driver.find_elements(By.CSS_SELECTOR, img_tag_selector)\n",
    "print(len(img_tags))\n",
    "# 스크롤 내릴 때 마다 이미지 출력\n",
    "cnt = 0\n",
    "while True:\n",
    "    if len(img_tags) == cnt:\n",
    "        break\n",
    "    # print(f'{cnt+1}번째 작업중 / 총 {len(img_tags)}')\n",
    "    img_url = img_tags[cnt].get_attribute('src')\n",
    "    # print(img_url)\n",
    "\n",
    "    cnt += 1\n",
    "    if cnt % 30 ==0:\n",
    "        driver.execute_script('window.scrollTo(0, document.body.scrollHeight);') # 스크롤 내리는 스크립트\n",
    "        time.sleep(3)\n",
    "        img_tags = driver.find_elements(By.CSS_SELECTOR,img_tag_selector) # 스크롤 내릴 때마다 새로 수집\n",
    "\n",
    "time.sleep(5)\n",
    "\n",
    "# 3) html 소스 파싱\n",
    "html = driver.page_source\n",
    "soup = bs(html,'html.parser')\n",
    "tags = soup.select(img_tag_selector)\n",
    "# print('-'*50)\n",
    "# print(len(tags))\n",
    "# print('-'*50)\n",
    "# print(tags)\n",
    "# print('-'*50)\n"
   ]
  },
  {
   "cell_type": "code",
   "execution_count": 30,
   "metadata": {},
   "outputs": [
    {
     "name": "stdout",
     "output_type": "stream",
     "text": [
      "{'src': 'https://search.pstatic.net/sunny/?src=https%3A%2F%2Fi.pinimg.com%2F736x%2Fa7%2Fe4%2F4f%2Fa7e44fba40acb3c97a7b4b711cbb267f.jpg&type=a340', 'class': ['_fe_image_tab_content_thumbnail_image'], 'alt': \"Lebao Ghim trên Panda's | Gấu trúc, Gấu, Đang yêu\", 'data-image-viewer-trigger': '', 'data-image-viewer-img-id': 'image_sas:web_7dac81a6c4426a5772118d67b20b82da', 'data-thumb-width': '340', 'data-thumb-height': '425', 'onerror': 'naver.common.handleImgError(this)', 'style': ''}\n"
     ]
    }
   ],
   "source": [
    "# 4) 파싱할 url로 이미지 다운로드\n",
    "# 크롬 개발자 도구에서 보는 코드와 diver.page_source로 읽은 코드사이에\n",
    "# 차이가 있을 수 있다.\n",
    "# --> 출력해보고 작업해야 한다.\n",
    "print(tags[0].attrs) "
   ]
  },
  {
   "cell_type": "code",
   "execution_count": 31,
   "metadata": {},
   "outputs": [
    {
     "name": "stdout",
     "output_type": "stream",
     "text": [
      "{'src': 'data:image/gif;base64,R0lGODlhAQABAIAAAAAAAP///yH5BAEAAAAALAAAAAABAAEAAAIBRAA7', 'class': ['_fe_image_tab_content_thumbnail_image'], 'alt': 'Fiona | .lebao. | Flickr Fiona', 'data-lazysrc': 'https://search.pstatic.net/sunny/?src=https%3A%2F%2Fc1.staticflickr.com%2F7%2F6190%2F6038619260_692dd91e16_b.jpg&type=a340', 'data-img-alias': 'lazyLoaded', 'data-image-viewer-trigger': '', 'data-image-viewer-img-id': 'image_sas:web_bdd6236a6d988622b18dd9c3e9bf4cc3', 'data-thumb-width': '340', 'data-thumb-height': '510', 'onerror': 'naver.common.handleImgError(this)', 'style': 'width: 213px;height: 319.5px', 'data-obstatus': 'ob-once'}\n"
     ]
    }
   ],
   "source": [
    "print(tags[15].attrs) "
   ]
  },
  {
   "cell_type": "code",
   "execution_count": 20,
   "metadata": {},
   "outputs": [],
   "source": [
    "for idx, v in enumerate(tags,start=1):\n",
    "    img_url = v.attrs['src']\n",
    "    if img_url[:4] == 'http':\n",
    "        req.urlretrieve(img_url, f'{path}/{idx}.png') # 이미지 저장 코드\n",
    "    else:\n",
    "        img_url = v.attrs['data-lazysrc']\n",
    "        req.urlretrieve(img_url, f'{path}/{idx}.png')\n",
    "    # print(f'{idx} / {len(tags)} / {img_url}')"
   ]
  },
  {
   "cell_type": "code",
   "execution_count": null,
   "metadata": {},
   "outputs": [],
   "source": []
  }
 ],
 "metadata": {
  "kernelspec": {
   "display_name": "base",
   "language": "python",
   "name": "python3"
  },
  "language_info": {
   "codemirror_mode": {
    "name": "ipython",
    "version": 3
   },
   "file_extension": ".py",
   "mimetype": "text/x-python",
   "name": "python",
   "nbconvert_exporter": "python",
   "pygments_lexer": "ipython3",
   "version": "3.12.4"
  }
 },
 "nbformat": 4,
 "nbformat_minor": 2
}
