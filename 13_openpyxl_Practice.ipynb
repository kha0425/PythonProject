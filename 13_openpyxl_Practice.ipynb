{
 "cells": [
  {
   "cell_type": "code",
   "execution_count": 1,
   "metadata": {},
   "outputs": [],
   "source": [
    "data_path = './data'\n",
    "out_path = './output'"
   ]
  },
  {
   "cell_type": "markdown",
   "metadata": {},
   "source": [
    "# openpyxl"
   ]
  },
  {
   "cell_type": "markdown",
   "metadata": {},
   "source": [
    "## 1 엑셀 파일 생성 및 저장하기"
   ]
  },
  {
   "cell_type": "code",
   "execution_count": 2,
   "metadata": {},
   "outputs": [],
   "source": [
    "from openpyxl import Workbook\n",
    "\n",
    "wb = Workbook() # 새로운 엑셀파일을 생성하고 기능을 넣은 객체(클래스와 연관)\n",
    "ws = wb.active # 기본적으로 추가된 워크시트를 활성화\n",
    "ws.title = '시트1' # 시트명 변경\n",
    "ws.append(['이름','나이','성별']) # 내용 추가\n",
    "ws.append(['푸바오','4','여자'])\n",
    "\n",
    "wb.save(filename=out_path+'/excel_ex.xlsx') # 저장"
   ]
  },
  {
   "cell_type": "markdown",
   "metadata": {},
   "source": [
    "## 2 엑셀 파일 불러와서 내용 수정 후 저장하기"
   ]
  },
  {
   "cell_type": "code",
   "execution_count": 3,
   "metadata": {},
   "outputs": [],
   "source": [
    "from openpyxl import load_workbook\n",
    "\n",
    "wb = load_workbook(filename= out_path+'/excel_ex.xlsx') # 파일 열기\n",
    "ws = wb.active # 시트 활성화\n",
    "ws.append(['러바오','12','남자']) # 행 추가\n",
    "\n",
    "wb.save(filename= out_path+'/excel_ex.xlsx') # 저장"
   ]
  },
  {
   "cell_type": "markdown",
   "metadata": {},
   "source": [
    "## 3 시트 복사하기"
   ]
  },
  {
   "cell_type": "code",
   "execution_count": 4,
   "metadata": {},
   "outputs": [],
   "source": [
    "wb = load_workbook(filename= out_path+'/excel_ex.xlsx') # 파일 열기\n",
    "\n",
    "wb.copy_worksheet(wb['시트1']) # 시트1을 복사\n",
    "wb.active = wb['시트1 Copy'] # 파일 열때 '시트1 Copy' 활성화\n",
    "\n",
    "wb.save(filename= out_path+'/excel_ex.xlsx') # 저장"
   ]
  },
  {
   "cell_type": "markdown",
   "metadata": {},
   "source": [
    "## 4 시트 이름 바꾸기"
   ]
  },
  {
   "cell_type": "code",
   "execution_count": 5,
   "metadata": {},
   "outputs": [],
   "source": [
    "wb = load_workbook(filename=out_path+'/excel_ex.xlsx') # 파일 열기\n",
    "\n",
    "wb['시트1 Copy'].title = '바오네 가족' # 시트명 변경\n",
    "\n",
    "wb.save(filename= out_path+'/excel_ex.xlsx') # 저장"
   ]
  },
  {
   "cell_type": "markdown",
   "metadata": {},
   "source": [
    "## 5 셀의 내용 확인하기"
   ]
  },
  {
   "cell_type": "code",
   "execution_count": 6,
   "metadata": {},
   "outputs": [
    {
     "name": "stdout",
     "output_type": "stream",
     "text": [
      "이름\n"
     ]
    }
   ],
   "source": [
    "wb = load_workbook(filename= out_path+'/excel_ex.xlsx') # 파일 열기\n",
    "\n",
    "ws = wb['바오네 가족'] # 시트 선택\n",
    "print(ws['A1'].value)"
   ]
  },
  {
   "cell_type": "code",
   "execution_count": 7,
   "metadata": {},
   "outputs": [
    {
     "name": "stdout",
     "output_type": "stream",
     "text": [
      "푸바오\n"
     ]
    }
   ],
   "source": [
    "print(ws['A2'].value)"
   ]
  },
  {
   "cell_type": "markdown",
   "metadata": {},
   "source": [
    "## 6 반복문을 이용해 셀 정보에 접근하기"
   ]
  },
  {
   "cell_type": "code",
   "execution_count": 8,
   "metadata": {},
   "outputs": [
    {
     "name": "stdout",
     "output_type": "stream",
     "text": [
      "<Worksheet \"바오네 가족\">\n"
     ]
    }
   ],
   "source": [
    "print(ws)"
   ]
  },
  {
   "cell_type": "code",
   "execution_count": 9,
   "metadata": {},
   "outputs": [
    {
     "name": "stdout",
     "output_type": "stream",
     "text": [
      "(<Cell '바오네 가족'.A1>, <Cell '바오네 가족'.B1>, <Cell '바오네 가족'.C1>)\n",
      "(<Cell '바오네 가족'.A2>, <Cell '바오네 가족'.B2>, <Cell '바오네 가족'.C2>)\n",
      "(<Cell '바오네 가족'.A3>, <Cell '바오네 가족'.B3>, <Cell '바오네 가족'.C3>)\n"
     ]
    }
   ],
   "source": [
    "for row in ws:\n",
    "    print(row)"
   ]
  },
  {
   "cell_type": "code",
   "execution_count": 10,
   "metadata": {},
   "outputs": [
    {
     "name": "stdout",
     "output_type": "stream",
     "text": [
      "셀 객체명 : <Cell '바오네 가족'.A1>, 셀 값 : 이름\n",
      "셀 객체명 : <Cell '바오네 가족'.B1>, 셀 값 : 나이\n",
      "셀 객체명 : <Cell '바오네 가족'.C1>, 셀 값 : 성별\n",
      "셀 객체명 : <Cell '바오네 가족'.A2>, 셀 값 : 푸바오\n",
      "셀 객체명 : <Cell '바오네 가족'.B2>, 셀 값 : 4\n",
      "셀 객체명 : <Cell '바오네 가족'.C2>, 셀 값 : 여자\n",
      "셀 객체명 : <Cell '바오네 가족'.A3>, 셀 값 : 러바오\n",
      "셀 객체명 : <Cell '바오네 가족'.B3>, 셀 값 : 12\n",
      "셀 객체명 : <Cell '바오네 가족'.C3>, 셀 값 : 남자\n"
     ]
    }
   ],
   "source": [
    "for row in ws:\n",
    "    for cell in row:\n",
    "        print(f'셀 객체명 : {cell}, 셀 값 : {cell.value}')"
   ]
  },
  {
   "cell_type": "markdown",
   "metadata": {},
   "source": [
    "## 7 셀의 내용 수정하기"
   ]
  },
  {
   "cell_type": "code",
   "execution_count": 11,
   "metadata": {},
   "outputs": [
    {
     "name": "stdout",
     "output_type": "stream",
     "text": [
      "성명\n"
     ]
    }
   ],
   "source": [
    "ws['A1'] = '성명' # 셀의 값 수정\n",
    "print(ws['A1'].value) # A1의 값 출력"
   ]
  },
  {
   "cell_type": "markdown",
   "metadata": {},
   "source": [
    "## 8 반복문을 이용해 셀 정보에 순차적으로 접근, 값 추가하기"
   ]
  },
  {
   "cell_type": "code",
   "execution_count": 12,
   "metadata": {},
   "outputs": [],
   "source": [
    "new_data = [['아이바오','11','여자'],\n",
    "           ['루이바오','11','여자'],\n",
    "           ['후이바오','11','여자']]\n",
    "\n",
    "for panda_row in new_data:\n",
    "    ws.append(panda_row)"
   ]
  },
  {
   "cell_type": "code",
   "execution_count": 13,
   "metadata": {},
   "outputs": [
    {
     "name": "stdout",
     "output_type": "stream",
     "text": [
      "셀 객체명 : <Cell '바오네 가족'.A1>, 셀 값: 성명\n",
      "셀 객체명 : <Cell '바오네 가족'.B1>, 셀 값: 나이\n",
      "셀 객체명 : <Cell '바오네 가족'.C1>, 셀 값: 성별\n",
      "셀 객체명 : <Cell '바오네 가족'.A2>, 셀 값: 푸바오\n",
      "셀 객체명 : <Cell '바오네 가족'.B2>, 셀 값: 4\n",
      "셀 객체명 : <Cell '바오네 가족'.C2>, 셀 값: 여자\n",
      "셀 객체명 : <Cell '바오네 가족'.A3>, 셀 값: 러바오\n",
      "셀 객체명 : <Cell '바오네 가족'.B3>, 셀 값: 12\n",
      "셀 객체명 : <Cell '바오네 가족'.C3>, 셀 값: 남자\n",
      "셀 객체명 : <Cell '바오네 가족'.A4>, 셀 값: 아이바오\n",
      "셀 객체명 : <Cell '바오네 가족'.B4>, 셀 값: 11\n",
      "셀 객체명 : <Cell '바오네 가족'.C4>, 셀 값: 여자\n",
      "셀 객체명 : <Cell '바오네 가족'.A5>, 셀 값: 루이바오\n",
      "셀 객체명 : <Cell '바오네 가족'.B5>, 셀 값: 11\n",
      "셀 객체명 : <Cell '바오네 가족'.C5>, 셀 값: 여자\n",
      "셀 객체명 : <Cell '바오네 가족'.A6>, 셀 값: 후이바오\n",
      "셀 객체명 : <Cell '바오네 가족'.B6>, 셀 값: 11\n",
      "셀 객체명 : <Cell '바오네 가족'.C6>, 셀 값: 여자\n"
     ]
    }
   ],
   "source": [
    "for row in ws:\n",
    "    for cell in row:\n",
    "        print(f'셀 객체명 : {cell}, 셀 값: {cell.value}')"
   ]
  },
  {
   "cell_type": "code",
   "execution_count": 14,
   "metadata": {},
   "outputs": [
    {
     "name": "stdout",
     "output_type": "stream",
     "text": [
      "셀 객체명 : <Cell '바오네 가족'.A1>, 셀 값: 성명, 셀 자료형 : s\n",
      "셀 객체명 : <Cell '바오네 가족'.B1>, 셀 값: 나이, 셀 자료형 : s\n",
      "셀 객체명 : <Cell '바오네 가족'.C1>, 셀 값: 성별, 셀 자료형 : s\n",
      "셀 객체명 : <Cell '바오네 가족'.A2>, 셀 값: 푸바오, 셀 자료형 : s\n",
      "셀 객체명 : <Cell '바오네 가족'.B2>, 셀 값: 4, 셀 자료형 : s\n",
      "셀 객체명 : <Cell '바오네 가족'.C2>, 셀 값: 여자, 셀 자료형 : s\n",
      "셀 객체명 : <Cell '바오네 가족'.A3>, 셀 값: 러바오, 셀 자료형 : s\n",
      "셀 객체명 : <Cell '바오네 가족'.B3>, 셀 값: 12, 셀 자료형 : s\n",
      "셀 객체명 : <Cell '바오네 가족'.C3>, 셀 값: 남자, 셀 자료형 : s\n",
      "셀 객체명 : <Cell '바오네 가족'.A4>, 셀 값: 아이바오, 셀 자료형 : s\n",
      "셀 객체명 : <Cell '바오네 가족'.B4>, 셀 값: 11, 셀 자료형 : s\n",
      "셀 객체명 : <Cell '바오네 가족'.C4>, 셀 값: 여자, 셀 자료형 : s\n",
      "셀 객체명 : <Cell '바오네 가족'.A5>, 셀 값: 루이바오, 셀 자료형 : s\n",
      "셀 객체명 : <Cell '바오네 가족'.B5>, 셀 값: 11, 셀 자료형 : s\n",
      "셀 객체명 : <Cell '바오네 가족'.C5>, 셀 값: 여자, 셀 자료형 : s\n",
      "셀 객체명 : <Cell '바오네 가족'.A6>, 셀 값: 후이바오, 셀 자료형 : s\n",
      "셀 객체명 : <Cell '바오네 가족'.B6>, 셀 값: 11, 셀 자료형 : s\n",
      "셀 객체명 : <Cell '바오네 가족'.C6>, 셀 값: 여자, 셀 자료형 : s\n"
     ]
    }
   ],
   "source": [
    "for row in ws:\n",
    "    for cell in row:\n",
    "        print(f'셀 객체명 : {cell}, 셀 값: {cell.value}, 셀 자료형 : {cell.data_type}')"
   ]
  },
  {
   "cell_type": "code",
   "execution_count": 15,
   "metadata": {},
   "outputs": [],
   "source": [
    "wb.save(filename= out_path+'/excel_ex.xlsx') # 저장"
   ]
  },
  {
   "cell_type": "markdown",
   "metadata": {},
   "source": [
    "## 9 데이터 변환하기 - 정수형으로 변경"
   ]
  },
  {
   "cell_type": "code",
   "execution_count": 16,
   "metadata": {},
   "outputs": [],
   "source": [
    "for row in ws:\n",
    "    for cell in row:\n",
    "        if cell.col_idx == 2 and cell.row > 1:\n",
    "            cell.data_type = 'i' # 정수형으로 변환"
   ]
  },
  {
   "cell_type": "code",
   "execution_count": 17,
   "metadata": {},
   "outputs": [
    {
     "name": "stdout",
     "output_type": "stream",
     "text": [
      "셀 객체명 : <Cell '바오네 가족'.A1>, 셀 값: 성명, 셀 자료형 : s\n",
      "셀 객체명 : <Cell '바오네 가족'.B1>, 셀 값: 나이, 셀 자료형 : s\n",
      "셀 객체명 : <Cell '바오네 가족'.C1>, 셀 값: 성별, 셀 자료형 : s\n",
      "셀 객체명 : <Cell '바오네 가족'.A2>, 셀 값: 푸바오, 셀 자료형 : s\n",
      "셀 객체명 : <Cell '바오네 가족'.B2>, 셀 값: 4, 셀 자료형 : i\n",
      "셀 객체명 : <Cell '바오네 가족'.C2>, 셀 값: 여자, 셀 자료형 : s\n",
      "셀 객체명 : <Cell '바오네 가족'.A3>, 셀 값: 러바오, 셀 자료형 : s\n",
      "셀 객체명 : <Cell '바오네 가족'.B3>, 셀 값: 12, 셀 자료형 : i\n",
      "셀 객체명 : <Cell '바오네 가족'.C3>, 셀 값: 남자, 셀 자료형 : s\n",
      "셀 객체명 : <Cell '바오네 가족'.A4>, 셀 값: 아이바오, 셀 자료형 : s\n",
      "셀 객체명 : <Cell '바오네 가족'.B4>, 셀 값: 11, 셀 자료형 : i\n",
      "셀 객체명 : <Cell '바오네 가족'.C4>, 셀 값: 여자, 셀 자료형 : s\n",
      "셀 객체명 : <Cell '바오네 가족'.A5>, 셀 값: 루이바오, 셀 자료형 : s\n",
      "셀 객체명 : <Cell '바오네 가족'.B5>, 셀 값: 11, 셀 자료형 : i\n",
      "셀 객체명 : <Cell '바오네 가족'.C5>, 셀 값: 여자, 셀 자료형 : s\n",
      "셀 객체명 : <Cell '바오네 가족'.A6>, 셀 값: 후이바오, 셀 자료형 : s\n",
      "셀 객체명 : <Cell '바오네 가족'.B6>, 셀 값: 11, 셀 자료형 : i\n",
      "셀 객체명 : <Cell '바오네 가족'.C6>, 셀 값: 여자, 셀 자료형 : s\n"
     ]
    }
   ],
   "source": [
    "for row in ws:\n",
    "    for cell in row:\n",
    "        print(f'셀 객체명 : {cell}, 셀 값: {cell.value}, 셀 자료형 : {cell.data_type}')"
   ]
  },
  {
   "cell_type": "code",
   "execution_count": 18,
   "metadata": {},
   "outputs": [],
   "source": [
    "wb.save(filename= out_path+'/excel_ex.xlsx') # 저장"
   ]
  },
  {
   "cell_type": "markdown",
   "metadata": {},
   "source": [
    "## 10 서식 설정하기(꾸미기)"
   ]
  },
  {
   "cell_type": "code",
   "execution_count": 19,
   "metadata": {},
   "outputs": [],
   "source": [
    "# 열 너비 지정\n",
    "ws.column_dimensions['A'].width = 25 # A열의 너비는 25로\n",
    "for i in ['B','C']:\n",
    "    ws.column_dimensions[i].width = 10 # 나머지 너비는 10"
   ]
  },
  {
   "cell_type": "code",
   "execution_count": 20,
   "metadata": {},
   "outputs": [],
   "source": [
    "from openpyxl.styles import Alignment, Side, Border, Font, PatternFill"
   ]
  },
  {
   "cell_type": "code",
   "execution_count": 21,
   "metadata": {},
   "outputs": [],
   "source": [
    "# 텍스트 정렬 서식 지정 - 가운데 정렬\n",
    "Alignment_style = Alignment(horizontal='center',vertical='center')"
   ]
  },
  {
   "cell_type": "code",
   "execution_count": 22,
   "metadata": {},
   "outputs": [],
   "source": [
    "# 테두리 서식 지정\n",
    "side = Side(color='0d325e', border_style='medium')\n",
    "border_style = Border(left = side, right = side, top = side, bottom = side)"
   ]
  },
  {
   "cell_type": "code",
   "execution_count": 23,
   "metadata": {},
   "outputs": [],
   "source": [
    "# 내용 셀 폰트 크기 설정\n",
    "cells_font = Font(sz=16, name = '나눔고딕')"
   ]
  },
  {
   "cell_type": "code",
   "execution_count": 24,
   "metadata": {},
   "outputs": [],
   "source": [
    "# 표가 있는 부분에만 폰트와 테두리 서식 적용\n",
    "style_cells = ['A1:C6']\n",
    "for cell_area in style_cells:\n",
    "    for row in ws[cell_area]: # 행\n",
    "        for cell in row: # 해의 각 셀에 접근\n",
    "            cell.alignment = Alignment_style # 정렬 서식 적용\n",
    "            cell.border = border_style # 테두리 서식 적용\n",
    "            cell.font = cells_font # 폰트 설정"
   ]
  },
  {
   "cell_type": "code",
   "execution_count": 25,
   "metadata": {},
   "outputs": [],
   "source": [
    "# 표의 헤더 부분 꾸밈\n",
    "head_font = Font(sz = 20, bold = True) # 굵게(볼드)\n",
    "\n",
    "# 음영 처리\n",
    "header_style = PatternFill(fill_type='solid', start_color= 'ffd663')"
   ]
  },
  {
   "cell_type": "code",
   "execution_count": 26,
   "metadata": {},
   "outputs": [],
   "source": [
    "# 서식이 적용될 헤더 부분의 영역 설정\n",
    "for_header = ['A1:C1']\n",
    "for cell_area in for_header:\n",
    "    for row in ws[cell_area]:\n",
    "        for cell in row:\n",
    "            cell.font = head_font\n",
    "            cell.fill = header_style"
   ]
  },
  {
   "cell_type": "code",
   "execution_count": 27,
   "metadata": {},
   "outputs": [],
   "source": [
    "wb.save(filename= out_path+'/excel_ex.xlsx')"
   ]
  }
 ],
 "metadata": {
  "kernelspec": {
   "display_name": "base",
   "language": "python",
   "name": "python3"
  },
  "language_info": {
   "codemirror_mode": {
    "name": "ipython",
    "version": 3
   },
   "file_extension": ".py",
   "mimetype": "text/x-python",
   "name": "python",
   "nbconvert_exporter": "python",
   "pygments_lexer": "ipython3",
   "version": "3.12.4"
  }
 },
 "nbformat": 4,
 "nbformat_minor": 2
}
