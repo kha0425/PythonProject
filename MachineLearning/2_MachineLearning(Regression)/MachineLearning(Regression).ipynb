{
 "cells": [
  {
   "cell_type": "markdown",
   "id": "2a6ccf87c49f2ba4",
   "metadata": {},
   "source": [
    "# 머신러닝 실습(회귀)\n",
    "> 회귀 : X데이터(독립변수, 피처)와 y 데이터(종속변수, 타깃) 간의 관계를 모델링하고, 새로 주어진 X데이터에 대해 연속적인 값을 예측한다.\n",
    "\n",
    "- 회귀인지 분류인지 알 수 있는 방법\n",
    "    - label(target)이 어떤 컬럼인지 파악, 예를 들어 수요량, 접속량, 사용량, 판매량 등이 될 수 있다.\n",
    "    - 데이터 샘플을 확인했을 때 연속형 숫자인지, 몇몇 값이 반복되는 카테고리인지 확인한다.\n",
    "        - df['target'].value_counts()로 확인했을 때 종류가 많으면 회귀고, 한눈에 들어오면 분류일 가능성이 크다.\n",
    "    - 평가지표를 확인한다. 예를 들어, MAE, MSE, RMSE 등 E(Error)가 붙어있으면 회귀다."
   ]
  },
  {
   "cell_type": "markdown",
   "id": "43e209f3c5116106",
   "metadata": {},
   "source": [
    "## 1 문제 정의\n",
    "- 10개의 아울렛 매장에서 1,500여개의 제품에 대한 판매 데이터를 수집했다.\n",
    "- 예측 모델을 만들고 아울렛 특정 매장에서 각 제품의 판매금액을 예측하시오.\n",
    "    - 평가 기준은 RMSE로 평가\n",
    "    - label(target)은 판매금액(Item_Outlet_Sales)\n",
    "    - 제출 파일을 예측값만 result.csv 파일로 생성해 제출(컬럼명 : pred, 1개)"
   ]
  },
  {
   "cell_type": "markdown",
   "id": "39ef3c91c30ba87c",
   "metadata": {},
   "source": [
    "## 2 라이브러리 및 데이터 불러오기"
   ]
  },
  {
   "cell_type": "code",
   "execution_count": 1,
   "id": "6decf3f63f4d45a3",
   "metadata": {
    "ExecuteTime": {
     "end_time": "2024-10-15T06:17:52.350768Z",
     "start_time": "2024-10-15T06:17:52.322849Z"
    }
   },
   "outputs": [],
   "source": [
    "import pandas as pd\n",
    "\n",
    "train = pd.read_csv('./train.csv')\n",
    "test = pd.read_csv('./test.csv')"
   ]
  },
  {
   "cell_type": "markdown",
   "id": "ddbe8d2ef0e4299c",
   "metadata": {},
   "source": [
    "## 3 탐색적 데이터 분석 (EDA)"
   ]
  },
  {
   "cell_type": "code",
   "execution_count": 2,
   "id": "fa928d03c2de19ad",
   "metadata": {
    "ExecuteTime": {
     "end_time": "2024-10-15T06:17:52.767158Z",
     "start_time": "2024-10-15T06:17:52.759007Z"
    }
   },
   "outputs": [
    {
     "name": "stdout",
     "output_type": "stream",
     "text": [
      "(6818, 12) (1705, 11)\n"
     ]
    }
   ],
   "source": [
    "print(train.shape,test.shape)"
   ]
  },
  {
   "cell_type": "code",
   "execution_count": 3,
   "id": "fe5b239ee8345188",
   "metadata": {},
   "outputs": [
    {
     "data": {
      "text/html": [
       "<div>\n",
       "<style scoped>\n",
       "    .dataframe tbody tr th:only-of-type {\n",
       "        vertical-align: middle;\n",
       "    }\n",
       "\n",
       "    .dataframe tbody tr th {\n",
       "        vertical-align: top;\n",
       "    }\n",
       "\n",
       "    .dataframe thead th {\n",
       "        text-align: right;\n",
       "    }\n",
       "</style>\n",
       "<table border=\"1\" class=\"dataframe\">\n",
       "  <thead>\n",
       "    <tr style=\"text-align: right;\">\n",
       "      <th></th>\n",
       "      <th>Item_Identifier</th>\n",
       "      <th>Item_Weight</th>\n",
       "      <th>Item_Fat_Content</th>\n",
       "      <th>Item_Visibility</th>\n",
       "      <th>Item_Type</th>\n",
       "      <th>Item_MRP</th>\n",
       "      <th>Outlet_Identifier</th>\n",
       "      <th>Outlet_Establishment_Year</th>\n",
       "      <th>Outlet_Size</th>\n",
       "      <th>Outlet_Location_Type</th>\n",
       "      <th>Outlet_Type</th>\n",
       "      <th>Item_Outlet_Sales</th>\n",
       "    </tr>\n",
       "  </thead>\n",
       "  <tbody>\n",
       "    <tr>\n",
       "      <th>0</th>\n",
       "      <td>NCR06</td>\n",
       "      <td>12.500</td>\n",
       "      <td>Low Fat</td>\n",
       "      <td>0.006760</td>\n",
       "      <td>Household</td>\n",
       "      <td>42.8112</td>\n",
       "      <td>OUT013</td>\n",
       "      <td>1987</td>\n",
       "      <td>High</td>\n",
       "      <td>Tier 3</td>\n",
       "      <td>Supermarket Type1</td>\n",
       "      <td>639.1680</td>\n",
       "    </tr>\n",
       "    <tr>\n",
       "      <th>1</th>\n",
       "      <td>FDW11</td>\n",
       "      <td>12.600</td>\n",
       "      <td>Low Fat</td>\n",
       "      <td>0.048741</td>\n",
       "      <td>Breads</td>\n",
       "      <td>60.4194</td>\n",
       "      <td>OUT013</td>\n",
       "      <td>1987</td>\n",
       "      <td>High</td>\n",
       "      <td>Tier 3</td>\n",
       "      <td>Supermarket Type1</td>\n",
       "      <td>990.7104</td>\n",
       "    </tr>\n",
       "    <tr>\n",
       "      <th>2</th>\n",
       "      <td>FDH32</td>\n",
       "      <td>12.800</td>\n",
       "      <td>Low Fat</td>\n",
       "      <td>0.075997</td>\n",
       "      <td>Fruits and Vegetables</td>\n",
       "      <td>97.1410</td>\n",
       "      <td>OUT013</td>\n",
       "      <td>1987</td>\n",
       "      <td>High</td>\n",
       "      <td>Tier 3</td>\n",
       "      <td>Supermarket Type1</td>\n",
       "      <td>2799.6890</td>\n",
       "    </tr>\n",
       "    <tr>\n",
       "      <th>3</th>\n",
       "      <td>FDL52</td>\n",
       "      <td>6.635</td>\n",
       "      <td>Regular</td>\n",
       "      <td>0.046351</td>\n",
       "      <td>Frozen Foods</td>\n",
       "      <td>37.4506</td>\n",
       "      <td>OUT017</td>\n",
       "      <td>2007</td>\n",
       "      <td>NaN</td>\n",
       "      <td>Tier 2</td>\n",
       "      <td>Supermarket Type1</td>\n",
       "      <td>1176.4686</td>\n",
       "    </tr>\n",
       "    <tr>\n",
       "      <th>4</th>\n",
       "      <td>FDO09</td>\n",
       "      <td>13.500</td>\n",
       "      <td>Regular</td>\n",
       "      <td>0.125170</td>\n",
       "      <td>Snack Foods</td>\n",
       "      <td>261.4910</td>\n",
       "      <td>OUT013</td>\n",
       "      <td>1987</td>\n",
       "      <td>High</td>\n",
       "      <td>Tier 3</td>\n",
       "      <td>Supermarket Type1</td>\n",
       "      <td>3418.8830</td>\n",
       "    </tr>\n",
       "  </tbody>\n",
       "</table>\n",
       "</div>"
      ],
      "text/plain": [
       "  Item_Identifier  Item_Weight Item_Fat_Content  Item_Visibility  \\\n",
       "0           NCR06       12.500          Low Fat         0.006760   \n",
       "1           FDW11       12.600          Low Fat         0.048741   \n",
       "2           FDH32       12.800          Low Fat         0.075997   \n",
       "3           FDL52        6.635          Regular         0.046351   \n",
       "4           FDO09       13.500          Regular         0.125170   \n",
       "\n",
       "               Item_Type  Item_MRP Outlet_Identifier  \\\n",
       "0              Household   42.8112            OUT013   \n",
       "1                 Breads   60.4194            OUT013   \n",
       "2  Fruits and Vegetables   97.1410            OUT013   \n",
       "3           Frozen Foods   37.4506            OUT017   \n",
       "4            Snack Foods  261.4910            OUT013   \n",
       "\n",
       "   Outlet_Establishment_Year Outlet_Size Outlet_Location_Type  \\\n",
       "0                       1987        High               Tier 3   \n",
       "1                       1987        High               Tier 3   \n",
       "2                       1987        High               Tier 3   \n",
       "3                       2007         NaN               Tier 2   \n",
       "4                       1987        High               Tier 3   \n",
       "\n",
       "         Outlet_Type  Item_Outlet_Sales  \n",
       "0  Supermarket Type1           639.1680  \n",
       "1  Supermarket Type1           990.7104  \n",
       "2  Supermarket Type1          2799.6890  \n",
       "3  Supermarket Type1          1176.4686  \n",
       "4  Supermarket Type1          3418.8830  "
      ]
     },
     "execution_count": 3,
     "metadata": {},
     "output_type": "execute_result"
    }
   ],
   "source": [
    "train.head() # Item_Outlet_Sales : target(label) 컬럼(금액이고 소수점이 있는 숫자)"
   ]
  },
  {
   "cell_type": "code",
   "execution_count": 4,
   "id": "94933abce242079f",
   "metadata": {
    "ExecuteTime": {
     "end_time": "2024-10-15T06:17:52.954035Z",
     "start_time": "2024-10-15T06:17:52.941474Z"
    }
   },
   "outputs": [
    {
     "name": "stdout",
     "output_type": "stream",
     "text": [
      "<class 'pandas.core.frame.DataFrame'>\n",
      "RangeIndex: 6818 entries, 0 to 6817\n",
      "Data columns (total 12 columns):\n",
      " #   Column                     Non-Null Count  Dtype  \n",
      "---  ------                     --------------  -----  \n",
      " 0   Item_Identifier            6818 non-null   object \n",
      " 1   Item_Weight                5656 non-null   float64\n",
      " 2   Item_Fat_Content           6818 non-null   object \n",
      " 3   Item_Visibility            6818 non-null   float64\n",
      " 4   Item_Type                  6818 non-null   object \n",
      " 5   Item_MRP                   6818 non-null   float64\n",
      " 6   Outlet_Identifier          6818 non-null   object \n",
      " 7   Outlet_Establishment_Year  6818 non-null   int64  \n",
      " 8   Outlet_Size                4878 non-null   object \n",
      " 9   Outlet_Location_Type       6818 non-null   object \n",
      " 10  Outlet_Type                6818 non-null   object \n",
      " 11  Item_Outlet_Sales          6818 non-null   float64\n",
      "dtypes: float64(4), int64(1), object(7)\n",
      "memory usage: 639.3+ KB\n"
     ]
    }
   ],
   "source": [
    "train.info() # float 4개, int 1개, object 7개개"
   ]
  },
  {
   "cell_type": "markdown",
   "id": "fea519a3cad3df95",
   "metadata": {},
   "source": [
    "- median(50%) > mean인 경우 : 왼쪽 꼬리가 긴 분포 (Negative Skew)\n",
    "- median(50%) < mean인 경우 : 오른쪽 꼬리가 긴 분포 (Positive Skew)"
   ]
  },
  {
   "cell_type": "code",
   "execution_count": 5,
   "id": "294b616452666edb",
   "metadata": {},
   "outputs": [
    {
     "data": {
      "text/html": [
       "<div>\n",
       "<style scoped>\n",
       "    .dataframe tbody tr th:only-of-type {\n",
       "        vertical-align: middle;\n",
       "    }\n",
       "\n",
       "    .dataframe tbody tr th {\n",
       "        vertical-align: top;\n",
       "    }\n",
       "\n",
       "    .dataframe thead th {\n",
       "        text-align: right;\n",
       "    }\n",
       "</style>\n",
       "<table border=\"1\" class=\"dataframe\">\n",
       "  <thead>\n",
       "    <tr style=\"text-align: right;\">\n",
       "      <th></th>\n",
       "      <th>Item_Weight</th>\n",
       "      <th>Item_Visibility</th>\n",
       "      <th>Item_MRP</th>\n",
       "      <th>Outlet_Establishment_Year</th>\n",
       "      <th>Item_Outlet_Sales</th>\n",
       "    </tr>\n",
       "  </thead>\n",
       "  <tbody>\n",
       "    <tr>\n",
       "      <th>count</th>\n",
       "      <td>5656.000000</td>\n",
       "      <td>6818.000000</td>\n",
       "      <td>6818.000000</td>\n",
       "      <td>6818.000000</td>\n",
       "      <td>6818.000000</td>\n",
       "    </tr>\n",
       "    <tr>\n",
       "      <th>mean</th>\n",
       "      <td>12.872703</td>\n",
       "      <td>0.066121</td>\n",
       "      <td>140.419533</td>\n",
       "      <td>1997.885890</td>\n",
       "      <td>2190.941459</td>\n",
       "    </tr>\n",
       "    <tr>\n",
       "      <th>std</th>\n",
       "      <td>4.651034</td>\n",
       "      <td>0.051383</td>\n",
       "      <td>62.067861</td>\n",
       "      <td>8.339795</td>\n",
       "      <td>1706.131256</td>\n",
       "    </tr>\n",
       "    <tr>\n",
       "      <th>min</th>\n",
       "      <td>4.555000</td>\n",
       "      <td>0.000000</td>\n",
       "      <td>31.290000</td>\n",
       "      <td>1985.000000</td>\n",
       "      <td>33.290000</td>\n",
       "    </tr>\n",
       "    <tr>\n",
       "      <th>25%</th>\n",
       "      <td>8.785000</td>\n",
       "      <td>0.026914</td>\n",
       "      <td>93.610050</td>\n",
       "      <td>1987.000000</td>\n",
       "      <td>836.577700</td>\n",
       "    </tr>\n",
       "    <tr>\n",
       "      <th>50%</th>\n",
       "      <td>12.600000</td>\n",
       "      <td>0.053799</td>\n",
       "      <td>142.448300</td>\n",
       "      <td>1999.000000</td>\n",
       "      <td>1806.648300</td>\n",
       "    </tr>\n",
       "    <tr>\n",
       "      <th>75%</th>\n",
       "      <td>17.000000</td>\n",
       "      <td>0.095273</td>\n",
       "      <td>185.060150</td>\n",
       "      <td>2004.000000</td>\n",
       "      <td>3115.944000</td>\n",
       "    </tr>\n",
       "    <tr>\n",
       "      <th>max</th>\n",
       "      <td>21.350000</td>\n",
       "      <td>0.328391</td>\n",
       "      <td>266.888400</td>\n",
       "      <td>2009.000000</td>\n",
       "      <td>13086.964800</td>\n",
       "    </tr>\n",
       "  </tbody>\n",
       "</table>\n",
       "</div>"
      ],
      "text/plain": [
       "       Item_Weight  Item_Visibility     Item_MRP  Outlet_Establishment_Year  \\\n",
       "count  5656.000000      6818.000000  6818.000000                6818.000000   \n",
       "mean     12.872703         0.066121   140.419533                1997.885890   \n",
       "std       4.651034         0.051383    62.067861                   8.339795   \n",
       "min       4.555000         0.000000    31.290000                1985.000000   \n",
       "25%       8.785000         0.026914    93.610050                1987.000000   \n",
       "50%      12.600000         0.053799   142.448300                1999.000000   \n",
       "75%      17.000000         0.095273   185.060150                2004.000000   \n",
       "max      21.350000         0.328391   266.888400                2009.000000   \n",
       "\n",
       "       Item_Outlet_Sales  \n",
       "count        6818.000000  \n",
       "mean         2190.941459  \n",
       "std          1706.131256  \n",
       "min            33.290000  \n",
       "25%           836.577700  \n",
       "50%          1806.648300  \n",
       "75%          3115.944000  \n",
       "max         13086.964800  "
      ]
     },
     "execution_count": 5,
     "metadata": {},
     "output_type": "execute_result"
    }
   ],
   "source": [
    "train.describe() # Item_Outlet_Sales 컬럼 median(50%) < mean이므로 데이터 모양이 오른쪽 꼬리가 긴 분포의 모양을 한다고 추측 할 수 있다."
   ]
  },
  {
   "cell_type": "code",
   "execution_count": 6,
   "id": "f80df46bd7513265",
   "metadata": {},
   "outputs": [
    {
     "data": {
      "text/plain": [
       "array([[<Axes: title={'center': 'Item_Weight'}>,\n",
       "        <Axes: title={'center': 'Item_Visibility'}>],\n",
       "       [<Axes: title={'center': 'Item_MRP'}>,\n",
       "        <Axes: title={'center': 'Outlet_Establishment_Year'}>],\n",
       "       [<Axes: title={'center': 'Item_Outlet_Sales'}>, <Axes: >]],\n",
       "      dtype=object)"
      ]
     },
     "execution_count": 6,
     "metadata": {},
     "output_type": "execute_result"
    },
    {
     "data": {
      "image/png": "[encoded data removed]",
      "text/plain": [
       "<Figure size 640x480 with 6 Axes>"
      ]
     },
     "metadata": {},
     "output_type": "display_data"
    }
   ],
   "source": [
    "train.hist()"
   ]
  },
  {
   "cell_type": "code",
   "execution_count": 7,
   "id": "eac5d3dbd3e225d6",
   "metadata": {},
   "outputs": [
    {
     "data": {
      "text/html": [
       "<div>\n",
       "<style scoped>\n",
       "    .dataframe tbody tr th:only-of-type {\n",
       "        vertical-align: middle;\n",
       "    }\n",
       "\n",
       "    .dataframe tbody tr th {\n",
       "        vertical-align: top;\n",
       "    }\n",
       "\n",
       "    .dataframe thead th {\n",
       "        text-align: right;\n",
       "    }\n",
       "</style>\n",
       "<table border=\"1\" class=\"dataframe\">\n",
       "  <thead>\n",
       "    <tr style=\"text-align: right;\">\n",
       "      <th></th>\n",
       "      <th>Item_Weight</th>\n",
       "      <th>Item_Visibility</th>\n",
       "      <th>Item_MRP</th>\n",
       "      <th>Outlet_Establishment_Year</th>\n",
       "      <th>Item_Outlet_Sales</th>\n",
       "    </tr>\n",
       "  </thead>\n",
       "  <tbody>\n",
       "    <tr>\n",
       "      <th>count</th>\n",
       "      <td>5656.000000</td>\n",
       "      <td>6818.000000</td>\n",
       "      <td>6818.000000</td>\n",
       "      <td>6818.000000</td>\n",
       "      <td>6818.000000</td>\n",
       "    </tr>\n",
       "    <tr>\n",
       "      <th>mean</th>\n",
       "      <td>12.872703</td>\n",
       "      <td>0.066121</td>\n",
       "      <td>140.419533</td>\n",
       "      <td>1997.885890</td>\n",
       "      <td>2190.941459</td>\n",
       "    </tr>\n",
       "    <tr>\n",
       "      <th>std</th>\n",
       "      <td>4.651034</td>\n",
       "      <td>0.051383</td>\n",
       "      <td>62.067861</td>\n",
       "      <td>8.339795</td>\n",
       "      <td>1706.131256</td>\n",
       "    </tr>\n",
       "    <tr>\n",
       "      <th>min</th>\n",
       "      <td>4.555000</td>\n",
       "      <td>0.000000</td>\n",
       "      <td>31.290000</td>\n",
       "      <td>1985.000000</td>\n",
       "      <td>33.290000</td>\n",
       "    </tr>\n",
       "    <tr>\n",
       "      <th>25%</th>\n",
       "      <td>8.785000</td>\n",
       "      <td>0.026914</td>\n",
       "      <td>93.610050</td>\n",
       "      <td>1987.000000</td>\n",
       "      <td>836.577700</td>\n",
       "    </tr>\n",
       "    <tr>\n",
       "      <th>50%</th>\n",
       "      <td>12.600000</td>\n",
       "      <td>0.053799</td>\n",
       "      <td>142.448300</td>\n",
       "      <td>1999.000000</td>\n",
       "      <td>1806.648300</td>\n",
       "    </tr>\n",
       "    <tr>\n",
       "      <th>75%</th>\n",
       "      <td>17.000000</td>\n",
       "      <td>0.095273</td>\n",
       "      <td>185.060150</td>\n",
       "      <td>2004.000000</td>\n",
       "      <td>3115.944000</td>\n",
       "    </tr>\n",
       "    <tr>\n",
       "      <th>max</th>\n",
       "      <td>21.350000</td>\n",
       "      <td>0.328391</td>\n",
       "      <td>266.888400</td>\n",
       "      <td>2009.000000</td>\n",
       "      <td>13086.964800</td>\n",
       "    </tr>\n",
       "  </tbody>\n",
       "</table>\n",
       "</div>"
      ],
      "text/plain": [
       "       Item_Weight  Item_Visibility     Item_MRP  Outlet_Establishment_Year  \\\n",
       "count  5656.000000      6818.000000  6818.000000                6818.000000   \n",
       "mean     12.872703         0.066121   140.419533                1997.885890   \n",
       "std       4.651034         0.051383    62.067861                   8.339795   \n",
       "min       4.555000         0.000000    31.290000                1985.000000   \n",
       "25%       8.785000         0.026914    93.610050                1987.000000   \n",
       "50%      12.600000         0.053799   142.448300                1999.000000   \n",
       "75%      17.000000         0.095273   185.060150                2004.000000   \n",
       "max      21.350000         0.328391   266.888400                2009.000000   \n",
       "\n",
       "       Item_Outlet_Sales  \n",
       "count        6818.000000  \n",
       "mean         2190.941459  \n",
       "std          1706.131256  \n",
       "min            33.290000  \n",
       "25%           836.577700  \n",
       "50%          1806.648300  \n",
       "75%          3115.944000  \n",
       "max         13086.964800  "
      ]
     },
     "execution_count": 7,
     "metadata": {},
     "output_type": "execute_result"
    }
   ],
   "source": [
    "train.describe()"
   ]
  },
  {
   "cell_type": "code",
   "execution_count": 8,
   "id": "5f166a3e",
   "metadata": {},
   "outputs": [
    {
     "data": {
      "text/html": [
       "<div>\n",
       "<style scoped>\n",
       "    .dataframe tbody tr th:only-of-type {\n",
       "        vertical-align: middle;\n",
       "    }\n",
       "\n",
       "    .dataframe tbody tr th {\n",
       "        vertical-align: top;\n",
       "    }\n",
       "\n",
       "    .dataframe thead th {\n",
       "        text-align: right;\n",
       "    }\n",
       "</style>\n",
       "<table border=\"1\" class=\"dataframe\">\n",
       "  <thead>\n",
       "    <tr style=\"text-align: right;\">\n",
       "      <th></th>\n",
       "      <th>Item_Identifier</th>\n",
       "      <th>Item_Fat_Content</th>\n",
       "      <th>Item_Type</th>\n",
       "      <th>Outlet_Identifier</th>\n",
       "      <th>Outlet_Size</th>\n",
       "      <th>Outlet_Location_Type</th>\n",
       "      <th>Outlet_Type</th>\n",
       "    </tr>\n",
       "  </thead>\n",
       "  <tbody>\n",
       "    <tr>\n",
       "      <th>count</th>\n",
       "      <td>6818</td>\n",
       "      <td>6818</td>\n",
       "      <td>6818</td>\n",
       "      <td>6818</td>\n",
       "      <td>4878</td>\n",
       "      <td>6818</td>\n",
       "      <td>6818</td>\n",
       "    </tr>\n",
       "    <tr>\n",
       "      <th>unique</th>\n",
       "      <td>1554</td>\n",
       "      <td>5</td>\n",
       "      <td>16</td>\n",
       "      <td>10</td>\n",
       "      <td>3</td>\n",
       "      <td>3</td>\n",
       "      <td>4</td>\n",
       "    </tr>\n",
       "    <tr>\n",
       "      <th>top</th>\n",
       "      <td>FDW26</td>\n",
       "      <td>Low Fat</td>\n",
       "      <td>Snack Foods</td>\n",
       "      <td>OUT046</td>\n",
       "      <td>Medium</td>\n",
       "      <td>Tier 3</td>\n",
       "      <td>Supermarket Type1</td>\n",
       "    </tr>\n",
       "    <tr>\n",
       "      <th>freq</th>\n",
       "      <td>9</td>\n",
       "      <td>4092</td>\n",
       "      <td>963</td>\n",
       "      <td>763</td>\n",
       "      <td>2228</td>\n",
       "      <td>2664</td>\n",
       "      <td>4474</td>\n",
       "    </tr>\n",
       "  </tbody>\n",
       "</table>\n",
       "</div>"
      ],
      "text/plain": [
       "       Item_Identifier Item_Fat_Content    Item_Type Outlet_Identifier  \\\n",
       "count             6818             6818         6818              6818   \n",
       "unique            1554                5           16                10   \n",
       "top              FDW26          Low Fat  Snack Foods            OUT046   \n",
       "freq                 9             4092          963               763   \n",
       "\n",
       "       Outlet_Size Outlet_Location_Type        Outlet_Type  \n",
       "count         4878                 6818               6818  \n",
       "unique           3                    3                  4  \n",
       "top         Medium               Tier 3  Supermarket Type1  \n",
       "freq          2228                 2664               4474  "
      ]
     },
     "execution_count": 8,
     "metadata": {},
     "output_type": "execute_result"
    }
   ],
   "source": [
    "# object 컬럼의 unique 개수를 확인\n",
    "train.describe(include='O')"
   ]
  },
  {
   "cell_type": "code",
   "execution_count": 9,
   "id": "8bdc0591",
   "metadata": {},
   "outputs": [
    {
     "data": {
      "text/html": [
       "<div>\n",
       "<style scoped>\n",
       "    .dataframe tbody tr th:only-of-type {\n",
       "        vertical-align: middle;\n",
       "    }\n",
       "\n",
       "    .dataframe tbody tr th {\n",
       "        vertical-align: top;\n",
       "    }\n",
       "\n",
       "    .dataframe thead th {\n",
       "        text-align: right;\n",
       "    }\n",
       "</style>\n",
       "<table border=\"1\" class=\"dataframe\">\n",
       "  <thead>\n",
       "    <tr style=\"text-align: right;\">\n",
       "      <th></th>\n",
       "      <th>Item_Identifier</th>\n",
       "      <th>Item_Fat_Content</th>\n",
       "      <th>Item_Type</th>\n",
       "      <th>Outlet_Identifier</th>\n",
       "      <th>Outlet_Size</th>\n",
       "      <th>Outlet_Location_Type</th>\n",
       "      <th>Outlet_Type</th>\n",
       "    </tr>\n",
       "  </thead>\n",
       "  <tbody>\n",
       "    <tr>\n",
       "      <th>count</th>\n",
       "      <td>1705</td>\n",
       "      <td>1705</td>\n",
       "      <td>1705</td>\n",
       "      <td>1705</td>\n",
       "      <td>1235</td>\n",
       "      <td>1705</td>\n",
       "      <td>1705</td>\n",
       "    </tr>\n",
       "    <tr>\n",
       "      <th>unique</th>\n",
       "      <td>1077</td>\n",
       "      <td>5</td>\n",
       "      <td>16</td>\n",
       "      <td>10</td>\n",
       "      <td>3</td>\n",
       "      <td>3</td>\n",
       "      <td>4</td>\n",
       "    </tr>\n",
       "    <tr>\n",
       "      <th>top</th>\n",
       "      <td>FDG33</td>\n",
       "      <td>Low Fat</td>\n",
       "      <td>Fruits and Vegetables</td>\n",
       "      <td>OUT013</td>\n",
       "      <td>Medium</td>\n",
       "      <td>Tier 3</td>\n",
       "      <td>Supermarket Type1</td>\n",
       "    </tr>\n",
       "    <tr>\n",
       "      <th>freq</th>\n",
       "      <td>4</td>\n",
       "      <td>997</td>\n",
       "      <td>272</td>\n",
       "      <td>207</td>\n",
       "      <td>565</td>\n",
       "      <td>686</td>\n",
       "      <td>1103</td>\n",
       "    </tr>\n",
       "  </tbody>\n",
       "</table>\n",
       "</div>"
      ],
      "text/plain": [
       "       Item_Identifier Item_Fat_Content              Item_Type  \\\n",
       "count             1705             1705                   1705   \n",
       "unique            1077                5                     16   \n",
       "top              FDG33          Low Fat  Fruits and Vegetables   \n",
       "freq                 4              997                    272   \n",
       "\n",
       "       Outlet_Identifier Outlet_Size Outlet_Location_Type        Outlet_Type  \n",
       "count               1705        1235                 1705               1705  \n",
       "unique                10           3                    3                  4  \n",
       "top               OUT013      Medium               Tier 3  Supermarket Type1  \n",
       "freq                 207         565                  686               1103  "
      ]
     },
     "execution_count": 9,
     "metadata": {},
     "output_type": "execute_result"
    }
   ],
   "source": [
    "test.describe(include='O')"
   ]
  },
  {
   "cell_type": "code",
   "execution_count": 10,
   "id": "8070b5207ace7895",
   "metadata": {
    "ExecuteTime": {
     "end_time": "2024-10-15T06:17:53.512303Z",
     "start_time": "2024-10-15T06:17:53.503259Z"
    }
   },
   "outputs": [
    {
     "data": {
      "text/plain": [
       "Item_Identifier                 0\n",
       "Item_Weight                  1162\n",
       "Item_Fat_Content                0\n",
       "Item_Visibility                 0\n",
       "Item_Type                       0\n",
       "Item_MRP                        0\n",
       "Outlet_Identifier               0\n",
       "Outlet_Establishment_Year       0\n",
       "Outlet_Size                  1940\n",
       "Outlet_Location_Type            0\n",
       "Outlet_Type                     0\n",
       "Item_Outlet_Sales               0\n",
       "dtype: int64"
      ]
     },
     "execution_count": 10,
     "metadata": {},
     "output_type": "execute_result"
    }
   ],
   "source": [
    "# 결측치 확인\n",
    "train.isnull().sum()"
   ]
  },
  {
   "cell_type": "code",
   "execution_count": 11,
   "id": "f9816aa312e4c8ab",
   "metadata": {
    "ExecuteTime": {
     "end_time": "2024-10-15T06:17:53.675952Z",
     "start_time": "2024-10-15T06:17:53.669706Z"
    }
   },
   "outputs": [
    {
     "data": {
      "text/plain": [
       "Item_Identifier                0\n",
       "Item_Weight                  301\n",
       "Item_Fat_Content               0\n",
       "Item_Visibility                0\n",
       "Item_Type                      0\n",
       "Item_MRP                       0\n",
       "Outlet_Identifier              0\n",
       "Outlet_Establishment_Year      0\n",
       "Outlet_Size                  470\n",
       "Outlet_Location_Type           0\n",
       "Outlet_Type                    0\n",
       "dtype: int64"
      ]
     },
     "execution_count": 11,
     "metadata": {},
     "output_type": "execute_result"
    }
   ],
   "source": [
    "test.isnull().sum()"
   ]
  },
  {
   "cell_type": "markdown",
   "id": "67cd69637822d113",
   "metadata": {},
   "source": [
    "## 4 데이터 전처리"
   ]
  },
  {
   "cell_type": "code",
   "execution_count": 12,
   "id": "483ee6664fb6b4d4",
   "metadata": {
    "ExecuteTime": {
     "end_time": "2024-10-15T06:17:53.901496Z",
     "start_time": "2024-10-15T06:17:53.896204Z"
    }
   },
   "outputs": [
    {
     "data": {
      "text/plain": [
       "['Item_Identifier',\n",
       " 'Item_Fat_Content',\n",
       " 'Item_Type',\n",
       " 'Outlet_Identifier',\n",
       " 'Outlet_Size',\n",
       " 'Outlet_Location_Type',\n",
       " 'Outlet_Type']"
      ]
     },
     "execution_count": 12,
     "metadata": {},
     "output_type": "execute_result"
    }
   ],
   "source": [
    "# object 컬럼만 리스트로 만든다\n",
    "list(train.columns[train.dtypes==object])"
   ]
  },
  {
   "cell_type": "code",
   "execution_count": 13,
   "id": "809f5e460d4ea4a9",
   "metadata": {
    "ExecuteTime": {
     "end_time": "2024-10-15T06:17:54.036173Z",
     "start_time": "2024-10-15T06:17:54.031731Z"
    }
   },
   "outputs": [
    {
     "data": {
      "text/plain": [
       "['Item_Identifier',\n",
       " 'Item_Fat_Content',\n",
       " 'Item_Type',\n",
       " 'Outlet_Identifier',\n",
       " 'Outlet_Size',\n",
       " 'Outlet_Location_Type',\n",
       " 'Outlet_Type']"
      ]
     },
     "execution_count": 13,
     "metadata": {},
     "output_type": "execute_result"
    }
   ],
   "source": [
    "cols = list(train.columns[train.dtypes==object])\n",
    "cols"
   ]
  },
  {
   "cell_type": "code",
   "execution_count": 14,
   "id": "4da2d733c91eea88",
   "metadata": {
    "ExecuteTime": {
     "end_time": "2024-10-15T06:17:54.251229Z",
     "start_time": "2024-10-15T06:17:54.245596Z"
    }
   },
   "outputs": [
    {
     "name": "stdout",
     "output_type": "stream",
     "text": [
      "(6818, 11) (1705, 11)\n"
     ]
    },
    {
     "data": {
      "text/plain": [
       "(8523, 11)"
      ]
     },
     "execution_count": 14,
     "metadata": {},
     "output_type": "execute_result"
    }
   ],
   "source": [
    "# target 컬럼을 변수에 옯겨두고 데이터를 합쳐서 인코딩한다.\n",
    "target = train.pop('Item_Outlet_Sales')\n",
    "print(train.shape,test.shape)\n",
    "\n",
    "# 인코딩을 위해 train과 test 병합\n",
    "df = pd.concat([train,test])\n",
    "df.shape"
   ]
  },
  {
   "cell_type": "code",
   "execution_count": 15,
   "id": "e3a70a8d6647b2d1",
   "metadata": {
    "ExecuteTime": {
     "end_time": "2024-10-15T06:17:54.338821Z",
     "start_time": "2024-10-15T06:17:54.335838Z"
    }
   },
   "outputs": [],
   "source": [
    "# Item_Identifier는 train과 test의 카테고리(종류)가 달라 모델 학습 시 에러가 발생한다.\n",
    "# 데이터셋을 합쳐서 진행하거나, Item_Identifier를 제거하는 방법도 있다."
   ]
  },
  {
   "cell_type": "markdown",
   "id": "6cc4d3152a2d2f9d",
   "metadata": {},
   "source": [
    "### 레이블 인코딩"
   ]
  },
  {
   "cell_type": "code",
   "execution_count": 16,
   "id": "8928e045a9376ebe",
   "metadata": {
    "ExecuteTime": {
     "end_time": "2024-10-15T06:17:54.471311Z",
     "start_time": "2024-10-15T06:17:54.455825Z"
    }
   },
   "outputs": [],
   "source": [
    "from sklearn.preprocessing import LabelEncoder\n",
    "\n",
    "le = LabelEncoder()\n",
    "for col in cols:\n",
    "    df[col] = le.fit_transform(df[col])"
   ]
  },
  {
   "cell_type": "markdown",
   "id": "7ec217a012176a55",
   "metadata": {},
   "source": [
    "### 데이터 다시 분할"
   ]
  },
  {
   "cell_type": "code",
   "execution_count": 17,
   "id": "a83ea07c2d60ef3a",
   "metadata": {
    "ExecuteTime": {
     "end_time": "2024-10-15T06:17:54.552423Z",
     "start_time": "2024-10-15T06:17:54.546313Z"
    }
   },
   "outputs": [
    {
     "data": {
      "text/plain": [
       "((6818, 11), (1705, 11))"
      ]
     },
     "execution_count": 17,
     "metadata": {},
     "output_type": "execute_result"
    }
   ],
   "source": [
    "train = df.iloc[:len(train)].copy()\n",
    "test = df.iloc[len(train):].copy()\n",
    "train.shape, test.shape"
   ]
  },
  {
   "cell_type": "markdown",
   "id": "2bfdfcd23c47bd65",
   "metadata": {},
   "source": [
    "### 결측치 채우기"
   ]
  },
  {
   "cell_type": "code",
   "execution_count": 18,
   "id": "1f62ee98ba113dc3",
   "metadata": {
    "ExecuteTime": {
     "end_time": "2024-10-15T06:17:54.690867Z",
     "start_time": "2024-10-15T06:17:54.683476Z"
    }
   },
   "outputs": [],
   "source": [
    "# 결측치를 최솟값과 최빈값으로 채운다.\n",
    "train['Item_Weight'] = train['Item_Weight'].fillna(train['Item_Weight'].min())\n",
    "train['Outlet_Size'] = train['Outlet_Size'].fillna(train['Outlet_Size'].mode()[0])\n",
    "\n",
    "test['Item_Weight'] = test['Item_Weight'].fillna(train['Item_Weight'].min())\n",
    "test['Outlet_Size'] = test['Outlet_Size'].fillna(train['Outlet_Size'].mode()[0])"
   ]
  },
  {
   "cell_type": "code",
   "execution_count": 19,
   "id": "c025371139cdaa8",
   "metadata": {
    "ExecuteTime": {
     "end_time": "2024-10-15T06:17:54.779030Z",
     "start_time": "2024-10-15T06:17:54.771871Z"
    }
   },
   "outputs": [
    {
     "data": {
      "text/plain": [
       "((6818, 10), (1705, 10))"
      ]
     },
     "execution_count": 19,
     "metadata": {},
     "output_type": "execute_result"
    }
   ],
   "source": [
    "# 전처리 중 스케일링, 이상치 등은 선택이므로 생략한다.\n",
    "# item_id는 삭제\n",
    "train.drop('Item_Identifier', axis=1, inplace=True) # axis = 1 -> 열 삭제\n",
    "test.drop('Item_Identifier', axis=1, inplace=True)\n",
    "\n",
    "train.shape, test.shape"
   ]
  },
  {
   "cell_type": "markdown",
   "id": "525c1ea12561a0ef",
   "metadata": {},
   "source": [
    "## 5 검증 데이터 나누기\n",
    "- 데이터를 학습용과 검증용으로 나눌 때 주의해야 할 사항\n",
    "    1. 학습 데이터(X)에는 타깃 변수(y)를 포함시키지 않아야 한다. (타깃 변수를 포함시키게 되면 모델은 이미 정답을 알고 있게 된다. 마치 시험 문제지에 답이 이미 제공된 것과 같아서 모델이 실제로 예측 능력을 갖췄는지 평가할 수 없게 만든다.\n",
    "    2. 타깃 데이터(y)는 데이터프레임에서 단일 컬럼을 선택해 시리즈 형태로 있어야 한다.\n",
    "    3. random_state 값을 설정해 고정시키면 코드를 실행할 때마다 동일한 방식으로 데이터가 나눠진다. 일관되게 평가가능하다."
   ]
  },
  {
   "cell_type": "code",
   "execution_count": 20,
   "id": "8f36e5736eafcaa4",
   "metadata": {
    "ExecuteTime": {
     "end_time": "2024-10-15T06:17:54.950023Z",
     "start_time": "2024-10-15T06:17:54.939743Z"
    }
   },
   "outputs": [
    {
     "data": {
      "text/plain": [
       "((5454, 10), (1364, 10), (5454,), (1364,))"
      ]
     },
     "execution_count": 20,
     "metadata": {},
     "output_type": "execute_result"
    }
   ],
   "source": [
    "from sklearn.model_selection import train_test_split\n",
    "\n",
    "X_train,X_val,y_train,y_val = train_test_split(\n",
    "    train,\n",
    "    target,\n",
    "    test_size = 0.2,\n",
    "    random_state= 0 \n",
    ")\n",
    "X_train.shape, X_val.shape, y_train.shape, y_val.shape"
   ]
  },
  {
   "cell_type": "markdown",
   "id": "5d4a231f1563a2a8",
   "metadata": {},
   "source": [
    "## 6 머신러닝 학습 및 평가"
   ]
  },
  {
   "cell_type": "markdown",
   "id": "ca81670a3586d50",
   "metadata": {},
   "source": [
    "### 선형 회귀 (Linear Regression)\n",
    "    MSE, MAE, RMSE는 낮을수록 좋고, R^2은 1에 가까울수록 좋다.\n"
   ]
  },
  {
   "cell_type": "code",
   "execution_count": 21,
   "id": "80ff102982f23350",
   "metadata": {
    "ExecuteTime": {
     "end_time": "2024-10-15T06:17:55.112791Z",
     "start_time": "2024-10-15T06:17:55.015027Z"
    }
   },
   "outputs": [
    {
     "name": "stdout",
     "output_type": "stream",
     "text": [
      "MSE : 1282923.0729833895\n",
      "MAE : 865.1968401416271\n",
      "r2 스코어 : 0.5058168396924843\n",
      "RMSE : 1132.6619411737067\n"
     ]
    }
   ],
   "source": [
    "# 선형회귀\n",
    "from sklearn.metrics import mean_squared_error\n",
    "from sklearn.metrics import mean_absolute_error\n",
    "from sklearn.metrics import r2_score\n",
    "from sklearn.linear_model import LinearRegression\n",
    "\n",
    "def rmse(y_val,y_pred):\n",
    "    return mean_squared_error(y_val,y_pred) ** 0.5\n",
    "\n",
    "lr = LinearRegression()\n",
    "lr.fit(X_train,y_train) # train 데이터 학습\n",
    "y_pred = lr.predict(X_val) # 검증 데이터 예측\n",
    "\n",
    "result = mean_squared_error(y_val,y_pred)\n",
    "print(f'MSE : {result}')\n",
    "\n",
    "result = mean_absolute_error(y_val,y_pred)\n",
    "print(f'MAE : {result}')\n",
    "\n",
    "result = r2_score(y_val,y_pred)\n",
    "print(f'r2 스코어 : {result}')\n",
    "\n",
    "result = rmse(y_val,y_pred)\n",
    "print(f'RMSE : {result}')"
   ]
  },
  {
   "cell_type": "markdown",
   "id": "c9eeff0491a04aa1",
   "metadata": {},
   "source": [
    "### 랜덤포레스트"
   ]
  },
  {
   "cell_type": "code",
   "execution_count": 22,
   "id": "3de8f82affdc956f",
   "metadata": {
    "ExecuteTime": {
     "end_time": "2024-10-15T06:19:44.276711Z",
     "start_time": "2024-10-15T06:19:38.403774Z"
    }
   },
   "outputs": [
    {
     "name": "stdout",
     "output_type": "stream",
     "text": [
      "MSE : 1101802.8117346708\n",
      "MAE : 747.2971172067448\n",
      "r2 스코어 : 0.5755845326933362\n",
      "RMSE : 1049.6679530854844\n"
     ]
    }
   ],
   "source": [
    "# 랜덤포레스트\n",
    "from sklearn.ensemble import RandomForestRegressor\n",
    "\n",
    "rf = RandomForestRegressor(random_state = 0)\n",
    "rf.fit(X_train, y_train)\n",
    "y_pred = rf.predict(X_val)\n",
    "\n",
    "result = mean_squared_error(y_val,y_pred)\n",
    "print(f'MSE : {result}')\n",
    "\n",
    "result = mean_absolute_error(y_val,y_pred)\n",
    "print(f'MAE : {result}')\n",
    "\n",
    "result = r2_score(y_val,y_pred)\n",
    "print(f'r2 스코어 : {result}')\n",
    "\n",
    "result = rmse(y_val,y_pred)\n",
    "print(f'RMSE : {result}')"
   ]
  },
  {
   "cell_type": "markdown",
   "id": "cc221b306dc2fb15",
   "metadata": {},
   "source": [
    "### LightGBM"
   ]
  },
  {
   "cell_type": "code",
   "execution_count": 23,
   "id": "6142a5aa421cf73c",
   "metadata": {
    "ExecuteTime": {
     "end_time": "2024-10-15T06:19:45.779327Z",
     "start_time": "2024-10-15T06:19:44.278958Z"
    }
   },
   "outputs": [
    {
     "name": "stdout",
     "output_type": "stream",
     "text": [
      "[LightGBM] [Info] Auto-choosing col-wise multi-threading, the overhead of testing was 0.000638 seconds.\n",
      "You can set `force_col_wise=true` to remove the overhead.\n",
      "[LightGBM] [Info] Total Bins 787\n",
      "[LightGBM] [Info] Number of data points in the train set: 5454, number of used features: 10\n",
      "[LightGBM] [Info] Start training from score 2202.546849\n",
      "MSE : 1115654.3482227568\n",
      "MAE : 736.6367966578568\n",
      "r2 스코어 : 0.5702489079618556\n",
      "RMSE : 1056.2454015155554\n"
     ]
    }
   ],
   "source": [
    "# LightGBM\n",
    "import lightgbm as lgb\n",
    "\n",
    "model = lgb.LGBMRegressor(random_state=0, verbose = 1)\n",
    "model.fit(X_train,y_train)\n",
    "y_pred = model.predict(X_val)\n",
    "\n",
    "result = mean_squared_error(y_val,y_pred)\n",
    "print(f'MSE : {result}')\n",
    "\n",
    "result = mean_absolute_error(y_val,y_pred)\n",
    "print(f'MAE : {result}')\n",
    "\n",
    "result = r2_score(y_val,y_pred)\n",
    "print(f'r2 스코어 : {result}')\n",
    "\n",
    "result = rmse(y_val,y_pred)\n",
    "print(f'RMSE : {result}')"
   ]
  },
  {
   "cell_type": "markdown",
   "id": "aef80516483aecb9",
   "metadata": {},
   "source": [
    "## 7 예측 및 결과 파일 생성"
   ]
  },
  {
   "cell_type": "code",
   "execution_count": 24,
   "id": "494b9df027e0d843",
   "metadata": {
    "ExecuteTime": {
     "end_time": "2024-10-15T06:20:24.597445Z",
     "start_time": "2024-10-15T06:20:24.587571Z"
    }
   },
   "outputs": [
    {
     "data": {
      "text/plain": [
       "array([1226.50504175,  830.18920951, 1788.76644309, ..., 3666.34876099,\n",
       "        990.65125496, 1224.1960178 ])"
      ]
     },
     "execution_count": 24,
     "metadata": {},
     "output_type": "execute_result"
    }
   ],
   "source": [
    "pred = model.predict(test)\n",
    "pred"
   ]
  },
  {
   "cell_type": "code",
   "execution_count": 25,
   "id": "3be383544e39ddee",
   "metadata": {
    "ExecuteTime": {
     "end_time": "2024-10-15T06:20:50.080495Z",
     "start_time": "2024-10-15T06:20:50.067049Z"
    }
   },
   "outputs": [],
   "source": [
    "submit = pd.DataFrame({'pred':pred})\n",
    "submit.to_csv('result.csv',index = False)"
   ]
  },
  {
   "cell_type": "code",
   "execution_count": 26,
   "id": "43e07a7cf40d3188",
   "metadata": {},
   "outputs": [
    {
     "data": {
      "text/html": [
       "<div>\n",
       "<style scoped>\n",
       "    .dataframe tbody tr th:only-of-type {\n",
       "        vertical-align: middle;\n",
       "    }\n",
       "\n",
       "    .dataframe tbody tr th {\n",
       "        vertical-align: top;\n",
       "    }\n",
       "\n",
       "    .dataframe thead th {\n",
       "        text-align: right;\n",
       "    }\n",
       "</style>\n",
       "<table border=\"1\" class=\"dataframe\">\n",
       "  <thead>\n",
       "    <tr style=\"text-align: right;\">\n",
       "      <th></th>\n",
       "      <th>pred</th>\n",
       "    </tr>\n",
       "  </thead>\n",
       "  <tbody>\n",
       "    <tr>\n",
       "      <th>0</th>\n",
       "      <td>1226.505042</td>\n",
       "    </tr>\n",
       "    <tr>\n",
       "      <th>1</th>\n",
       "      <td>830.189210</td>\n",
       "    </tr>\n",
       "    <tr>\n",
       "      <th>2</th>\n",
       "      <td>1788.766443</td>\n",
       "    </tr>\n",
       "    <tr>\n",
       "      <th>3</th>\n",
       "      <td>1644.510784</td>\n",
       "    </tr>\n",
       "    <tr>\n",
       "      <th>4</th>\n",
       "      <td>2831.798098</td>\n",
       "    </tr>\n",
       "  </tbody>\n",
       "</table>\n",
       "</div>"
      ],
      "text/plain": [
       "          pred\n",
       "0  1226.505042\n",
       "1   830.189210\n",
       "2  1788.766443\n",
       "3  1644.510784\n",
       "4  2831.798098"
      ]
     },
     "execution_count": 26,
     "metadata": {},
     "output_type": "execute_result"
    }
   ],
   "source": [
    "submit_read = pd.read_csv('./result.csv')\n",
    "submit_read.head()"
   ]
  }
 ],
 "metadata": {
  "kernelspec": {
   "display_name": "base",
   "language": "python",
   "name": "python3"
  },
  "language_info": {
   "codemirror_mode": {
    "name": "ipython",
    "version": 3
   },
   "file_extension": ".py",
   "mimetype": "text/x-python",
   "name": "python",
   "nbconvert_exporter": "python",
   "pygments_lexer": "ipython3",
   "version": "3.12.4"
  }
 },
 "nbformat": 4,
 "nbformat_minor": 5
}
