{
 "cells": [
  {
   "cell_type": "markdown",
   "id": "4343f5f6",
   "metadata": {},
   "source": [
    "# 머신러닝 평가 지표"
   ]
  },
  {
   "cell_type": "markdown",
   "id": "dd75c679d53ae21a",
   "metadata": {},
   "source": [
    "## 1 이진분류 평가지표"
   ]
  },
  {
   "cell_type": "code",
   "execution_count": 1,
   "id": "initial_id",
   "metadata": {
    "ExecuteTime": {
     "end_time": "2024-10-15T06:26:06.454113Z",
     "start_time": "2024-10-15T06:26:05.291832Z"
    },
    "collapsed": true
   },
   "outputs": [],
   "source": [
    "# 이진분류 데이터\n",
    "import pandas as pd\n",
    "y_true = pd.DataFrame([1, 1, 1, 0, 0, 1, 1, 1, 1, 0]) #실제값\n",
    "y_pred = pd.DataFrame([1, 0, 1, 1, 0, 0, 0, 1, 1, 0]) #예측값\n",
    "\n",
    "y_true_str = pd.DataFrame(['A', 'A', 'A', 'B', 'B', 'A', 'A', 'A', 'A', 'B']) #실제값\n",
    "y_pred_str = pd.DataFrame(['A', 'B', 'A', 'A', 'B', 'B', 'B', 'A', 'A', 'B']) #예측값"
   ]
  },
  {
   "cell_type": "markdown",
   "id": "57b1cbb34d0ffaf4",
   "metadata": {},
   "source": [
    "### 정확도(Accuracy)\n",
    "- 전체 데이터 중에서 올바르게 예측된 데이터의 비율\n",
    "- 데이터가 불균형할 경우 정확도만으로는 충분한 평가가 어렵다.\n",
    "- 데이터가 균형을 이루는 경우에만 정확도가 적절한 평가지표가 된다.\n",
    "- 결괏값은 1에 가까울수록 좋다."
   ]
  },
  {
   "cell_type": "code",
   "execution_count": 2,
   "id": "8ddcb22813e8fadb",
   "metadata": {
    "ExecuteTime": {
     "end_time": "2024-10-15T06:26:10.033219Z",
     "start_time": "2024-10-15T06:26:06.455117Z"
    }
   },
   "outputs": [
    {
     "name": "stdout",
     "output_type": "stream",
     "text": [
      "정확도 : 0.6\n",
      "정확도 : 0.6\n"
     ]
    }
   ],
   "source": [
    "# 정확도(Accuracy)\n",
    "from sklearn.metrics import accuracy_score\n",
    "\n",
    "accuracy = accuracy_score(y_true,y_pred)\n",
    "print(f'정확도 : {accuracy}')\n",
    "\n",
    "accuracy = accuracy_score(y_true_str,y_pred_str)\n",
    "print(f'정확도 : {accuracy}')"
   ]
  },
  {
   "cell_type": "markdown",
   "id": "7b5697311a094ab",
   "metadata": {},
   "source": [
    "### 정밀도(Precision)\n",
    "- 양성으로 예측된 데이터 중 실제로 양성인 비율을 나타낸다.\n",
    "- 모델이 양성이라고 예측한 경우 중 얼마나 정확하게 예측했는지를 평가하는 지표다.\n",
    "- 결과는 1에 가까울수록 좋다."
   ]
  },
  {
   "cell_type": "code",
   "execution_count": 4,
   "id": "20703ee37bbcdf",
   "metadata": {
    "ExecuteTime": {
     "end_time": "2024-10-15T06:27:16.027487Z",
     "start_time": "2024-10-15T06:27:16.005579Z"
    }
   },
   "outputs": [
    {
     "name": "stdout",
     "output_type": "stream",
     "text": [
      "정밀도 : 0.8\n",
      "정밀도 : 0.8\n"
     ]
    }
   ],
   "source": [
    "# 정밀도(Precision)\n",
    "from sklearn.metrics import precision_score\n",
    "\n",
    "precision = precision_score(y_true,y_pred)\n",
    "print(f'정밀도 : {precision}')\n",
    "\n",
    "precision = precision_score(y_true_str,y_pred_str,pos_label='A')\n",
    "print(f'정밀도 : {precision}')"
   ]
  },
  {
   "cell_type": "markdown",
   "id": "464e7b5344078bf5",
   "metadata": {},
   "source": [
    "### 재현율(Recall)\n",
    "- 실제 양성인 데이터 중 모델이 양성으로 올바르게 예측한 비율을 나타낸다.\n",
    "- 모델이 실제 양성인 데이터를 얼마나 잘 감지하는지를 측정한다.\n",
    "- 문자 형태의 경우 양성 클래스 지정이 필요하다.\n",
    "- 결과는 1에 가까울수록 좋다."
   ]
  },
  {
   "cell_type": "code",
   "execution_count": 5,
   "id": "23cbac75a8fa6264",
   "metadata": {
    "ExecuteTime": {
     "end_time": "2024-10-15T06:29:38.583718Z",
     "start_time": "2024-10-15T06:29:38.565135Z"
    }
   },
   "outputs": [
    {
     "name": "stdout",
     "output_type": "stream",
     "text": [
      "재현율 : 0.5714285714285714\n",
      "재현율 : 0.5714285714285714\n"
     ]
    }
   ],
   "source": [
    "# 재현율(Recall)\n",
    "from sklearn.metrics import recall_score\n",
    "\n",
    "recall = recall_score(y_true, y_pred)\n",
    "print(f'재현율 : {recall}')\n",
    "\n",
    "recall = recall_score(y_true_str,y_pred_str,pos_label='A')\n",
    "print(f'재현율 : {recall}')"
   ]
  },
  {
   "cell_type": "markdown",
   "id": "6dfc1b8de630185b",
   "metadata": {},
   "source": [
    "### F1 스코어(F1 Score)\n",
    "- 정밀도와 재현율의 조화 평균을 나타낸다.\n",
    "- 불균형 데이터를 평가하는데 유용하다\n",
    "- 문자 형태의 경우 양성(1) 클래스 지정이 필요하다.\n",
    "- 결과는 1에 가까울수록 좋다."
   ]
  },
  {
   "cell_type": "code",
   "execution_count": 6,
   "id": "fb9cced6a62a2182",
   "metadata": {
    "ExecuteTime": {
     "end_time": "2024-10-15T06:29:35.594348Z",
     "start_time": "2024-10-15T06:29:35.575396Z"
    }
   },
   "outputs": [
    {
     "name": "stdout",
     "output_type": "stream",
     "text": [
      "F1 스코어 : 0.6666666666666666\n",
      "F1 스코어 : 0.6666666666666666\n"
     ]
    }
   ],
   "source": [
    "# F1 스코어(F1 Score)\n",
    "from sklearn.metrics import f1_score\n",
    "\n",
    "f1 = f1_score(y_true,y_pred)\n",
    "print(f'F1 스코어 : {f1}')\n",
    "f1 = f1_score(y_true_str,y_pred_str,pos_label='A')\n",
    "print(f'F1 스코어 : {f1}')"
   ]
  },
  {
   "cell_type": "markdown",
   "id": "13e3ca9a6c57bf92",
   "metadata": {},
   "source": [
    "### ROC-AUC\n",
    "- ROC 곡선 아래 영역, 즉 AUC는 모델의 분류 성능을 평가하는 지표다.\n",
    "- 양성 클래스에 속할 확률을 예측하기 위해 모델에 predict_proba()를 사용\n",
    "- ROC-AUC 값이 1에 가까울수록 모델의 성능이 우수함을 의미한다."
   ]
  },
  {
   "cell_type": "code",
   "execution_count": 7,
   "id": "5bb3c0718e213f18",
   "metadata": {
    "ExecuteTime": {
     "end_time": "2024-10-15T06:32:10.276250Z",
     "start_time": "2024-10-15T06:32:10.266012Z"
    }
   },
   "outputs": [
    {
     "name": "stdout",
     "output_type": "stream",
     "text": [
      "ROC-AUC : 0.86\n"
     ]
    }
   ],
   "source": [
    "# ROC-AUC\n",
    "from sklearn.metrics import roc_auc_score\n",
    "\n",
    "# 실제값 (0:음성, 1:양성)\n",
    "y_true = pd.DataFrame([0,1,0,1,1,0,0,0,1,1])\n",
    "# 예측값 중 양성(1) 확률\n",
    "y_pred_proba = pd.DataFrame([0.4,0.9,0.1,0.3,0.8,0.6,0.4,0.2,0.7,0.6])\n",
    "\n",
    "roc_auc = roc_auc_score(y_true,y_pred_proba)\n",
    "print(f'ROC-AUC : {roc_auc}')"
   ]
  },
  {
   "cell_type": "code",
   "execution_count": 9,
   "id": "ab11e7211c2e3a8b",
   "metadata": {
    "ExecuteTime": {
     "end_time": "2024-10-15T06:32:31.307064Z",
     "start_time": "2024-10-15T06:32:31.297889Z"
    }
   },
   "outputs": [
    {
     "name": "stdout",
     "output_type": "stream",
     "text": [
      "ROC_AUC : 0.86\n"
     ]
    }
   ],
   "source": [
    "# 실제값\n",
    "y_true_str = pd.DataFrame(['A','B','A','B','B','A','A','A','B','B'])\n",
    "# 예측갑 중 B 확율\n",
    "y_pred_proba_str = pd.DataFrame([0.4,0.9,0.1,0.3,0.8,0.6,0.4,0.2,0.7,0.6])\n",
    "\n",
    "roc_auc = roc_auc_score(y_true_str,y_pred_proba_str)\n",
    "print(f'ROC_AUC : {roc_auc}')"
   ]
  },
  {
   "cell_type": "markdown",
   "id": "8897c85761a20f49",
   "metadata": {},
   "source": [
    "## 2 다중분류 평가지표\n",
    "- 이진 분류 평가지표와 비슷하지만 평균을 계산하는 방식(파라미터)이 필요하다.\n",
    "\n",
    "    - Macro 평균 : 각 클래스에 대한 정밀도/재현률/F1 점수의 평균을 계산\n",
    "    - Micro 평균 : 모든 클래스에 대한 전체적인 정밀도/재현률/F1 점수를 계산\n",
    "    - Weighted 평균 : 각 클래스에 대한 정밀도/재현률/F1 점수의 가중 평균을 계산"
   ]
  },
  {
   "cell_type": "code",
   "execution_count": 12,
   "id": "d35b9412d932aeea",
   "metadata": {
    "ExecuteTime": {
     "end_time": "2024-10-15T06:35:39.201588Z",
     "start_time": "2024-10-15T06:35:39.195124Z"
    }
   },
   "outputs": [],
   "source": [
    "# 다중분류 데이터\n",
    "y_true = pd.DataFrame([1, 2, 3, 3, 2, 1, 3, 3, 2, 1]) # 실제값\n",
    "y_pred = pd.DataFrame([1, 2, 1, 3, 2, 1, 1, 2, 2, 1]) # 예측값\n",
    "\n",
    "y_true_str = pd.DataFrame(['A', 'B', 'C', 'C', 'B', 'A', 'C', 'C', 'B', 'A']) # 실제값\n",
    "y_pred_str = pd.DataFrame(['A', 'B', 'A', 'C', 'B', 'A', 'A', 'B', 'B', 'A']) # 예측값"
   ]
  },
  {
   "cell_type": "markdown",
   "id": "361623b4a1532e04",
   "metadata": {},
   "source": [
    "### 정확도(Accuracy)"
   ]
  },
  {
   "cell_type": "code",
   "execution_count": 15,
   "id": "2a3f32b5301c0ab",
   "metadata": {
    "ExecuteTime": {
     "end_time": "2024-10-15T06:35:54.868452Z",
     "start_time": "2024-10-15T06:35:54.857691Z"
    }
   },
   "outputs": [
    {
     "name": "stdout",
     "output_type": "stream",
     "text": [
      "정확도 : 0.7\n",
      "정확도 : 0.7\n"
     ]
    }
   ],
   "source": [
    "# 정확도(Accuracy)\n",
    "from sklearn.metrics import accuracy_score\n",
    "\n",
    "accuracy = accuracy_score(y_true,y_pred)\n",
    "print(f'정확도 : {accuracy}')\n",
    "\n",
    "accuracy = accuracy_score(y_true_str,y_pred_str)\n",
    "print(f'정확도 : {accuracy}')"
   ]
  },
  {
   "cell_type": "markdown",
   "id": "7dd12ee8779759f8",
   "metadata": {},
   "source": [
    "### 정밀도(Precision)"
   ]
  },
  {
   "cell_type": "code",
   "execution_count": 16,
   "id": "472d87e1f67c8df9",
   "metadata": {
    "ExecuteTime": {
     "end_time": "2024-10-15T06:36:09.436465Z",
     "start_time": "2024-10-15T06:36:09.420185Z"
    }
   },
   "outputs": [
    {
     "name": "stdout",
     "output_type": "stream",
     "text": [
      "정밀도 : 0.7833333333333333\n",
      "정밀도 : 0.7833333333333333\n"
     ]
    }
   ],
   "source": [
    "# 정밀도(Precision)\n",
    "from sklearn.metrics import precision_score\n",
    "\n",
    "precision = precision_score(y_true,y_pred,average='macro')\n",
    "print(f'정밀도 : {precision}')\n",
    "\n",
    "precision = precision_score(y_true_str,y_pred_str,average='macro')\n",
    "print(f'정밀도 : {precision}')"
   ]
  },
  {
   "cell_type": "markdown",
   "id": "6bcf956f607e5abc",
   "metadata": {},
   "source": [
    "### 재현율(Recall)"
   ]
  },
  {
   "cell_type": "code",
   "execution_count": 17,
   "id": "43e0d923590df6e8",
   "metadata": {
    "ExecuteTime": {
     "end_time": "2024-10-15T06:36:25.183783Z",
     "start_time": "2024-10-15T06:36:25.159230Z"
    }
   },
   "outputs": [
    {
     "name": "stdout",
     "output_type": "stream",
     "text": [
      "재현율 : 0.75\n",
      "재현율 : 0.75\n"
     ]
    }
   ],
   "source": [
    "# 재현율(Recall)\n",
    "from sklearn.metrics import recall_score\n",
    "\n",
    "recall = recall_score(y_true,y_pred,average='macro')\n",
    "print(f'재현율 : {recall}')\n",
    "\n",
    "recall = recall_score(y_true_str,y_pred_str,average='macro')\n",
    "print(f'재현율 : {recall}')"
   ]
  },
  {
   "cell_type": "markdown",
   "id": "fd30fd074311a3d",
   "metadata": {},
   "source": [
    "### F1 스코어(F1 Score)"
   ]
  },
  {
   "cell_type": "code",
   "execution_count": 18,
   "id": "e6cc582e881eac55",
   "metadata": {
    "ExecuteTime": {
     "end_time": "2024-10-15T06:36:41.305714Z",
     "start_time": "2024-10-15T06:36:41.286670Z"
    }
   },
   "outputs": [
    {
     "name": "stdout",
     "output_type": "stream",
     "text": [
      "f1 스코어 : 0.669047619047619\n",
      "f1 스코어 : 0.669047619047619\n"
     ]
    }
   ],
   "source": [
    "# F1 스코어(F1 Score)\n",
    "from sklearn.metrics import f1_score\n",
    "\n",
    "f1 = f1_score(y_true,y_pred,average='macro')\n",
    "print(f'f1 스코어 : {f1}')\n",
    "\n",
    "f1 = f1_score(y_true_str,y_pred_str,average='macro')\n",
    "print(f'f1 스코어 : {f1}')"
   ]
  },
  {
   "cell_type": "markdown",
   "id": "d62fc50215633fe3",
   "metadata": {},
   "source": [
    "## 3 회귀 평가지표\n",
    "- 대부분 오차를 측정한다.\n",
    "- 오차는 작을수록 좋으니 0에 가까울수록 성능이 좋은 모델이다.\n",
    "- 결정 계수(R-squared)만 유일하게 높을수록(1에 가까울수록) 좋다."
   ]
  },
  {
   "cell_type": "code",
   "execution_count": 19,
   "id": "f4174bddf919a981",
   "metadata": {
    "ExecuteTime": {
     "end_time": "2024-10-15T06:38:12.465014Z",
     "start_time": "2024-10-15T06:38:12.461072Z"
    }
   },
   "outputs": [],
   "source": [
    "# 회귀 데이터\n",
    "import pandas as pd\n",
    "y_true = pd.DataFrame([1, 2, 5, 2, 4, 4, 7, 9]) # 실제값\n",
    "y_pred = pd.DataFrame([1.14, 2.53, 4.87, 3.08, 4.21, 5.53, 7.51, 10.32]) # 예측값"
   ]
  },
  {
   "cell_type": "markdown",
   "id": "47dff9d80be09711",
   "metadata": {},
   "source": [
    "### MSE(Mean Squared Error)\n",
    "- 실제 값과 예측값의 차이를 제곱해 평균한 값이다.\n",
    "- 큰 오차에 대해 가중치를 부여한다."
   ]
  },
  {
   "cell_type": "code",
   "execution_count": 20,
   "id": "a5df9c7ddfa8e5cb",
   "metadata": {
    "ExecuteTime": {
     "end_time": "2024-10-15T06:38:16.991373Z",
     "start_time": "2024-10-15T06:38:16.985679Z"
    }
   },
   "outputs": [
    {
     "name": "stdout",
     "output_type": "stream",
     "text": [
      "MSE : 0.7339125000000001\n"
     ]
    }
   ],
   "source": [
    "# MSE(Mean Squared Error)\n",
    "from sklearn.metrics import mean_squared_error\n",
    "\n",
    "mse = mean_squared_error(y_true,y_pred)\n",
    "print(f'MSE : {mse}')"
   ]
  },
  {
   "cell_type": "markdown",
   "id": "860c0986eacf176e",
   "metadata": {},
   "source": [
    "### MAE(Mean Absolute Error)\n",
    "- 실제 값과 예측값의 차이를 절댓값으로 계산하고 평균한 값이다."
   ]
  },
  {
   "cell_type": "code",
   "execution_count": 21,
   "id": "e3a32d062f5fbd59",
   "metadata": {
    "ExecuteTime": {
     "end_time": "2024-10-15T06:38:22.734433Z",
     "start_time": "2024-10-15T06:38:22.728329Z"
    }
   },
   "outputs": [
    {
     "name": "stdout",
     "output_type": "stream",
     "text": [
      "MAE : 0.68125\n"
     ]
    }
   ],
   "source": [
    "# MAE(Mean Absolute Error)\n",
    "from sklearn.metrics import mean_absolute_error\n",
    "\n",
    "mae = mean_absolute_error(y_true,y_pred)\n",
    "print(f'MAE : {mae}')"
   ]
  },
  {
   "cell_type": "markdown",
   "id": "6ca178caa33b5fdc",
   "metadata": {},
   "source": [
    "### 결정 계수(R-squared)\n",
    "- 회귀식이 얼마나 잘 예측(설명)하는지를 나타내는 지표다.\n",
    "- R^2이라고도 불린다."
   ]
  },
  {
   "cell_type": "code",
   "execution_count": 22,
   "id": "36d9d8c0c793cf42",
   "metadata": {
    "ExecuteTime": {
     "end_time": "2024-10-15T06:38:28.223460Z",
     "start_time": "2024-10-15T06:38:28.216703Z"
    }
   },
   "outputs": [
    {
     "name": "stdout",
     "output_type": "stream",
     "text": [
      "결정 계수 : 0.8859941747572815\n"
     ]
    }
   ],
   "source": [
    "# 결정 계수(R-squared)\n",
    "from sklearn.metrics import r2_score\n",
    "\n",
    "r2 = r2_score(y_true,y_pred)\n",
    "print(f'결정 계수 : {r2}')"
   ]
  },
  {
   "cell_type": "markdown",
   "id": "50d35aa313ceee0e",
   "metadata": {},
   "source": [
    "### RMSE(Root Mean Squared Error)\n",
    "- 실제 값과 예측값의 차이를 제곱해 평균을 낸 MSE에 제곱근을 적용한 값이다.\n",
    "- 큰 오차에 대해 가중치를 부여한다."
   ]
  },
  {
   "cell_type": "code",
   "execution_count": 23,
   "id": "bd62098cd094496f",
   "metadata": {
    "ExecuteTime": {
     "end_time": "2024-10-15T06:38:33.702336Z",
     "start_time": "2024-10-15T06:38:33.697333Z"
    }
   },
   "outputs": [
    {
     "name": "stdout",
     "output_type": "stream",
     "text": [
      "RMSE : 0.8566869323154171\n"
     ]
    }
   ],
   "source": [
    "# RMSE(Root Mean Squared Error)\n",
    "from sklearn.metrics import mean_squared_error\n",
    "\n",
    "mse = mean_squared_error(y_true,y_pred)\n",
    "rmse = mse ** 0.5\n",
    "print(f'RMSE : {rmse}')"
   ]
  },
  {
   "cell_type": "markdown",
   "id": "844119f18d37a6f2",
   "metadata": {},
   "source": [
    "### MSLE(Mean Squared Log Error)\n",
    "- 실제 값과 예측값의 로그를 취한 후 차이를 제곱해 평균한 값이다.\n",
    "- 작은 오차에 더 큰 가중치를 부여한다."
   ]
  },
  {
   "cell_type": "code",
   "execution_count": 24,
   "id": "6569536fafff4714",
   "metadata": {
    "ExecuteTime": {
     "end_time": "2024-10-15T06:38:41.414181Z",
     "start_time": "2024-10-15T06:38:41.407222Z"
    }
   },
   "outputs": [
    {
     "name": "stdout",
     "output_type": "stream",
     "text": [
      "MSLE : 0.027278486182156947\n"
     ]
    }
   ],
   "source": [
    "# MSLE(Mean Squared Log Error)\n",
    "from sklearn.metrics import mean_squared_log_error\n",
    "\n",
    "msle = mean_squared_log_error(y_true,y_pred)\n",
    "print(f'MSLE : {msle}')"
   ]
  },
  {
   "cell_type": "markdown",
   "id": "f153b576d9cc1e21",
   "metadata": {},
   "source": [
    "### RMSLE(Root Mean Squared Log Error)\n",
    "- 실제 값과 예측값의 로그를 취한 후 차이를 제곱해 평균한 값의 제곱근으로 계산한 값이다. \n",
    "- 작은 오차에 대해 더 큰 가중치를 부여한다."
   ]
  },
  {
   "cell_type": "code",
   "execution_count": 26,
   "id": "9b2a8244a324ed7e",
   "metadata": {
    "ExecuteTime": {
     "end_time": "2024-10-15T06:38:46.602678Z",
     "start_time": "2024-10-15T06:38:46.596415Z"
    }
   },
   "outputs": [
    {
     "name": "stdout",
     "output_type": "stream",
     "text": [
      "RMSLE : 0.16516199981278062\n"
     ]
    }
   ],
   "source": [
    "# RMSLE(Root Mean Squared Log Error)\n",
    "from sklearn.metrics import mean_squared_log_error\n",
    "\n",
    "rmsle = mean_squared_log_error(y_true,y_pred)**0.5\n",
    "print(f'RMSLE : {rmsle}')"
   ]
  },
  {
   "cell_type": "markdown",
   "id": "7914fdf180f1976c",
   "metadata": {},
   "source": [
    "### MAPE(Mean Absolute Percentage Error)\n",
    "- 예측값과 실제 값 사이의 오차를 백분율로 나타낸 지표다."
   ]
  },
  {
   "cell_type": "code",
   "execution_count": 27,
   "id": "26d65784e62fd961",
   "metadata": {
    "ExecuteTime": {
     "end_time": "2024-10-15T06:38:52.460440Z",
     "start_time": "2024-10-15T06:38:52.454939Z"
    }
   },
   "outputs": [
    {
     "name": "stdout",
     "output_type": "stream",
     "text": [
      "MAPE : 0    20.319048\n",
      "dtype: float64\n"
     ]
    }
   ],
   "source": [
    "# MAPE(Mean Absolute Percentage Error)\n",
    "mape = (abs(y_true - y_pred)/y_true).mean()*100\n",
    "\n",
    "print(f'MAPE : {mape}')"
   ]
  },
  {
   "cell_type": "markdown",
   "id": "8f73457f1df7eacf",
   "metadata": {},
   "source": [
    "#### MAPE를 사용할 때 분모에 0이 있으면??"
   ]
  },
  {
   "cell_type": "code",
   "execution_count": 28,
   "id": "f365c764064421c2",
   "metadata": {
    "ExecuteTime": {
     "end_time": "2024-10-15T06:43:34.101228Z",
     "start_time": "2024-10-15T06:43:34.095743Z"
    }
   },
   "outputs": [
    {
     "name": "stdout",
     "output_type": "stream",
     "text": [
      "MAPE : 0    20.319048\n",
      "dtype: float64\n"
     ]
    }
   ],
   "source": [
    "epsilon = 1e-10\n",
    "mape = (abs(y_true-y_pred)/(y_true+epsilon)).mean()*100\n",
    "print(f'MAPE : {mape}')"
   ]
  },
  {
   "cell_type": "markdown",
   "id": "324711de4764f066",
   "metadata": {},
   "source": [
    "## 평가 지표를 보고 분류 또는 회귀인지 알 수 있다.\n",
    "- 회귀 평가지표에는 R^2(결정계수)를 제외하고 Error(오차)를 계산하는 단어가 포함되어있다."
   ]
  }
 ],
 "metadata": {
  "kernelspec": {
   "display_name": "base",
   "language": "python",
   "name": "python3"
  },
  "language_info": {
   "codemirror_mode": {
    "name": "ipython",
    "version": 3
   },
   "file_extension": ".py",
   "mimetype": "text/x-python",
   "name": "python",
   "nbconvert_exporter": "python",
   "pygments_lexer": "ipython3",
   "version": "3.12.4"
  }
 },
 "nbformat": 4,
 "nbformat_minor": 5
}
